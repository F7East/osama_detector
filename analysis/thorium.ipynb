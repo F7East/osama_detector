{
 "cells": [
  {
   "cell_type": "code",
   "execution_count": 1,
   "metadata": {},
   "outputs": [],
   "source": [
    "import pandas as pd\n",
    "import numpy as np\n",
    "from matplotlib import pyplot as plt\n",
    "import matplotlib.ticker as ticker\n",
    "import os\n",
    "import datascience as dt\n",
    "%matplotlib inline"
   ]
  },
  {
   "cell_type": "code",
   "execution_count": 2,
   "metadata": {},
   "outputs": [],
   "source": [
    "directory_path = './data/toymodel 40/'"
   ]
  },
  {
   "cell_type": "code",
   "execution_count": 3,
   "metadata": {},
   "outputs": [],
   "source": [
    "def read_csv_files_into_dataframe(directory_path):\n",
    "\n",
    "    header  = ['EventID','TrackID','Particle','EnergyDeposited','XPosition','YPosition','ZPosition','LocalTime','Volume','Initial Energy']\n",
    "    # Get a list of all files in the given directory\n",
    "    file_list = os.listdir(directory_path)\n",
    "    \n",
    "    # Filter the list to include only CSV files\n",
    "    csv_files = [file for file in file_list if file.endswith('.csv')]\n",
    "    \n",
    "    # Initialize an empty DataFrame to store the combined data\n",
    "    combined_dataframe = pd.DataFrame()\n",
    "    \n",
    "    # Loop through each CSV file and read it into a DataFrame, then concatenate it to the combined DataFrame\n",
    "    for csv_file in csv_files:\n",
    "        file_path = os.path.join(directory_path, csv_file)\n",
    "        df = pd.read_csv(file_path, skiprows = 14, names = header)\n",
    "        combined_dataframe = pd.concat([combined_dataframe, df], ignore_index=True)\n",
    "    \n",
    "    return combined_dataframe\n",
    "\n",
    "combined_df = read_csv_files_into_dataframe(directory_path)\n",
    "combined_df = dt.Table.from_df(combined_df)\n",
    "\n",
    "# Now, the 'combined_df' variable holds the pandas DataFrame with data from all CSV files.\n"
   ]
  },
  {
   "cell_type": "code",
   "execution_count": 4,
   "metadata": {},
   "outputs": [
    {
     "data": {
      "text/html": [
       "<table border=\"1\" class=\"dataframe\">\n",
       "    <thead>\n",
       "        <tr>\n",
       "            <th>EventID</th> <th>TrackID</th> <th>Particle</th> <th>EnergyDeposited</th> <th>XPosition</th> <th>YPosition</th> <th>ZPosition</th> <th>LocalTime</th> <th>Volume</th> <th>Initial Energy</th>\n",
       "        </tr>\n",
       "    </thead>\n",
       "    <tbody>\n",
       "        <tr>\n",
       "            <td>6074   </td> <td>11     </td> <td>e-       </td> <td>6.05447e-24    </td> <td>0.364682 </td> <td>0.791031 </td> <td>2.5      </td> <td>2.29601  </td> <td>physSiliconSubstrate</td> <td>1.24949       </td>\n",
       "        </tr>\n",
       "        <tr>\n",
       "            <td>6074   </td> <td>11     </td> <td>e-       </td> <td>2.57301e-27    </td> <td>0.363774 </td> <td>0.790932 </td> <td>2.50015  </td> <td>2.29605  </td> <td>physSiliconOxide2   </td> <td>1.24949       </td>\n",
       "        </tr>\n",
       "        <tr>\n",
       "            <td>6074   </td> <td>11     </td> <td>e-       </td> <td>8.5767e-27     </td> <td>0.360749 </td> <td>0.790604 </td> <td>2.50065  </td> <td>2.2962   </td> <td>physSiliconNitride2 </td> <td>1.24949       </td>\n",
       "        </tr>\n",
       "        <tr>\n",
       "            <td>6177   </td> <td>42     </td> <td>anti_nu_e</td> <td>0              </td> <td>2.02737  </td> <td>-1.87883 </td> <td>2.5      </td> <td>0.176847 </td> <td>physSiliconSubstrate</td> <td>824.844       </td>\n",
       "        </tr>\n",
       "        <tr>\n",
       "            <td>6177   </td> <td>42     </td> <td>anti_nu_e</td> <td>0              </td> <td>2.02689  </td> <td>-1.87881 </td> <td>2.50015  </td> <td>0.176849 </td> <td>physSiliconOxide2   </td> <td>824.844       </td>\n",
       "        </tr>\n",
       "        <tr>\n",
       "            <td>6177   </td> <td>42     </td> <td>anti_nu_e</td> <td>0              </td> <td>2.02532  </td> <td>-1.87874 </td> <td>2.50065  </td> <td>0.176855 </td> <td>physSiliconNitride2 </td> <td>824.844       </td>\n",
       "        </tr>\n",
       "        <tr>\n",
       "            <td>6553   </td> <td>5      </td> <td>anti_nu_e</td> <td>0              </td> <td>-2.5     </td> <td>1.08614  </td> <td>1.291    </td> <td>0.171684 </td> <td>physSiliconSubstrate</td> <td>24.173        </td>\n",
       "        </tr>\n",
       "        <tr>\n",
       "            <td>6654   </td> <td>11     </td> <td>anti_nu_e</td> <td>0              </td> <td>-2.5     </td> <td>0.700013 </td> <td>-2.49226 </td> <td>0.194821 </td> <td>physSiliconSubstrate</td> <td>664.263       </td>\n",
       "        </tr>\n",
       "        <tr>\n",
       "            <td>6661   </td> <td>33     </td> <td>gamma    </td> <td>0              </td> <td>-2.5     </td> <td>-1.88959 </td> <td>1.14729  </td> <td>0.169774 </td> <td>physSiliconSubstrate</td> <td>238.632       </td>\n",
       "        </tr>\n",
       "        <tr>\n",
       "            <td>6674   </td> <td>15     </td> <td>e-       </td> <td>7.33988e-24    </td> <td>-2.5     </td> <td>-1.64844 </td> <td>0.295013 </td> <td>1.65987  </td> <td>physSiliconSubstrate</td> <td>2.74899       </td>\n",
       "        </tr>\n",
       "    </tbody>\n",
       "</table>\n",
       "<p>... (18890 rows omitted)</p>"
      ],
      "text/plain": [
       "EventID | TrackID | Particle  | EnergyDeposited | XPosition | YPosition | ZPosition | LocalTime | Volume               | Initial Energy\n",
       "6074    | 11      | e-        | 6.05447e-24     | 0.364682  | 0.791031  | 2.5       | 2.29601   | physSiliconSubstrate | 1.24949\n",
       "6074    | 11      | e-        | 2.57301e-27     | 0.363774  | 0.790932  | 2.50015   | 2.29605   | physSiliconOxide2    | 1.24949\n",
       "6074    | 11      | e-        | 8.5767e-27      | 0.360749  | 0.790604  | 2.50065   | 2.2962    | physSiliconNitride2  | 1.24949\n",
       "6177    | 42      | anti_nu_e | 0               | 2.02737   | -1.87883  | 2.5       | 0.176847  | physSiliconSubstrate | 824.844\n",
       "6177    | 42      | anti_nu_e | 0               | 2.02689   | -1.87881  | 2.50015   | 0.176849  | physSiliconOxide2    | 824.844\n",
       "6177    | 42      | anti_nu_e | 0               | 2.02532   | -1.87874  | 2.50065   | 0.176855  | physSiliconNitride2  | 824.844\n",
       "6553    | 5       | anti_nu_e | 0               | -2.5      | 1.08614   | 1.291     | 0.171684  | physSiliconSubstrate | 24.173\n",
       "6654    | 11      | anti_nu_e | 0               | -2.5      | 0.700013  | -2.49226  | 0.194821  | physSiliconSubstrate | 664.263\n",
       "6661    | 33      | gamma     | 0               | -2.5      | -1.88959  | 1.14729   | 0.169774  | physSiliconSubstrate | 238.632\n",
       "6674    | 15      | e-        | 7.33988e-24     | -2.5      | -1.64844  | 0.295013  | 1.65987   | physSiliconSubstrate | 2.74899\n",
       "... (18890 rows omitted)"
      ]
     },
     "execution_count": 4,
     "metadata": {},
     "output_type": "execute_result"
    }
   ],
   "source": [
    "combined_df"
   ]
  },
  {
   "cell_type": "code",
   "execution_count": 5,
   "metadata": {},
   "outputs": [
    {
     "data": {
      "text/html": [
       "<table border=\"1\" class=\"dataframe\">\n",
       "    <thead>\n",
       "        <tr>\n",
       "            <th>EventID</th> <th>TrackID</th> <th>Particle</th> <th>EnergyDeposited</th> <th>XPosition</th> <th>YPosition</th> <th>ZPosition</th> <th>LocalTime</th> <th>Volume</th> <th>Initial Energy</th>\n",
       "        </tr>\n",
       "    </thead>\n",
       "    <tbody>\n",
       "        <tr>\n",
       "            <td>6661   </td> <td>33     </td> <td>gamma   </td> <td>0              </td> <td>-2.5     </td> <td>-1.88959 </td> <td>1.14729  </td> <td>0.169774 </td> <td>physSiliconSubstrate</td> <td>238.632       </td>\n",
       "        </tr>\n",
       "        <tr>\n",
       "            <td>12374  </td> <td>37     </td> <td>gamma   </td> <td>0              </td> <td>-2.5     </td> <td>0.720676 </td> <td>-1.8028  </td> <td>0.167454 </td> <td>physSiliconSubstrate</td> <td>238.632       </td>\n",
       "        </tr>\n",
       "        <tr>\n",
       "            <td>17235  </td> <td>14     </td> <td>gamma   </td> <td>0              </td> <td>0.531025 </td> <td>2.06886  </td> <td>2.50015  </td> <td>0.188875 </td> <td>physSiliconNitride2 </td> <td>911.209       </td>\n",
       "        </tr>\n",
       "        <tr>\n",
       "            <td>17235  </td> <td>14     </td> <td>gamma   </td> <td>0              </td> <td>0.530008 </td> <td>2.06883  </td> <td>2.5      </td> <td>0.188878 </td> <td>physSiliconOxide2   </td> <td>911.209       </td>\n",
       "        </tr>\n",
       "        <tr>\n",
       "            <td>17235  </td> <td>14     </td> <td>gamma   </td> <td>0              </td> <td>-2.5     </td> <td>1.98384  </td> <td>2.0531   </td> <td>0.199098 </td> <td>physSiliconSubstrate</td> <td>911.209       </td>\n",
       "        </tr>\n",
       "        <tr>\n",
       "            <td>27177  </td> <td>14     </td> <td>gamma   </td> <td>0              </td> <td>-2.5     </td> <td>-2.24982 </td> <td>-2.14659 </td> <td>0.1697   </td> <td>physSiliconSubstrate</td> <td>755.314       </td>\n",
       "        </tr>\n",
       "        <tr>\n",
       "            <td>35212  </td> <td>14     </td> <td>gamma   </td> <td>0              </td> <td>-0.136332</td> <td>2.22952  </td> <td>-2.5     </td> <td>0.181712 </td> <td>physSiliconSubstrate</td> <td>911.209       </td>\n",
       "        </tr>\n",
       "        <tr>\n",
       "            <td>35212  </td> <td>14     </td> <td>gamma   </td> <td>0              </td> <td>-0.136911</td> <td>2.22956  </td> <td>-2.50015 </td> <td>0.181714 </td> <td>physSiliconOxide1   </td> <td>911.209       </td>\n",
       "        </tr>\n",
       "        <tr>\n",
       "            <td>35212  </td> <td>14     </td> <td>gamma   </td> <td>0              </td> <td>-0.138839</td> <td>2.22968  </td> <td>-2.50065 </td> <td>0.181721 </td> <td>physSiliconNitride1 </td> <td>911.209       </td>\n",
       "        </tr>\n",
       "        <tr>\n",
       "            <td>35283  </td> <td>14     </td> <td>gamma   </td> <td>0              </td> <td>-1.37369 </td> <td>-1.12956 </td> <td>-2.5     </td> <td>0.1723   </td> <td>physSiliconSubstrate</td> <td>298.989       </td>\n",
       "        </tr>\n",
       "    </tbody>\n",
       "</table>\n",
       "<p>... (2433 rows omitted)</p>"
      ],
      "text/plain": [
       "EventID | TrackID | Particle | EnergyDeposited | XPosition | YPosition | ZPosition | LocalTime | Volume               | Initial Energy\n",
       "6661    | 33      | gamma    | 0               | -2.5      | -1.88959  | 1.14729   | 0.169774  | physSiliconSubstrate | 238.632\n",
       "12374   | 37      | gamma    | 0               | -2.5      | 0.720676  | -1.8028   | 0.167454  | physSiliconSubstrate | 238.632\n",
       "17235   | 14      | gamma    | 0               | 0.531025  | 2.06886   | 2.50015   | 0.188875  | physSiliconNitride2  | 911.209\n",
       "17235   | 14      | gamma    | 0               | 0.530008  | 2.06883   | 2.5       | 0.188878  | physSiliconOxide2    | 911.209\n",
       "17235   | 14      | gamma    | 0               | -2.5      | 1.98384   | 2.0531    | 0.199098  | physSiliconSubstrate | 911.209\n",
       "27177   | 14      | gamma    | 0               | -2.5      | -2.24982  | -2.14659  | 0.1697    | physSiliconSubstrate | 755.314\n",
       "35212   | 14      | gamma    | 0               | -0.136332 | 2.22952   | -2.5      | 0.181712  | physSiliconSubstrate | 911.209\n",
       "35212   | 14      | gamma    | 0               | -0.136911 | 2.22956   | -2.50015  | 0.181714  | physSiliconOxide1    | 911.209\n",
       "35212   | 14      | gamma    | 0               | -0.138839 | 2.22968   | -2.50065  | 0.181721  | physSiliconNitride1  | 911.209\n",
       "35283   | 14      | gamma    | 0               | -1.37369  | -1.12956  | -2.5      | 0.1723    | physSiliconSubstrate | 298.989\n",
       "... (2433 rows omitted)"
      ]
     },
     "execution_count": 5,
     "metadata": {},
     "output_type": "execute_result"
    }
   ],
   "source": [
    "gamma = combined_df.where('Particle', dt.are.containing('gamma'))\n",
    "# gamma = gamma.where('EnergyDeposited', dt.are.not_equal_to(0))\n",
    "gamma = gamma.where('Initial Energy', dt.are.below_or_equal_to(2700))\n",
    "gamma"
   ]
  },
  {
   "cell_type": "code",
   "execution_count": 6,
   "metadata": {},
   "outputs": [
    {
     "data": {
      "text/plain": [
       "<Figure size 640x480 with 0 Axes>"
      ]
     },
     "metadata": {},
     "output_type": "display_data"
    },
    {
     "data": {
      "image/png": "[encoded data removed]",
      "text/plain": [
       "<Figure size 640x480 with 1 Axes>"
      ]
     },
     "metadata": {},
     "output_type": "display_data"
    }
   ],
   "source": [
    "def annotate_peaks(ax, x_values, y_values, labels):\n",
    "    for x, y, label in zip(x_values, y_values, labels):\n",
    "        ax.annotate(label, xy=(x, y), xytext=(x, y + 20),  # Adjust xytext to control the label position\n",
    "                    arrowprops=dict(facecolor='black', arrowstyle='wedge,tail_width=0.7', alpha=0.7),\n",
    "                    horizontalalignment='center', verticalalignment='center')\n",
    "\n",
    "\n",
    "\n",
    "x_irl = [238.6, 338.3, 511, 583.2, 911.2, 968.9, 1460, 2103, 2614.5]\n",
    "material_names = ['Pb212', 'Ac228', '511', 'Ti208', 'Ac228', 'Ac228', 'K40', 'Pair Production', 'Ti208']\n",
    "\n",
    "plt.clf()\n",
    "fig, ax = plt.subplots()\n",
    "counts, bin_edges, patches = ax.hist(gamma['Initial Energy'], bins = 400, color = 'b', edgecolor = 'blue')\n",
    "bin_centers = (bin_edges[:-1] + bin_edges[1:]) / 2\n",
    "\n",
    "x_sim = []\n",
    "\n",
    "for x in x_irl:\n",
    "    x_sim.append(max([i for i in bin_centers if abs(x-i) < 5.]))\n",
    "\n",
    "y_sim = []\n",
    "for x,y in zip(bin_centers, counts):\n",
    "    if x in x_sim:\n",
    "        y_sim.append(y)\n",
    "\n",
    "\n",
    "\n",
    "\n",
    "# plt.xscale('log')\n",
    "# plt.gca().xaxis.set_major_locator(ticker.MultipleLocator(base=100))\n",
    "ax.set_xlim(1,2700)\n",
    "ax.set_xlabel('Energy [$keV$]')\n",
    "ax.set_ylabel('Counts')\n",
    "ax.set_yscale('linear')\n",
    "ax.set_title('Thorium decay gamma spectra for trakcing limit of 40\\n')\n",
    "annotate_peaks(ax, x_sim, y_sim, material_names)\n",
    "plt.show()"
   ]
  },
  {
   "cell_type": "code",
   "execution_count": 7,
   "metadata": {},
   "outputs": [
    {
     "data": {
      "text/html": [
       "<table border=\"1\" class=\"dataframe\">\n",
       "    <thead>\n",
       "        <tr>\n",
       "            <th>EventID</th> <th>TrackID</th> <th>Particle</th> <th>EnergyDeposited</th> <th>XPosition</th> <th>YPosition</th> <th>ZPosition</th> <th>LocalTime</th> <th>Volume</th> <th>Initial Energy</th>\n",
       "        </tr>\n",
       "    </thead>\n",
       "    <tbody>\n",
       "        <tr>\n",
       "            <td>6074   </td> <td>11     </td> <td>e-       </td> <td>6.05447e-24    </td> <td>0.364682 </td> <td>0.791031 </td> <td>2.5      </td> <td>2.29601  </td> <td>physSiliconSubstrate</td> <td>1.24949       </td>\n",
       "        </tr>\n",
       "        <tr>\n",
       "            <td>6074   </td> <td>11     </td> <td>e-       </td> <td>2.57301e-27    </td> <td>0.363774 </td> <td>0.790932 </td> <td>2.50015  </td> <td>2.29605  </td> <td>physSiliconOxide2   </td> <td>1.24949       </td>\n",
       "        </tr>\n",
       "        <tr>\n",
       "            <td>6074   </td> <td>11     </td> <td>e-       </td> <td>8.5767e-27     </td> <td>0.360749 </td> <td>0.790604 </td> <td>2.50065  </td> <td>2.2962   </td> <td>physSiliconNitride2 </td> <td>1.24949       </td>\n",
       "        </tr>\n",
       "        <tr>\n",
       "            <td>6177   </td> <td>42     </td> <td>anti_nu_e</td> <td>0              </td> <td>2.02737  </td> <td>-1.87883 </td> <td>2.5      </td> <td>0.176847 </td> <td>physSiliconSubstrate</td> <td>824.844       </td>\n",
       "        </tr>\n",
       "        <tr>\n",
       "            <td>6177   </td> <td>42     </td> <td>anti_nu_e</td> <td>0              </td> <td>2.02689  </td> <td>-1.87881 </td> <td>2.50015  </td> <td>0.176849 </td> <td>physSiliconOxide2   </td> <td>824.844       </td>\n",
       "        </tr>\n",
       "        <tr>\n",
       "            <td>6177   </td> <td>42     </td> <td>anti_nu_e</td> <td>0              </td> <td>2.02532  </td> <td>-1.87874 </td> <td>2.50065  </td> <td>0.176855 </td> <td>physSiliconNitride2 </td> <td>824.844       </td>\n",
       "        </tr>\n",
       "        <tr>\n",
       "            <td>6553   </td> <td>5      </td> <td>anti_nu_e</td> <td>0              </td> <td>-2.5     </td> <td>1.08614  </td> <td>1.291    </td> <td>0.171684 </td> <td>physSiliconSubstrate</td> <td>24.173        </td>\n",
       "        </tr>\n",
       "        <tr>\n",
       "            <td>6654   </td> <td>11     </td> <td>anti_nu_e</td> <td>0              </td> <td>-2.5     </td> <td>0.700013 </td> <td>-2.49226 </td> <td>0.194821 </td> <td>physSiliconSubstrate</td> <td>664.263       </td>\n",
       "        </tr>\n",
       "        <tr>\n",
       "            <td>6661   </td> <td>33     </td> <td>gamma    </td> <td>0              </td> <td>-2.5     </td> <td>-1.88959 </td> <td>1.14729  </td> <td>0.169774 </td> <td>physSiliconSubstrate</td> <td>238.632       </td>\n",
       "        </tr>\n",
       "        <tr>\n",
       "            <td>6674   </td> <td>15     </td> <td>e-       </td> <td>7.33988e-24    </td> <td>-2.5     </td> <td>-1.64844 </td> <td>0.295013 </td> <td>1.65987  </td> <td>physSiliconSubstrate</td> <td>2.74899       </td>\n",
       "        </tr>\n",
       "    </tbody>\n",
       "</table>\n",
       "<p>... (18890 rows omitted)</p>"
      ],
      "text/plain": [
       "EventID | TrackID | Particle  | EnergyDeposited | XPosition | YPosition | ZPosition | LocalTime | Volume               | Initial Energy\n",
       "6074    | 11      | e-        | 6.05447e-24     | 0.364682  | 0.791031  | 2.5       | 2.29601   | physSiliconSubstrate | 1.24949\n",
       "6074    | 11      | e-        | 2.57301e-27     | 0.363774  | 0.790932  | 2.50015   | 2.29605   | physSiliconOxide2    | 1.24949\n",
       "6074    | 11      | e-        | 8.5767e-27      | 0.360749  | 0.790604  | 2.50065   | 2.2962    | physSiliconNitride2  | 1.24949\n",
       "6177    | 42      | anti_nu_e | 0               | 2.02737   | -1.87883  | 2.5       | 0.176847  | physSiliconSubstrate | 824.844\n",
       "6177    | 42      | anti_nu_e | 0               | 2.02689   | -1.87881  | 2.50015   | 0.176849  | physSiliconOxide2    | 824.844\n",
       "6177    | 42      | anti_nu_e | 0               | 2.02532   | -1.87874  | 2.50065   | 0.176855  | physSiliconNitride2  | 824.844\n",
       "6553    | 5       | anti_nu_e | 0               | -2.5      | 1.08614   | 1.291     | 0.171684  | physSiliconSubstrate | 24.173\n",
       "6654    | 11      | anti_nu_e | 0               | -2.5      | 0.700013  | -2.49226  | 0.194821  | physSiliconSubstrate | 664.263\n",
       "6661    | 33      | gamma     | 0               | -2.5      | -1.88959  | 1.14729   | 0.169774  | physSiliconSubstrate | 238.632\n",
       "6674    | 15      | e-        | 7.33988e-24     | -2.5      | -1.64844  | 0.295013  | 1.65987   | physSiliconSubstrate | 2.74899\n",
       "... (18890 rows omitted)"
      ]
     },
     "execution_count": 7,
     "metadata": {},
     "output_type": "execute_result"
    }
   ],
   "source": [
    "combined_df"
   ]
  },
  {
   "cell_type": "code",
   "execution_count": 8,
   "metadata": {},
   "outputs": [
    {
     "data": {
      "text/plain": [
       "(array([ 9755.,     0.,     0.,  4112.,     0.,     0.,  2443.,     0.,\n",
       "            0.,  2590.]),\n",
       " array([ 0. ,  0.3,  0.6,  0.9,  1.2,  1.5,  1.8,  2.1,  2.4,  2.7,  3. ]),\n",
       " <BarContainer object of 10 artists>)"
      ]
     },
     "execution_count": 8,
     "metadata": {},
     "output_type": "execute_result"
    },
    {
     "data": {
      "image/png": "[encoded data removed]",
      "text/plain": [
       "<Figure size 640x480 with 1 Axes>"
      ]
     },
     "metadata": {},
     "output_type": "display_data"
    }
   ],
   "source": [
    "plt.hist(combined_df['Particle'])"
   ]
  },
  {
   "cell_type": "code",
   "execution_count": null,
   "metadata": {},
   "outputs": [],
   "source": []
  }
 ],
 "metadata": {
  "kernelspec": {
   "display_name": "TES",
   "language": "python",
   "name": "python3"
  },
  "language_info": {
   "codemirror_mode": {
    "name": "ipython",
    "version": 3
   },
   "file_extension": ".py",
   "mimetype": "text/x-python",
   "name": "python",
   "nbconvert_exporter": "python",
   "pygments_lexer": "ipython3",
   "version": "3.9.16"
  },
  "orig_nbformat": 4
 },
 "nbformat": 4,
 "nbformat_minor": 2
}
