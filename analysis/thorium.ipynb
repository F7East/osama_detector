{
 "cells": [
  {
   "cell_type": "code",
   "execution_count": 108,
   "metadata": {},
   "outputs": [],
   "source": [
    "import pandas as pd\n",
    "import numpy as np\n",
    "from matplotlib import pyplot as plt\n",
    "import matplotlib.ticker as ticker\n",
    "import os\n",
    "import datascience as dt\n",
    "%matplotlib widget"
   ]
  },
  {
   "cell_type": "code",
   "execution_count": 35,
   "metadata": {},
   "outputs": [],
   "source": [
    "directory_path = '/Users/ti602/Desktop/geant4-xenon/build/output'"
   ]
  },
  {
   "cell_type": "code",
   "execution_count": 92,
   "metadata": {},
   "outputs": [],
   "source": [
    "def read_csv_files_into_dataframe(directory_path):\n",
    "\n",
    "    header  = ['EventID','TrackID','Particle','EnergyDeposited','XPosition','YPosition','ZPosition','LocalTime','Volume','Initial Energy']\n",
    "    # Get a list of all files in the given directory\n",
    "    file_list = os.listdir(directory_path)\n",
    "    \n",
    "    # Filter the list to include only CSV files\n",
    "    csv_files = [file for file in file_list if file.endswith('.csv')]\n",
    "    \n",
    "    # Initialize an empty DataFrame to store the combined data\n",
    "    combined_dataframe = pd.DataFrame()\n",
    "    \n",
    "    # Loop through each CSV file and read it into a DataFrame, then concatenate it to the combined DataFrame\n",
    "    for csv_file in csv_files:\n",
    "        file_path = os.path.join(directory_path, csv_file)\n",
    "        df = pd.read_csv(file_path, skiprows = 14, names = header)\n",
    "        combined_dataframe = pd.concat([combined_dataframe, df], ignore_index=True)\n",
    "    \n",
    "    return combined_dataframe\n",
    "\n",
    "combined_df = read_csv_files_into_dataframe(directory_path)\n",
    "combined_df = dt.Table.from_df(combined_df)\n",
    "\n",
    "# Now, the 'combined_df' variable holds the pandas DataFrame with data from all CSV files.\n"
   ]
  },
  {
   "cell_type": "code",
   "execution_count": 93,
   "metadata": {},
   "outputs": [
    {
     "data": {
      "text/html": [
       "<table border=\"1\" class=\"dataframe\">\n",
       "    <thead>\n",
       "        <tr>\n",
       "            <th>EventID</th> <th>TrackID</th> <th>Particle</th> <th>EnergyDeposited</th> <th>XPosition</th> <th>YPosition</th> <th>ZPosition</th> <th>LocalTime</th> <th>Volume</th> <th>Initial Energy</th>\n",
       "        </tr>\n",
       "    </thead>\n",
       "    <tbody>\n",
       "        <tr>\n",
       "            <td>2007   </td> <td>12     </td> <td>e-      </td> <td>8.45025e-25    </td> <td>-2.5     </td> <td>-1.79771 </td> <td>0.698674 </td> <td>0.605047 </td> <td>physSiliconSubstrate</td> <td>22.4789       </td>\n",
       "        </tr>\n",
       "        <tr>\n",
       "            <td>2021   </td> <td>32     </td> <td>alpha   </td> <td>8.44753e-23    </td> <td>-2.5     </td> <td>1.41858  </td> <td>1.27861  </td> <td>2.88073  </td> <td>physSiliconSubstrate</td> <td>6288.05       </td>\n",
       "        </tr>\n",
       "        <tr>\n",
       "            <td>2040   </td> <td>35     </td> <td>e-      </td> <td>2.57454e-25    </td> <td>-2.5     </td> <td>-0.883181</td> <td>1.33174  </td> <td>0.266008 </td> <td>physSiliconSubstrate</td> <td>158.745       </td>\n",
       "        </tr>\n",
       "        <tr>\n",
       "            <td>2056   </td> <td>27     </td> <td>e-      </td> <td>2.63161e-24    </td> <td>-2.5     </td> <td>-2.10488 </td> <td>-2.16597 </td> <td>1.70028  </td> <td>physSiliconSubstrate</td> <td>3.11129       </td>\n",
       "        </tr>\n",
       "        <tr>\n",
       "            <td>2138   </td> <td>35     </td> <td>e-      </td> <td>5.93358e-24    </td> <td>0.163755 </td> <td>-2.10635 </td> <td>-2.5     </td> <td>2.18971  </td> <td>physSiliconSubstrate</td> <td>3.69259       </td>\n",
       "        </tr>\n",
       "        <tr>\n",
       "            <td>2138   </td> <td>35     </td> <td>e-      </td> <td>1.1044e-27     </td> <td>0.16332  </td> <td>-2.10635 </td> <td>-2.50015 </td> <td>2.18973  </td> <td>physSiliconOxide1   </td> <td>3.69259       </td>\n",
       "        </tr>\n",
       "        <tr>\n",
       "            <td>2138   </td> <td>35     </td> <td>e-      </td> <td>3.68133e-27    </td> <td>0.161871 </td> <td>-2.10636 </td> <td>-2.50065 </td> <td>2.1898   </td> <td>physSiliconNitride1 </td> <td>3.69259       </td>\n",
       "        </tr>\n",
       "        <tr>\n",
       "            <td>2200   </td> <td>46     </td> <td>e-      </td> <td>6.16867e-25    </td> <td>-2.5     </td> <td>1.9426   </td> <td>0.289621 </td> <td>0.431969 </td> <td>physSiliconSubstrate</td> <td>48.5191       </td>\n",
       "        </tr>\n",
       "        <tr>\n",
       "            <td>2302   </td> <td>26     </td> <td>e-      </td> <td>1.4389e-24     </td> <td>-2.5     </td> <td>-0.359375</td> <td>-1.59342 </td> <td>0.680062 </td> <td>physSiliconSubstrate</td> <td>32.1369       </td>\n",
       "        </tr>\n",
       "        <tr>\n",
       "            <td>2425   </td> <td>42     </td> <td>gamma   </td> <td>0              </td> <td>-2.19326 </td> <td>-0.993654</td> <td>-2.5     </td> <td>0.186659 </td> <td>physSiliconSubstrate</td> <td>727.329       </td>\n",
       "        </tr>\n",
       "    </tbody>\n",
       "</table>\n",
       "<p>... (21162 rows omitted)</p>"
      ],
      "text/plain": [
       "EventID | TrackID | Particle | EnergyDeposited | XPosition | YPosition | ZPosition | LocalTime | Volume               | Initial Energy\n",
       "2007    | 12      | e-       | 8.45025e-25     | -2.5      | -1.79771  | 0.698674  | 0.605047  | physSiliconSubstrate | 22.4789\n",
       "2021    | 32      | alpha    | 8.44753e-23     | -2.5      | 1.41858   | 1.27861   | 2.88073   | physSiliconSubstrate | 6288.05\n",
       "2040    | 35      | e-       | 2.57454e-25     | -2.5      | -0.883181 | 1.33174   | 0.266008  | physSiliconSubstrate | 158.745\n",
       "2056    | 27      | e-       | 2.63161e-24     | -2.5      | -2.10488  | -2.16597  | 1.70028   | physSiliconSubstrate | 3.11129\n",
       "2138    | 35      | e-       | 5.93358e-24     | 0.163755  | -2.10635  | -2.5      | 2.18971   | physSiliconSubstrate | 3.69259\n",
       "2138    | 35      | e-       | 1.1044e-27      | 0.16332   | -2.10635  | -2.50015  | 2.18973   | physSiliconOxide1    | 3.69259\n",
       "2138    | 35      | e-       | 3.68133e-27     | 0.161871  | -2.10636  | -2.50065  | 2.1898    | physSiliconNitride1  | 3.69259\n",
       "2200    | 46      | e-       | 6.16867e-25     | -2.5      | 1.9426    | 0.289621  | 0.431969  | physSiliconSubstrate | 48.5191\n",
       "2302    | 26      | e-       | 1.4389e-24      | -2.5      | -0.359375 | -1.59342  | 0.680062  | physSiliconSubstrate | 32.1369\n",
       "2425    | 42      | gamma    | 0               | -2.19326  | -0.993654 | -2.5      | 0.186659  | physSiliconSubstrate | 727.329\n",
       "... (21162 rows omitted)"
      ]
     },
     "execution_count": 93,
     "metadata": {},
     "output_type": "execute_result"
    }
   ],
   "source": [
    "combined_df"
   ]
  },
  {
   "cell_type": "code",
   "execution_count": 127,
   "metadata": {},
   "outputs": [
    {
     "data": {
      "text/html": [
       "<table border=\"1\" class=\"dataframe\">\n",
       "    <thead>\n",
       "        <tr>\n",
       "            <th>EventID</th> <th>TrackID</th> <th>Particle</th> <th>EnergyDeposited</th> <th>XPosition</th> <th>YPosition</th> <th>ZPosition</th> <th>LocalTime</th> <th>Volume</th> <th>Initial Energy</th>\n",
       "        </tr>\n",
       "    </thead>\n",
       "    <tbody>\n",
       "        <tr>\n",
       "            <td>2425   </td> <td>42     </td> <td>gamma   </td> <td>0              </td> <td>-2.19326 </td> <td>-0.993654</td> <td>-2.5     </td> <td>0.186659 </td> <td>physSiliconSubstrate</td> <td>727.329       </td>\n",
       "        </tr>\n",
       "        <tr>\n",
       "            <td>2425   </td> <td>42     </td> <td>gamma   </td> <td>0              </td> <td>-2.19395 </td> <td>-0.993657</td> <td>-2.50015 </td> <td>0.186662 </td> <td>physSiliconOxide1   </td> <td>727.329       </td>\n",
       "        </tr>\n",
       "        <tr>\n",
       "            <td>2425   </td> <td>42     </td> <td>gamma   </td> <td>0              </td> <td>-2.19626 </td> <td>-0.993665</td> <td>-2.50065 </td> <td>0.186669 </td> <td>physSiliconNitride1 </td> <td>727.329       </td>\n",
       "        </tr>\n",
       "        <tr>\n",
       "            <td>2441   </td> <td>22     </td> <td>gamma   </td> <td>0              </td> <td>0.708677 </td> <td>1.85169  </td> <td>-2.50015 </td> <td>0.165815 </td> <td>physSiliconNitride1 </td> <td>15.6384       </td>\n",
       "        </tr>\n",
       "        <tr>\n",
       "            <td>2441   </td> <td>22     </td> <td>gamma   </td> <td>0              </td> <td>0.706293 </td> <td>1.85253  </td> <td>-2.5     </td> <td>0.165823 </td> <td>physSiliconOxide1   </td> <td>15.6384       </td>\n",
       "        </tr>\n",
       "        <tr>\n",
       "            <td>2441   </td> <td>22     </td> <td>gamma   </td> <td>0              </td> <td>-1.12734 </td> <td>2.5      </td> <td>-2.38462 </td> <td>0.172321 </td> <td>physSiliconSubstrate</td> <td>15.6384       </td>\n",
       "        </tr>\n",
       "        <tr>\n",
       "            <td>2629   </td> <td>19     </td> <td>gamma   </td> <td>0              </td> <td>1.30283  </td> <td>-2.46196 </td> <td>-2.50015 </td> <td>0.178417 </td> <td>physSiliconNitride1 </td> <td>840.368       </td>\n",
       "        </tr>\n",
       "        <tr>\n",
       "            <td>2629   </td> <td>19     </td> <td>gamma   </td> <td>0              </td> <td>1.30223  </td> <td>-2.46211 </td> <td>-2.5     </td> <td>0.178419 </td> <td>physSiliconOxide1   </td> <td>840.368       </td>\n",
       "        </tr>\n",
       "        <tr>\n",
       "            <td>2629   </td> <td>19     </td> <td>gamma   </td> <td>0              </td> <td>1.15331  </td> <td>-2.5     </td> <td>-2.46307 </td> <td>0.178947 </td> <td>physSiliconSubstrate</td> <td>840.368       </td>\n",
       "        </tr>\n",
       "        <tr>\n",
       "            <td>2958   </td> <td>17     </td> <td>gamma   </td> <td>0              </td> <td>-2.5     </td> <td>0.0243076</td> <td>-1.03597 </td> <td>0.17427  </td> <td>physSiliconSubstrate</td> <td>968.982       </td>\n",
       "        </tr>\n",
       "    </tbody>\n",
       "</table>\n",
       "<p>... (3337 rows omitted)</p>"
      ],
      "text/plain": [
       "EventID | TrackID | Particle | EnergyDeposited | XPosition | YPosition | ZPosition | LocalTime | Volume               | Initial Energy\n",
       "2425    | 42      | gamma    | 0               | -2.19326  | -0.993654 | -2.5      | 0.186659  | physSiliconSubstrate | 727.329\n",
       "2425    | 42      | gamma    | 0               | -2.19395  | -0.993657 | -2.50015  | 0.186662  | physSiliconOxide1    | 727.329\n",
       "2425    | 42      | gamma    | 0               | -2.19626  | -0.993665 | -2.50065  | 0.186669  | physSiliconNitride1  | 727.329\n",
       "2441    | 22      | gamma    | 0               | 0.708677  | 1.85169   | -2.50015  | 0.165815  | physSiliconNitride1  | 15.6384\n",
       "2441    | 22      | gamma    | 0               | 0.706293  | 1.85253   | -2.5      | 0.165823  | physSiliconOxide1    | 15.6384\n",
       "2441    | 22      | gamma    | 0               | -1.12734  | 2.5       | -2.38462  | 0.172321  | physSiliconSubstrate | 15.6384\n",
       "2629    | 19      | gamma    | 0               | 1.30283   | -2.46196  | -2.50015  | 0.178417  | physSiliconNitride1  | 840.368\n",
       "2629    | 19      | gamma    | 0               | 1.30223   | -2.46211  | -2.5      | 0.178419  | physSiliconOxide1    | 840.368\n",
       "2629    | 19      | gamma    | 0               | 1.15331   | -2.5      | -2.46307  | 0.178947  | physSiliconSubstrate | 840.368\n",
       "2958    | 17      | gamma    | 0               | -2.5      | 0.0243076 | -1.03597  | 0.17427   | physSiliconSubstrate | 968.982\n",
       "... (3337 rows omitted)"
      ]
     },
     "execution_count": 127,
     "metadata": {},
     "output_type": "execute_result"
    }
   ],
   "source": [
    "gamma = combined_df.where('Particle', dt.are.containing('gamma'))\n",
    "# gamma = gamma.where('EnergyDeposited', dt.are.not_equal_to(0))\n",
    "gamma = gamma.where('Initial Energy', dt.are.below_or_equal_to(2700))\n",
    "gamma"
   ]
  },
  {
   "cell_type": "code",
   "execution_count": 130,
   "metadata": {},
   "outputs": [
    {
     "data": {
      "application/vnd.jupyter.widget-view+json": {
       "model_id": "1b7102446b02492981f48f6c35a9970d",
       "version_major": 2,
       "version_minor": 0
      },
      "image/png": "[encoded data removed]",
      "text/html": [
       "\n",
       "            <div style=\"display: inline-block;\">\n",
       "                <div class=\"jupyter-widgets widget-label\" style=\"text-align: center;\">\n",
       "                    Figure 1\n",
       "                </div>\n",
       "                <img src='data:image/png;base64,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' width=640.0/>\n",
       "            </div>\n",
       "        "
      ],
      "text/plain": [
       "Canvas(toolbar=Toolbar(toolitems=[('Home', 'Reset original view', 'home', 'home'), ('Back', 'Back to previous …"
      ]
     },
     "metadata": {},
     "output_type": "display_data"
    }
   ],
   "source": [
    "plt.clf()\n",
    "counts, bin_edges, patches = plt.hist(gamma['Initial Energy'], bins = 1000)\n",
    "# plt.xscale('log')\n",
    "# plt.gca().xaxis.set_major_locator(ticker.MultipleLocator(base=100))\n",
    "plt.xlim(1,2700)\n",
    "plt.ylim(20,)\n",
    "plt.show()"
   ]
  },
  {
   "cell_type": "code",
   "execution_count": 133,
   "metadata": {},
   "outputs": [
    {
     "name": "stdout",
     "output_type": "stream",
     "text": [
      "[    9.59667379    12.2107263     14.8247788     17.43883131    74.94798654\n",
      "    77.56203905    88.01824909    90.6323016     93.2463541    106.31661666\n",
      "   129.84308924   208.26466455   239.63329466   242.24734718   299.75650239\n",
      "   328.51108001   338.96729005   461.82775802   511.4947557    582.07417348\n",
      "   728.46111404   793.81242679   835.63726694   861.77779205   911.44478974\n",
      "   963.72583994   968.95394495  1588.48438983  2613.19297375]\n"
     ]
    }
   ],
   "source": [
    "bin_centers = (bin_edges[:-1] + bin_edges[1:]) / 2\n",
    "\n",
    "# Identify the x values (bin centers) of peaks with frequency higher than 20\n",
    "peaks_x_values = bin_centers[counts > 20]\n",
    "\n",
    "# Print the x values of peaks that are higher than 20\n",
    "print(peaks_x_values)"
   ]
  }
 ],
 "metadata": {
  "kernelspec": {
   "display_name": "TES",
   "language": "python",
   "name": "python3"
  },
  "language_info": {
   "codemirror_mode": {
    "name": "ipython",
    "version": 3
   },
   "file_extension": ".py",
   "mimetype": "text/x-python",
   "name": "python",
   "nbconvert_exporter": "python",
   "pygments_lexer": "ipython3",
   "version": "3.9.16"
  },
  "orig_nbformat": 4
 },
 "nbformat": 4,
 "nbformat_minor": 2
}
