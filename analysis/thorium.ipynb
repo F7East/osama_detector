{
 "cells": [
  {
   "cell_type": "code",
   "execution_count": 34,
   "metadata": {},
   "outputs": [],
   "source": [
    "import pandas as pd\n",
    "import numpy as np\n",
    "from matplotlib import pyplot as plt\n",
    "import os\n",
    "import datascience as dt\n",
    "%matplotlib widget"
   ]
  },
  {
   "cell_type": "code",
   "execution_count": 35,
   "metadata": {},
   "outputs": [],
   "source": [
    "directory_path = '/Users/ti602/Desktop/geant4-xenon/build/output'"
   ]
  },
  {
   "cell_type": "code",
   "execution_count": 92,
   "metadata": {},
   "outputs": [],
   "source": [
    "def read_csv_files_into_dataframe(directory_path):\n",
    "\n",
    "    header  = ['EventID','TrackID','Particle','EnergyDeposited','XPosition','YPosition','ZPosition','LocalTime','Volume','Initial Energy']\n",
    "    # Get a list of all files in the given directory\n",
    "    file_list = os.listdir(directory_path)\n",
    "    \n",
    "    # Filter the list to include only CSV files\n",
    "    csv_files = [file for file in file_list if file.endswith('.csv')]\n",
    "    \n",
    "    # Initialize an empty DataFrame to store the combined data\n",
    "    combined_dataframe = pd.DataFrame()\n",
    "    \n",
    "    # Loop through each CSV file and read it into a DataFrame, then concatenate it to the combined DataFrame\n",
    "    for csv_file in csv_files:\n",
    "        file_path = os.path.join(directory_path, csv_file)\n",
    "        df = pd.read_csv(file_path, skiprows = 14, names = header)\n",
    "        combined_dataframe = pd.concat([combined_dataframe, df], ignore_index=True)\n",
    "    \n",
    "    return combined_dataframe\n",
    "\n",
    "combined_df = read_csv_files_into_dataframe(directory_path)\n",
    "combined_df = dt.Table.from_df(combined_df)\n",
    "\n",
    "# Now, the 'combined_df' variable holds the pandas DataFrame with data from all CSV files.\n"
   ]
  },
  {
   "cell_type": "code",
   "execution_count": 93,
   "metadata": {},
   "outputs": [
    {
     "data": {
      "text/html": [
       "<table border=\"1\" class=\"dataframe\">\n",
       "    <thead>\n",
       "        <tr>\n",
       "            <th>EventID</th> <th>TrackID</th> <th>Particle</th> <th>EnergyDeposited</th> <th>XPosition</th> <th>YPosition</th> <th>ZPosition</th> <th>LocalTime</th> <th>Volume</th> <th>Initial Energy</th>\n",
       "        </tr>\n",
       "    </thead>\n",
       "    <tbody>\n",
       "        <tr>\n",
       "            <td>2007   </td> <td>12     </td> <td>e-      </td> <td>8.45025e-25    </td> <td>-2.5     </td> <td>-1.79771 </td> <td>0.698674 </td> <td>0.605047 </td> <td>physSiliconSubstrate</td> <td>22.4789       </td>\n",
       "        </tr>\n",
       "        <tr>\n",
       "            <td>2021   </td> <td>32     </td> <td>alpha   </td> <td>8.44753e-23    </td> <td>-2.5     </td> <td>1.41858  </td> <td>1.27861  </td> <td>2.88073  </td> <td>physSiliconSubstrate</td> <td>6288.05       </td>\n",
       "        </tr>\n",
       "        <tr>\n",
       "            <td>2040   </td> <td>35     </td> <td>e-      </td> <td>2.57454e-25    </td> <td>-2.5     </td> <td>-0.883181</td> <td>1.33174  </td> <td>0.266008 </td> <td>physSiliconSubstrate</td> <td>158.745       </td>\n",
       "        </tr>\n",
       "        <tr>\n",
       "            <td>2056   </td> <td>27     </td> <td>e-      </td> <td>2.63161e-24    </td> <td>-2.5     </td> <td>-2.10488 </td> <td>-2.16597 </td> <td>1.70028  </td> <td>physSiliconSubstrate</td> <td>3.11129       </td>\n",
       "        </tr>\n",
       "        <tr>\n",
       "            <td>2138   </td> <td>35     </td> <td>e-      </td> <td>5.93358e-24    </td> <td>0.163755 </td> <td>-2.10635 </td> <td>-2.5     </td> <td>2.18971  </td> <td>physSiliconSubstrate</td> <td>3.69259       </td>\n",
       "        </tr>\n",
       "        <tr>\n",
       "            <td>2138   </td> <td>35     </td> <td>e-      </td> <td>1.1044e-27     </td> <td>0.16332  </td> <td>-2.10635 </td> <td>-2.50015 </td> <td>2.18973  </td> <td>physSiliconOxide1   </td> <td>3.69259       </td>\n",
       "        </tr>\n",
       "        <tr>\n",
       "            <td>2138   </td> <td>35     </td> <td>e-      </td> <td>3.68133e-27    </td> <td>0.161871 </td> <td>-2.10636 </td> <td>-2.50065 </td> <td>2.1898   </td> <td>physSiliconNitride1 </td> <td>3.69259       </td>\n",
       "        </tr>\n",
       "        <tr>\n",
       "            <td>2200   </td> <td>46     </td> <td>e-      </td> <td>6.16867e-25    </td> <td>-2.5     </td> <td>1.9426   </td> <td>0.289621 </td> <td>0.431969 </td> <td>physSiliconSubstrate</td> <td>48.5191       </td>\n",
       "        </tr>\n",
       "        <tr>\n",
       "            <td>2302   </td> <td>26     </td> <td>e-      </td> <td>1.4389e-24     </td> <td>-2.5     </td> <td>-0.359375</td> <td>-1.59342 </td> <td>0.680062 </td> <td>physSiliconSubstrate</td> <td>32.1369       </td>\n",
       "        </tr>\n",
       "        <tr>\n",
       "            <td>2425   </td> <td>42     </td> <td>gamma   </td> <td>0              </td> <td>-2.19326 </td> <td>-0.993654</td> <td>-2.5     </td> <td>0.186659 </td> <td>physSiliconSubstrate</td> <td>727.329       </td>\n",
       "        </tr>\n",
       "    </tbody>\n",
       "</table>\n",
       "<p>... (21162 rows omitted)</p>"
      ],
      "text/plain": [
       "EventID | TrackID | Particle | EnergyDeposited | XPosition | YPosition | ZPosition | LocalTime | Volume               | Initial Energy\n",
       "2007    | 12      | e-       | 8.45025e-25     | -2.5      | -1.79771  | 0.698674  | 0.605047  | physSiliconSubstrate | 22.4789\n",
       "2021    | 32      | alpha    | 8.44753e-23     | -2.5      | 1.41858   | 1.27861   | 2.88073   | physSiliconSubstrate | 6288.05\n",
       "2040    | 35      | e-       | 2.57454e-25     | -2.5      | -0.883181 | 1.33174   | 0.266008  | physSiliconSubstrate | 158.745\n",
       "2056    | 27      | e-       | 2.63161e-24     | -2.5      | -2.10488  | -2.16597  | 1.70028   | physSiliconSubstrate | 3.11129\n",
       "2138    | 35      | e-       | 5.93358e-24     | 0.163755  | -2.10635  | -2.5      | 2.18971   | physSiliconSubstrate | 3.69259\n",
       "2138    | 35      | e-       | 1.1044e-27      | 0.16332   | -2.10635  | -2.50015  | 2.18973   | physSiliconOxide1    | 3.69259\n",
       "2138    | 35      | e-       | 3.68133e-27     | 0.161871  | -2.10636  | -2.50065  | 2.1898    | physSiliconNitride1  | 3.69259\n",
       "2200    | 46      | e-       | 6.16867e-25     | -2.5      | 1.9426    | 0.289621  | 0.431969  | physSiliconSubstrate | 48.5191\n",
       "2302    | 26      | e-       | 1.4389e-24      | -2.5      | -0.359375 | -1.59342  | 0.680062  | physSiliconSubstrate | 32.1369\n",
       "2425    | 42      | gamma    | 0               | -2.19326  | -0.993654 | -2.5      | 0.186659  | physSiliconSubstrate | 727.329\n",
       "... (21162 rows omitted)"
      ]
     },
     "execution_count": 93,
     "metadata": {},
     "output_type": "execute_result"
    }
   ],
   "source": [
    "combined_df"
   ]
  },
  {
   "cell_type": "code",
   "execution_count": 101,
   "metadata": {},
   "outputs": [
    {
     "data": {
      "text/html": [
       "<table border=\"1\" class=\"dataframe\">\n",
       "    <thead>\n",
       "        <tr>\n",
       "            <th>EventID</th> <th>TrackID</th> <th>Particle</th> <th>EnergyDeposited</th> <th>XPosition</th> <th>YPosition</th> <th>ZPosition</th> <th>LocalTime</th> <th>Volume</th> <th>Initial Energy</th>\n",
       "        </tr>\n",
       "    </thead>\n",
       "    <tbody>\n",
       "    </tbody>\n",
       "</table>"
      ],
      "text/plain": [
       "EventID | TrackID | Particle | EnergyDeposited | XPosition | YPosition | ZPosition | LocalTime | Volume | Initial Energy"
      ]
     },
     "execution_count": 101,
     "metadata": {},
     "output_type": "execute_result"
    }
   ],
   "source": [
    "gamma = combined_df.where('Particle', dt.are.containing('gamma'))\n",
    "# gamma = gamma.where('EnergyDeposited', dt.are.not_equal_to(0))\n",
    "# gamma = gamma.where('Initial Energy', dt.are.below_or_equal_to(500))\n",
    "gamma"
   ]
  },
  {
   "cell_type": "code",
   "execution_count": 102,
   "metadata": {},
   "outputs": [
    {
     "data": {
      "application/vnd.jupyter.widget-view+json": {
       "model_id": "1b7102446b02492981f48f6c35a9970d",
       "version_major": 2,
       "version_minor": 0
      },
      "image/png": "[encoded data removed]",
      "text/html": [
       "\n",
       "            <div style=\"display: inline-block;\">\n",
       "                <div class=\"jupyter-widgets widget-label\" style=\"text-align: center;\">\n",
       "                    Figure 1\n",
       "                </div>\n",
       "                <img src='data:image/png;base64,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' width=640.0/>\n",
       "            </div>\n",
       "        "
      ],
      "text/plain": [
       "Canvas(toolbar=Toolbar(toolitems=[('Home', 'Reset original view', 'home', 'home'), ('Back', 'Back to previous …"
      ]
     },
     "metadata": {},
     "output_type": "display_data"
    }
   ],
   "source": [
    "plt.clf()\n",
    "plt.hist(gamma['Initial Energy'], bins = 500)\n",
    "# plt.xscale('log')\n",
    "# plt.xlim(1,)\n",
    "plt.show()"
   ]
  },
  {
   "cell_type": "code",
   "execution_count": null,
   "metadata": {},
   "outputs": [],
   "source": []
  }
 ],
 "metadata": {
  "kernelspec": {
   "display_name": "TES",
   "language": "python",
   "name": "python3"
  },
  "language_info": {
   "codemirror_mode": {
    "name": "ipython",
    "version": 3
   },
   "file_extension": ".py",
   "mimetype": "text/x-python",
   "name": "python",
   "nbconvert_exporter": "python",
   "pygments_lexer": "ipython3",
   "version": "3.9.16"
  },
  "orig_nbformat": 4
 },
 "nbformat": 4,
 "nbformat_minor": 2
}
