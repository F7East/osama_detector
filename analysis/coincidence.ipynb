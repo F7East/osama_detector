{
 "cells": [
  {
   "cell_type": "code",
   "execution_count": 2,
   "id": "cb1839a7-539a-45f7-9a5c-b83c5b716cf4",
   "metadata": {},
   "outputs": [
    {
     "name": "stdout",
     "output_type": "stream",
     "text": [
      "Found 4096 data files in ../build1TooMany/output\n"
     ]
    }
   ],
   "source": [
    "import  os\n",
    "import  pandas as pd\n",
    "from    tqdm import tqdm\n",
    "import  numpy as np\n",
    "from    multiprocessing import get_context as context\n",
    "from    matplotlib import pyplot as plt\n",
    "%matplotlib inline\n",
    "\n",
    "# Read the files\n",
    "\n",
    "# Parameters\n",
    "\n",
    "\n",
    "header      = ['EventID','TrackID','Particle','EnergyDeposited','XPosition','YPosition','ZPosition','LocalTime','Volume', 'Initial Energy', 'Origin Volume', 'MigrantID']\n",
    "PROCESSES   = os.cpu_count()-1\n",
    "Pool        = context(\"fork\").Pool\n",
    "\n",
    "# Find the files\n",
    "foldername  = f'../build1TooMany/output'\n",
    "os.system(f'rm -rf ../build1TooMany/output/.ipynb_checkpoints')\n",
    "filenames   = os.listdir(foldername)\n",
    "\n",
    "print(f'Found {len(filenames)} data files in {foldername}')\n",
    "\n",
    "def parallel(function):\n",
    "    def inner(input_array):\n",
    "        # Parallelize excecution them\n",
    "        with Pool(PROCESSES) as pool:\n",
    "            output = list(tqdm(pool.imap(function, input_array),total=len(input_array)))\n",
    "        return output \n",
    "    return inner\n",
    "\n",
    "# Function to load a single file\n",
    "def loadfile(filename):\n",
    "    df = pd.read_csv(os.path.join(foldername,filename),skiprows=16,names=header)\n",
    "    df.insert(0, 'Filename', filename)\n",
    "    return df"
   ]
  },
  {
   "cell_type": "markdown",
   "id": "dc244158-450f-4255-8b41-75e43deeeac7",
   "metadata": {
    "tags": []
   },
   "source": [
    "# Cosmic Run"
   ]
  },
  {
   "cell_type": "markdown",
   "id": "1719cd9f-5b2d-42c2-b37c-e36defee2e85",
   "metadata": {
    "jp-MarkdownHeadingCollapsed": true,
    "tags": []
   },
   "source": [
    "## Heat propagation check"
   ]
  },
  {
   "cell_type": "code",
   "execution_count": 5,
   "id": "ae9257f0-20dd-4dec-9c60-3d7a5750301f",
   "metadata": {},
   "outputs": [],
   "source": [
    "mm = 1\n",
    "cm = 10\n",
    "micron = 10**(-3)\n",
    "nm = 10**(-6)\n",
    "\n",
    "cryostatBottom = -698.771 * mm\n",
    "\n",
    "\n",
    "copperThickness = 3 * mm\n",
    "separation      = 2 * mm\n",
    "copperBoxX      = 2.5 * cm\n",
    "copperBoxY      = 2.5 * cm\n",
    "copperBoxPosX   = 0 * cm\n",
    "copperBoxPosY   = cryostatBottom + copperBoxY/2 + 11.5 * cm + copperThickness\n",
    "copperBoxPosZ   = 0 * cm\n",
    "\n",
    "stackX    = 0.5*mm + 150*2*nm + 500*2*nm\n",
    "stackPosX = copperBoxPosX - copperBoxX/2 + copperThickness + separation + stackX/2\n",
    "stackPosY = copperBoxPosY\n",
    "stackPosZ = copperBoxPosZ\n",
    "\n",
    "tesPosX   = stackX / 2 + 1 * micron / 2\n",
    "tesPosY   = 0\n",
    "tesPosZ   = 0\n",
    "\n",
    "tesVolume = 20*20*1*micron**3\n",
    "\n",
    "substratePosition = np.array([stackPosX, stackPosY, stackPosZ])\n",
    "tesPosition       = np.array([tesPosX, tesPosY, tesPosZ])\n",
    "tesPosition       = tesPosition + substratePosition\n",
    "tesArea = 20 * 20 * micron**2"
   ]
  },
  {
   "cell_type": "markdown",
   "id": "26dbbe66-5bf6-4163-8b47-085b19009d62",
   "metadata": {
    "tags": []
   },
   "source": [
    "## Check file by file"
   ]
  },
  {
   "cell_type": "code",
   "execution_count": 3,
   "id": "420807d8-0cfd-4120-8387-10bee6af1d98",
   "metadata": {},
   "outputs": [
    {
     "name": "stderr",
     "output_type": "stream",
     "text": [
      "100%|██████████| 4096/4096 [02:00<00:00, 33.88it/s]"
     ]
    },
    {
     "name": "stdout",
     "output_type": "stream",
     "text": [
      "TES Hits = 9128; Triple Coincidences = 107524; Quadruple Coincidences = 46\n"
     ]
    },
    {
     "name": "stderr",
     "output_type": "stream",
     "text": [
      "\n"
     ]
    }
   ],
   "source": [
    "def processFile(filename):\n",
    "    \"\"\"Filtering out tes hits according to\"\"\"\n",
    "\n",
    "#     # loading tes separately because of some error when using a copy\n",
    "#     # using A cos(a) / (4*pi*r^2) approach to calculate the energy that reaches tes \n",
    "    \n",
    "    tes = loadfile(filename)\n",
    "    tes = tes[tes.Volume.str.contains('E')] # select only substrate volumes \n",
    "    \n",
    "#     # tes['Distance'] = np.sqrt((tes.XPosition - tesPosition[0])**2 + (tes.YPosition - tesPosition[1])**2 + (tes.ZPosition - tesPosition[2])**2) # distance from a edep to tes\n",
    "#     # tes['EnergyReached'] = tes.EnergyDeposited * tesArea * abs(tes.YPosition - tesPosition[1]) / (4 * np.pi * tes.Distance**3) # energy reached duh\n",
    "#     # tes = tes.groupby('EventID')['EnergyReached'].sum().reset_index() # summing it per event\n",
    "    tes = tes.groupby('EventID')['EnergyDeposited'].sum().reset_index()\n",
    "    # tes = tes[tes.EnergyReached > 1*10**(-6)] # filtering out according to tes threshold\n",
    "    tes = tes[tes.EnergyDeposited > 0.0]\n",
    "\n",
    "    # loading the rest of the dataframe\n",
    "    data = loadfile(filename)\n",
    "    # data = data[data['Particle'] == 'e-']\n",
    "    data['hit'] = (data.EventID.isin(tes.EventID)).astype(int) # we assign event row a hit of 1 if it was registered by the tes above \n",
    "    # data = data[(data.Particle != 'e-') | (data['Origin Volume'].str.contains('phys'))]\n",
    "\n",
    "    # filter electrons jumping from one saber to another\n",
    "    # mask = ~(data['Origin Volume'].str.contains('phys') & (data.Volume != data['Origin Volume']))\n",
    "    # data = data[mask]\n",
    "    \n",
    "\n",
    "\n",
    "    # data = data.groupby(['Filename','EventID', 'Volume', 'hit'])['EnergyDeposited'].sum().reset_index() # sum the energy per volume, hit and eventid are overlapping perfectly\n",
    "    data = data.groupby(['Filename','EventID', 'Volume','hit'])['EnergyDeposited'].sum().reset_index() # sum the energy per volume, hit and eventid are overlapping perfectly\n",
    "\n",
    "    \n",
    "    data = data[~(data.Volume.str.contains('Silicon'))] # removing substrate volumes\n",
    "\n",
    "\n",
    "    #saber thresholds\n",
    "    \n",
    "    t1 = 0.222\n",
    "    t2 = 0.251\n",
    "    t3 = 0.251\n",
    "\n",
    "    t = 0.260\n",
    "\n",
    "    mask = (data['Volume'] != 'phys1') | (data['EnergyDeposited'] >= t)\n",
    "    data = data[mask]\n",
    "\n",
    "    mask = (data['Volume'] != 'phys2') | (data['EnergyDeposited'] >= t)\n",
    "    data = data[mask]\n",
    "\n",
    "    mask = (data['Volume'] != 'phys3') | (data['EnergyDeposited'] >= t)\n",
    "    data = data[mask]\n",
    "\n",
    "    data = data.groupby(['Filename','EventID', 'hit'])['Volume'].count().reset_index() # count how many sabers were hit during the event\n",
    "    data['Triple'] = (data.Volume == 3).astype(int) # triple coincidences\n",
    "    data['Quadruple'] = ((data.hit == 1) & (data.Volume == 3)).astype(int) # quadruple \n",
    "\n",
    "    tesHits = len(tes)\n",
    "    triple = sum(data.Triple)\n",
    "    quad = sum(data.Quadruple)\n",
    "\n",
    "    return (tesHits, triple, quad)\n",
    "\n",
    "\n",
    "processFiles        = parallel(processFile)\n",
    "processed           = processFiles(filenames)\n",
    "processed           = np.array(processed).T\n",
    "\n",
    "tesHits             = sum(processed[0])\n",
    "tripleEvents        = sum(processed[1])\n",
    "quadrupleEvents     = sum(processed[2])\n",
    "\n",
    "content = f\"TES Hits = {tesHits}; Triple Coincidences = {tripleEvents}; Quadruple Coincidences = {quadrupleEvents}\"\n",
    "print(content)"
   ]
  },
  {
   "cell_type": "code",
   "execution_count": null,
   "id": "dd022135-55f1-46ed-a724-428b0c498d80",
   "metadata": {},
   "outputs": [],
   "source": [
    " for particle in ['mu+', 'gamma', 'mu-', 'e-', 'e+', 'neutron', 'C12', 'proton',\n",
    "       'nu_e', 'anti_nu_e', 'anti_nu_mu', 'pi-', 'C13', 'nu_mu', 'pi+',\n",
    "       'anti_proton']:\n",
    "        \n",
    "    def processFile(filename):\n",
    "        \"\"\"Filtering out tes hits according to\"\"\"\n",
    "\n",
    "        # loading tes separately because of some error when using a copy\n",
    "        # using A cos(a) / (4*pi*r^2) approach to calculate the energy that reaches tes \n",
    "        tes = loadfile(filename)\n",
    "        tes = tes[tes.Volume.str.contains('E')] # select only substrate volumes \n",
    "        # tes['Distance'] = np.sqrt((tes.XPosition - tesPosition[0])**2 + (tes.YPosition - tesPosition[1])**2 + (tes.ZPosition - tesPosition[2])**2) # distance from a edep to tes\n",
    "        # tes['EnergyReached'] = tes.EnergyDeposited * tesArea * abs(tes.YPosition - tesPosition[1]) / (4 * np.pi * tes.Distance**3) # energy reached duh\n",
    "        # tes = tes.groupby('EventID')['EnergyReached'].sum().reset_index() # summing it per event\n",
    "        tes = tes.groupby('EventID')['EnergyDeposited'].sum().reset_index()\n",
    "        # tes = tes[tes.EnergyReached > 1*10**(-6)] # filtering out according to tes threshold\n",
    "        tes = tes[tes.EnergyDeposited > 0.0]\n",
    "\n",
    "        # loading the rest of the dataframe\n",
    "        data = loadfile(filename)\n",
    "        data = data[data['Particle'] == particle]\n",
    "        data['hit'] = (data.EventID.isin(tes.EventID)).astype(int) # we assign event row a hit of 1 if it was registered by the tes above \n",
    "\n",
    "        # filter electrons jumping from one saber to another\n",
    "        mask = ~(data['Origin Volume'].str.contains('phys') & (data.Volume != data['Origin Volume']))\n",
    "        data = data[mask]\n",
    "\n",
    "\n",
    "        data = data.groupby(['Filename','EventID', 'Volume', 'hit'])['EnergyDeposited'].sum().reset_index() # sum the energy per volume, hit and eventid are overlapping perfectly\n",
    "        data = data[~(data.Volume.str.contains('Silicon'))] # removing substrate volumes\n",
    "\n",
    "\n",
    "        #saber thresholds\n",
    "\n",
    "        t1 = 0.222\n",
    "        t2 = 0.251\n",
    "        t3 = 0.251\n",
    "\n",
    "        t = 0.200\n",
    "\n",
    "        mask = (data['Volume'] != 'phys1') | (data['EnergyDeposited'] >= t1)\n",
    "        data = data[mask]\n",
    "\n",
    "        mask = (data['Volume'] != 'phys2') | (data['EnergyDeposited'] >= t2)\n",
    "        data = data[mask]\n",
    "\n",
    "        mask = (data['Volume'] != 'phys3') | (data['EnergyDeposited'] >= t3)\n",
    "        data = data[mask]\n",
    "\n",
    "        data = data.groupby(['Filename','EventID', 'hit'])['Volume'].count().reset_index() # count how many sabers were hit during the event\n",
    "        data['Triple'] = (data.Volume == 3).astype(int) # triple coincidences\n",
    "        data['Quadruple'] = ((data.hit == 1) & (data.Volume == 3)).astype(int) # quadruple \n",
    "\n",
    "        tesHits = len(tes)\n",
    "        triple = sum(data.Triple)\n",
    "        quad = sum(data.Quadruple)\n",
    "\n",
    "        return (tesHits, triple, quad)\n",
    "\n",
    "\n",
    "    processFiles        = parallel(processFile)\n",
    "    processed           = processFiles(filenames)\n",
    "    processed           = np.array(processed).T\n",
    "\n",
    "    tesHits             = sum(processed[0])\n",
    "    tripleEvents        = sum(processed[1])\n",
    "    quadrupleEvents     = sum(processed[2])\n",
    "\n",
    "    content = f\"TES Hits = {tesHits}; Triple Coincidences = {tripleEvents}; Quadruple Coincidences = {quadrupleEvents}\"\n",
    "    print(content)"
   ]
  },
  {
   "cell_type": "code",
   "execution_count": 3,
   "id": "a9b461cd-6ae7-4da8-a075-bcfad65ef53d",
   "metadata": {},
   "outputs": [],
   "source": [
    "data = loadfile(filenames[1])"
   ]
  },
  {
   "cell_type": "code",
   "execution_count": 6,
   "id": "d16d808d-292b-4cd7-97de-eaf1207f27eb",
   "metadata": {},
   "outputs": [
    {
     "data": {
      "text/plain": [
       "248638.0"
      ]
     },
     "execution_count": 6,
     "metadata": {},
     "output_type": "execute_result"
    }
   ],
   "source": [
    "max(data.LocalTime)"
   ]
  },
  {
   "cell_type": "markdown",
   "id": "5d827d07-14b2-4fed-9bc5-233c75333cdd",
   "metadata": {
    "jp-MarkdownHeadingCollapsed": true,
    "tags": []
   },
   "source": [
    "## Processing for Isaac"
   ]
  },
  {
   "cell_type": "code",
   "execution_count": 13,
   "id": "0ce0b453-7267-47e2-85f2-416530cfb679",
   "metadata": {},
   "outputs": [
    {
     "name": "stderr",
     "output_type": "stream",
     "text": [
      "100%|██████████| 4096/4096 [02:29<00:00, 27.43it/s]\n"
     ]
    },
    {
     "data": {
      "text/html": [
       "<div>\n",
       "<style scoped>\n",
       "    .dataframe tbody tr th:only-of-type {\n",
       "        vertical-align: middle;\n",
       "    }\n",
       "\n",
       "    .dataframe tbody tr th {\n",
       "        vertical-align: top;\n",
       "    }\n",
       "\n",
       "    .dataframe thead th {\n",
       "        text-align: right;\n",
       "    }\n",
       "</style>\n",
       "<table border=\"1\" class=\"dataframe\">\n",
       "  <thead>\n",
       "    <tr style=\"text-align: right;\">\n",
       "      <th></th>\n",
       "      <th>Filename</th>\n",
       "      <th>EventID</th>\n",
       "      <th>hit</th>\n",
       "      <th>Volume</th>\n",
       "      <th>Triple</th>\n",
       "      <th>Quadruple</th>\n",
       "    </tr>\n",
       "  </thead>\n",
       "  <tbody>\n",
       "    <tr>\n",
       "      <th>0</th>\n",
       "      <td>TES-run0-rank1158_nt_hits.csv</td>\n",
       "      <td>82</td>\n",
       "      <td>0</td>\n",
       "      <td>1</td>\n",
       "      <td>0</td>\n",
       "      <td>0</td>\n",
       "    </tr>\n",
       "    <tr>\n",
       "      <th>1</th>\n",
       "      <td>TES-run0-rank1158_nt_hits.csv</td>\n",
       "      <td>135</td>\n",
       "      <td>0</td>\n",
       "      <td>1</td>\n",
       "      <td>0</td>\n",
       "      <td>0</td>\n",
       "    </tr>\n",
       "    <tr>\n",
       "      <th>2</th>\n",
       "      <td>TES-run0-rank1158_nt_hits.csv</td>\n",
       "      <td>146</td>\n",
       "      <td>0</td>\n",
       "      <td>1</td>\n",
       "      <td>0</td>\n",
       "      <td>0</td>\n",
       "    </tr>\n",
       "    <tr>\n",
       "      <th>3</th>\n",
       "      <td>TES-run0-rank1158_nt_hits.csv</td>\n",
       "      <td>201</td>\n",
       "      <td>0</td>\n",
       "      <td>1</td>\n",
       "      <td>0</td>\n",
       "      <td>0</td>\n",
       "    </tr>\n",
       "    <tr>\n",
       "      <th>4</th>\n",
       "      <td>TES-run0-rank1158_nt_hits.csv</td>\n",
       "      <td>238</td>\n",
       "      <td>0</td>\n",
       "      <td>1</td>\n",
       "      <td>0</td>\n",
       "      <td>0</td>\n",
       "    </tr>\n",
       "    <tr>\n",
       "      <th>...</th>\n",
       "      <td>...</td>\n",
       "      <td>...</td>\n",
       "      <td>...</td>\n",
       "      <td>...</td>\n",
       "      <td>...</td>\n",
       "      <td>...</td>\n",
       "    </tr>\n",
       "    <tr>\n",
       "      <th>7109</th>\n",
       "      <td>TES-run0-rank1486_nt_hits.csv</td>\n",
       "      <td>488143</td>\n",
       "      <td>0</td>\n",
       "      <td>1</td>\n",
       "      <td>0</td>\n",
       "      <td>0</td>\n",
       "    </tr>\n",
       "    <tr>\n",
       "      <th>7110</th>\n",
       "      <td>TES-run0-rank1486_nt_hits.csv</td>\n",
       "      <td>488181</td>\n",
       "      <td>0</td>\n",
       "      <td>1</td>\n",
       "      <td>0</td>\n",
       "      <td>0</td>\n",
       "    </tr>\n",
       "    <tr>\n",
       "      <th>7111</th>\n",
       "      <td>TES-run0-rank1486_nt_hits.csv</td>\n",
       "      <td>488183</td>\n",
       "      <td>0</td>\n",
       "      <td>1</td>\n",
       "      <td>0</td>\n",
       "      <td>0</td>\n",
       "    </tr>\n",
       "    <tr>\n",
       "      <th>7112</th>\n",
       "      <td>TES-run0-rank1486_nt_hits.csv</td>\n",
       "      <td>488212</td>\n",
       "      <td>0</td>\n",
       "      <td>1</td>\n",
       "      <td>0</td>\n",
       "      <td>0</td>\n",
       "    </tr>\n",
       "    <tr>\n",
       "      <th>7113</th>\n",
       "      <td>TES-run0-rank1486_nt_hits.csv</td>\n",
       "      <td>488253</td>\n",
       "      <td>0</td>\n",
       "      <td>1</td>\n",
       "      <td>0</td>\n",
       "      <td>0</td>\n",
       "    </tr>\n",
       "  </tbody>\n",
       "</table>\n",
       "<p>28880792 rows × 6 columns</p>\n",
       "</div>"
      ],
      "text/plain": [
       "                           Filename  EventID  hit  Volume  Triple  Quadruple\n",
       "0     TES-run0-rank1158_nt_hits.csv       82    0       1       0          0\n",
       "1     TES-run0-rank1158_nt_hits.csv      135    0       1       0          0\n",
       "2     TES-run0-rank1158_nt_hits.csv      146    0       1       0          0\n",
       "3     TES-run0-rank1158_nt_hits.csv      201    0       1       0          0\n",
       "4     TES-run0-rank1158_nt_hits.csv      238    0       1       0          0\n",
       "...                             ...      ...  ...     ...     ...        ...\n",
       "7109  TES-run0-rank1486_nt_hits.csv   488143    0       1       0          0\n",
       "7110  TES-run0-rank1486_nt_hits.csv   488181    0       1       0          0\n",
       "7111  TES-run0-rank1486_nt_hits.csv   488183    0       1       0          0\n",
       "7112  TES-run0-rank1486_nt_hits.csv   488212    0       1       0          0\n",
       "7113  TES-run0-rank1486_nt_hits.csv   488253    0       1       0          0\n",
       "\n",
       "[28880792 rows x 6 columns]"
      ]
     },
     "execution_count": 13,
     "metadata": {},
     "output_type": "execute_result"
    }
   ],
   "source": [
    "def processFile(filename):\n",
    "    \"\"\"Filtering out tes hits according to\"\"\"\n",
    "\n",
    "    # loading tes separately because of some error when using a copy\n",
    "    # using A cos(a) / (4*pi*r^2) approach to calculate the energy that reaches tes \n",
    "    tes = loadfile(filename)\n",
    "    tes = tes[tes.Volume.str.contains('E')] # select only substrate volumes \n",
    "    # tes['Distance'] = np.sqrt((tes.XPosition - tesPosition[0])**2 + (tes.YPosition - tesPosition[1])**2 + (tes.ZPosition - tesPosition[2])**2) # distance from a edep to tes\n",
    "    # tes['EnergyReached'] = tes.EnergyDeposited * tesArea * abs(tes.YPosition - tesPosition[1]) / (4 * np.pi * tes.Distance**3) # energy reached duh\n",
    "    # tes = tes.groupby('EventID')['EnergyReached'].sum().reset_index() # summing it per event\n",
    "    tes = tes.groupby('EventID')['EnergyDeposited'].sum().reset_index()\n",
    "    # tes = tes[tes.EnergyReached > 1*10**(-6)] # filtering out according to tes threshold\n",
    "    tes = tes[tes.EnergyDeposited > 0.0]\n",
    "    \n",
    "    # loading the rest of the dataframe\n",
    "    data = loadfile(filename)\n",
    "    data['hit'] = (data.EventID.isin(tes.EventID)).astype(int) # we assign event row a hit of 1 if it was registered by the tes above \n",
    "    \n",
    "    # filter electrons jumping from one saber to another\n",
    "    mask = ~(data['Origin Volume'].str.contains('phys') & (data.Volume != data['Origin Volume']))\n",
    "    data = data[mask]\n",
    "    \n",
    "    \n",
    "    data = data.groupby(['Filename','EventID', 'Volume', 'hit'])['EnergyDeposited'].sum().reset_index() # sum the energy per volume, hit and eventid are overlapping perfectly\n",
    "    data = data[~(data.Volume.str.contains('Silicon'))] # removing substrate volumes\n",
    "    \n",
    "\n",
    "    #saber thresholds\n",
    "    \n",
    "    mask = (data['Volume'] != 'phys1') | (data['EnergyDeposited'] >= 0.198)\n",
    "    data = data[mask]\n",
    "    \n",
    "    mask = (data['Volume'] != 'phys2') | (data['EnergyDeposited'] >= 0.183)\n",
    "    data = data[mask]\n",
    "    \n",
    "    mask = (data['Volume'] != 'phys3') | (data['EnergyDeposited'] >= 0.229)\n",
    "    data = data[mask]\n",
    "    \n",
    "    data = data.groupby(['Filename','EventID', 'hit'])['Volume'].count().reset_index() # count how many sabers were hit during the event\n",
    "    data['Triple'] = (data.Volume == 3).astype(int) # triple coincidences\n",
    "    data['Quadruple'] = ((data.hit == 1) & (data.Volume == 3)).astype(int) # quadruple \n",
    "\n",
    "    # tesHits = len(tes)\n",
    "    # triple = sum(data.Triple)\n",
    "    # quad = sum(data.Quadruple)\n",
    "\n",
    "    # return (tesHits, triple, quad)\n",
    "    # return triple\n",
    "    \n",
    "    return data\n",
    "\n",
    "processFiles        = parallel(processFile)\n",
    "processed           = processFiles(filenames)\n",
    "# processed           = np.array(processed).T\n",
    "\n",
    "# tesHits             = sum(processed[0])\n",
    "# tripleEvents        = sum(processed[1])\n",
    "# quadrupleEvents     = sum(processed[2])\n",
    "\n",
    "# content = f\"TES Hits = {tesHits}; Triple Coincidences = {tripleEvents}; Quadruple Coincidences = {quadrupleEvents}\"\n",
    "# print(content)\n",
    "\n",
    "\n",
    "data = pd.concat(processed)\n",
    "data"
   ]
  },
  {
   "cell_type": "code",
   "execution_count": 14,
   "id": "278c0ff8-3267-45cb-8f99-225d589965e9",
   "metadata": {},
   "outputs": [],
   "source": [
    "data.to_csv('../isaac.csv')"
   ]
  },
  {
   "cell_type": "markdown",
   "id": "3c5a391e-1036-43f1-881a-756b2854bcf1",
   "metadata": {
    "jp-MarkdownHeadingCollapsed": true,
    "tags": []
   },
   "source": [
    "## triple coincidence deviation calculation"
   ]
  },
  {
   "cell_type": "code",
   "execution_count": 6,
   "id": "81b30af4-0245-4100-8bbc-af291ea673e9",
   "metadata": {},
   "outputs": [],
   "source": [
    "def processFile(filename):\n",
    "\n",
    "\n",
    "    tes = loadfile(filename)\n",
    "    tes = tes[tes.Volume.str.contains('E')] \n",
    "    tes = tes.groupby('EventID')['EnergyDeposited'].sum().reset_index()\n",
    "    tes = tes[tes.EnergyDeposited > 0.0]\n",
    "    \n",
    "    data = loadfile(filename)\n",
    "    data['hit'] = (data.EventID.isin(tes.EventID)).astype(int) # we assign event row a hit of 1 if it was registered by the tes above \n",
    "    \n",
    "    # filter electrons jumping from one saber to another\n",
    "    mask = ~(data['Origin Volume'].str.contains('phys') & (data.Volume != data['Origin Volume']))\n",
    "    data = data[mask]\n",
    "    \n",
    "    \n",
    "    data = data.groupby(['EventID', 'Volume', 'hit'])['EnergyDeposited'].sum().reset_index() # sum the energy per volume, hit and eventid are overlapping perfectly\n",
    "    data = data[~(data.Volume.str.contains('Silicon'))] # removing substrate volumes\n",
    "        \n",
    "    triples = []\n",
    "    thresholds = np.arange(0.1,1.1,0.1)\n",
    "    \n",
    "    for threshold in thresholds:\n",
    "        \n",
    "        dataCopy = data[data.EnergyDeposited >= threshold]\n",
    "        dataCopy = dataCopy.groupby(['EventID', 'hit'])['Volume'].count().reset_index() # count how many sabers were hit during the event\n",
    "        dataCopy['Triple'] = (dataCopy.Volume == 3).astype(int) # triple coincidences\n",
    "\n",
    "        triple = sum(dataCopy.Triple)\n",
    "        triples.append(triple)\n",
    "        \n",
    "    return np.array(triples)"
   ]
  },
  {
   "cell_type": "code",
   "execution_count": 7,
   "id": "3d3b4260-ed98-4ee2-a0e6-068d21cabe4f",
   "metadata": {},
   "outputs": [
    {
     "name": "stderr",
     "output_type": "stream",
     "text": [
      "100%|██████████| 4096/4096 [02:26<00:00, 27.90it/s]\n"
     ]
    }
   ],
   "source": [
    "processed = parallel(processFile)(filenames)"
   ]
  },
  {
   "cell_type": "code",
   "execution_count": 8,
   "id": "562cc4b2-68bc-4193-8036-c8a0c7c9f009",
   "metadata": {},
   "outputs": [],
   "source": [
    "processed = np.array(processed).T"
   ]
  },
  {
   "cell_type": "code",
   "execution_count": 10,
   "id": "050ea8a8-baba-411a-9fb4-5fc2ee3595f0",
   "metadata": {},
   "outputs": [],
   "source": [
    "triples = [sum(array) for array in processed]"
   ]
  },
  {
   "cell_type": "code",
   "execution_count": 12,
   "id": "5fc79267-35d0-445e-8e0c-d24078905d39",
   "metadata": {},
   "outputs": [
    {
     "data": {
      "text/plain": [
       "[62225, 54210, 48669, 43950, 39992, 36360, 32926, 29878, 27288, 24771]"
      ]
     },
     "execution_count": 12,
     "metadata": {},
     "output_type": "execute_result"
    }
   ],
   "source": [
    "triples"
   ]
  },
  {
   "cell_type": "code",
   "execution_count": 11,
   "id": "7e386083-88e7-46f9-9089-84af175f8736",
   "metadata": {},
   "outputs": [
    {
     "data": {
      "text/plain": [
       "[<matplotlib.lines.Line2D at 0x155530c4c370>]"
      ]
     },
     "execution_count": 11,
     "metadata": {},
     "output_type": "execute_result"
    },
    {
     "data": {
      "image/png": "[encoded data removed]",
      "text/plain": [
       "<Figure size 640x480 with 1 Axes>"
      ]
     },
     "metadata": {},
     "output_type": "display_data"
    }
   ],
   "source": [
    "plt.plot(np.arange(0.1,1.1,0.1), triples)"
   ]
  },
  {
   "cell_type": "markdown",
   "id": "49bcd6e3-b19e-4b4f-99af-4d049881408d",
   "metadata": {
    "jp-MarkdownHeadingCollapsed": true,
    "tags": []
   },
   "source": [
    "## tes double coincidences "
   ]
  },
  {
   "cell_type": "code",
   "execution_count": 3,
   "id": "227e0bd1-ff60-4743-98e0-9ce5a5ce7b64",
   "metadata": {},
   "outputs": [
    {
     "name": "stderr",
     "output_type": "stream",
     "text": [
      "100%|██████████| 4096/4096 [01:28<00:00, 46.35it/s]\n"
     ]
    },
    {
     "name": "stdout",
     "output_type": "stream",
     "text": [
      "TES double coincidences =  161\n"
     ]
    }
   ],
   "source": [
    "def processFile(filename):\n",
    "    file = loadfile(filename)\n",
    "    file['ID'] = file.Filename + file.EventID.astype(str)\n",
    "    file = file.drop(columns = ['Filename', 'EventID'])\n",
    "\n",
    "    tesE = file[file.Volume.str.contains('E')]\n",
    "    tesE = tesE.groupby(['ID'])['EnergyDeposited'].sum().reset_index()\n",
    "    tesE = tesE[tesE.EnergyDeposited > 0.0]\n",
    "\n",
    "    tesB = file[file.Volume.str.contains('B')]\n",
    "    tesB = tesB.groupby(['ID'])['EnergyDeposited'].sum().reset_index()\n",
    "    tesB = tesB[tesB.EnergyDeposited > 0.0]\n",
    "\n",
    "    TESdoubleCoincidence = pd.merge(tesB, tesE, on = ['ID'], how = 'inner')\n",
    "    return len(TESdoubleCoincidence)\n",
    "\n",
    "processFiles        = parallel(processFile)\n",
    "processed           = processFiles(filenames)\n",
    "\n",
    "doubleCoincidences  = sum(processed)\n",
    "print(\"TES double coincidences = \", doubleCoincidences)"
   ]
  },
  {
   "cell_type": "markdown",
   "id": "a34c9119",
   "metadata": {
    "tags": []
   },
   "source": [
    "## All files at once if trigger on TES's was on"
   ]
  },
  {
   "cell_type": "code",
   "execution_count": 10,
   "id": "ec0637e9-50ca-49ae-a6af-d657f0fe5dcb",
   "metadata": {},
   "outputs": [
    {
     "name": "stderr",
     "output_type": "stream",
     "text": [
      "100%|██████████| 1839/1839 [00:07<00:00, 252.81it/s]\n"
     ]
    },
    {
     "data": {
      "text/html": [
       "<div>\n",
       "<style scoped>\n",
       "    .dataframe tbody tr th:only-of-type {\n",
       "        vertical-align: middle;\n",
       "    }\n",
       "\n",
       "    .dataframe tbody tr th {\n",
       "        vertical-align: top;\n",
       "    }\n",
       "\n",
       "    .dataframe thead th {\n",
       "        text-align: right;\n",
       "    }\n",
       "</style>\n",
       "<table border=\"1\" class=\"dataframe\">\n",
       "  <thead>\n",
       "    <tr style=\"text-align: right;\">\n",
       "      <th></th>\n",
       "      <th>Filename</th>\n",
       "      <th>EventID</th>\n",
       "      <th>TrackID</th>\n",
       "      <th>Particle</th>\n",
       "      <th>EnergyDeposited</th>\n",
       "      <th>XPosition</th>\n",
       "      <th>YPosition</th>\n",
       "      <th>ZPosition</th>\n",
       "      <th>LocalTime</th>\n",
       "      <th>Volume</th>\n",
       "      <th>Initial Energy</th>\n",
       "      <th>Origin Volume</th>\n",
       "      <th>MigrantID</th>\n",
       "    </tr>\n",
       "  </thead>\n",
       "  <tbody>\n",
       "    <tr>\n",
       "      <th>0</th>\n",
       "      <td>TES-run0-rank1666_nt_hits.csv</td>\n",
       "      <td>268</td>\n",
       "      <td>139</td>\n",
       "      <td>gamma</td>\n",
       "      <td>0.000000</td>\n",
       "      <td>-88.77450</td>\n",
       "      <td>-778.817</td>\n",
       "      <td>7.11037</td>\n",
       "      <td>0.976468</td>\n",
       "      <td>phys1</td>\n",
       "      <td>510.999</td>\n",
       "      <td>logicMagneticShield_PV</td>\n",
       "      <td>-1</td>\n",
       "    </tr>\n",
       "    <tr>\n",
       "      <th>1</th>\n",
       "      <td>TES-run0-rank1666_nt_hits.csv</td>\n",
       "      <td>467</td>\n",
       "      <td>1</td>\n",
       "      <td>gamma</td>\n",
       "      <td>0.000000</td>\n",
       "      <td>-61.83350</td>\n",
       "      <td>-778.817</td>\n",
       "      <td>47.77360</td>\n",
       "      <td>4.636240</td>\n",
       "      <td>phys2</td>\n",
       "      <td>14228.800</td>\n",
       "      <td>worldVolume_PV</td>\n",
       "      <td>-1</td>\n",
       "    </tr>\n",
       "    <tr>\n",
       "      <th>2</th>\n",
       "      <td>TES-run0-rank1666_nt_hits.csv</td>\n",
       "      <td>705</td>\n",
       "      <td>1</td>\n",
       "      <td>mu-</td>\n",
       "      <td>1.485280</td>\n",
       "      <td>-88.82970</td>\n",
       "      <td>-764.408</td>\n",
       "      <td>28.28530</td>\n",
       "      <td>7.634300</td>\n",
       "      <td>phys2</td>\n",
       "      <td>1026080.000</td>\n",
       "      <td>worldVolume_PV</td>\n",
       "      <td>-1</td>\n",
       "    </tr>\n",
       "    <tr>\n",
       "      <th>3</th>\n",
       "      <td>TES-run0-rank1666_nt_hits.csv</td>\n",
       "      <td>705</td>\n",
       "      <td>1</td>\n",
       "      <td>mu-</td>\n",
       "      <td>1.798350</td>\n",
       "      <td>-95.73560</td>\n",
       "      <td>-771.374</td>\n",
       "      <td>22.00000</td>\n",
       "      <td>7.673330</td>\n",
       "      <td>phys2</td>\n",
       "      <td>1026080.000</td>\n",
       "      <td>worldVolume_PV</td>\n",
       "      <td>-1</td>\n",
       "    </tr>\n",
       "    <tr>\n",
       "      <th>4</th>\n",
       "      <td>TES-run0-rank1666_nt_hits.csv</td>\n",
       "      <td>705</td>\n",
       "      <td>1</td>\n",
       "      <td>mu-</td>\n",
       "      <td>1.325880</td>\n",
       "      <td>-103.11300</td>\n",
       "      <td>-778.817</td>\n",
       "      <td>15.27370</td>\n",
       "      <td>7.715060</td>\n",
       "      <td>phys1</td>\n",
       "      <td>1026080.000</td>\n",
       "      <td>worldVolume_PV</td>\n",
       "      <td>-1</td>\n",
       "    </tr>\n",
       "    <tr>\n",
       "      <th>...</th>\n",
       "      <td>...</td>\n",
       "      <td>...</td>\n",
       "      <td>...</td>\n",
       "      <td>...</td>\n",
       "      <td>...</td>\n",
       "      <td>...</td>\n",
       "      <td>...</td>\n",
       "      <td>...</td>\n",
       "      <td>...</td>\n",
       "      <td>...</td>\n",
       "      <td>...</td>\n",
       "      <td>...</td>\n",
       "      <td>...</td>\n",
       "    </tr>\n",
       "    <tr>\n",
       "      <th>16168</th>\n",
       "      <td>TES-run0-rank1007_nt_hits.csv</td>\n",
       "      <td>246934</td>\n",
       "      <td>3</td>\n",
       "      <td>e+</td>\n",
       "      <td>0.003517</td>\n",
       "      <td>-34.62090</td>\n",
       "      <td>-759.995</td>\n",
       "      <td>-24.86310</td>\n",
       "      <td>0.358197</td>\n",
       "      <td>phys3</td>\n",
       "      <td>10395.300</td>\n",
       "      <td>Cryostat_Aluminum_PV</td>\n",
       "      <td>-1</td>\n",
       "    </tr>\n",
       "    <tr>\n",
       "      <th>16169</th>\n",
       "      <td>TES-run0-rank1007_nt_hits.csv</td>\n",
       "      <td>246934</td>\n",
       "      <td>3</td>\n",
       "      <td>e+</td>\n",
       "      <td>0.000000</td>\n",
       "      <td>-34.62090</td>\n",
       "      <td>-759.995</td>\n",
       "      <td>-24.86310</td>\n",
       "      <td>0.358197</td>\n",
       "      <td>phys3</td>\n",
       "      <td>10395.300</td>\n",
       "      <td>Cryostat_Aluminum_PV</td>\n",
       "      <td>-1</td>\n",
       "    </tr>\n",
       "    <tr>\n",
       "      <th>16170</th>\n",
       "      <td>TES-run0-rank1007_nt_hits.csv</td>\n",
       "      <td>246934</td>\n",
       "      <td>15</td>\n",
       "      <td>gamma</td>\n",
       "      <td>0.000000</td>\n",
       "      <td>-30.10430</td>\n",
       "      <td>-762.277</td>\n",
       "      <td>-22.00000</td>\n",
       "      <td>0.019393</td>\n",
       "      <td>phys3</td>\n",
       "      <td>510.999</td>\n",
       "      <td>phys3</td>\n",
       "      <td>-1</td>\n",
       "    </tr>\n",
       "    <tr>\n",
       "      <th>16171</th>\n",
       "      <td>TES-run0-rank1007_nt_hits.csv</td>\n",
       "      <td>246934</td>\n",
       "      <td>15</td>\n",
       "      <td>gamma</td>\n",
       "      <td>0.000000</td>\n",
       "      <td>2.64591</td>\n",
       "      <td>-778.817</td>\n",
       "      <td>-1.23980</td>\n",
       "      <td>0.160011</td>\n",
       "      <td>phys1</td>\n",
       "      <td>510.999</td>\n",
       "      <td>phys3</td>\n",
       "      <td>-1</td>\n",
       "    </tr>\n",
       "    <tr>\n",
       "      <th>16172</th>\n",
       "      <td>TES-run0-rank1007_nt_hits.csv</td>\n",
       "      <td>246934</td>\n",
       "      <td>14</td>\n",
       "      <td>gamma</td>\n",
       "      <td>0.000000</td>\n",
       "      <td>-36.95430</td>\n",
       "      <td>-758.817</td>\n",
       "      <td>-26.34220</td>\n",
       "      <td>0.010019</td>\n",
       "      <td>phys3</td>\n",
       "      <td>510.999</td>\n",
       "      <td>phys3</td>\n",
       "      <td>-1</td>\n",
       "    </tr>\n",
       "  </tbody>\n",
       "</table>\n",
       "<p>26957735 rows × 13 columns</p>\n",
       "</div>"
      ],
      "text/plain": [
       "                            Filename  EventID  TrackID Particle  \\\n",
       "0      TES-run0-rank1666_nt_hits.csv      268      139    gamma   \n",
       "1      TES-run0-rank1666_nt_hits.csv      467        1    gamma   \n",
       "2      TES-run0-rank1666_nt_hits.csv      705        1      mu-   \n",
       "3      TES-run0-rank1666_nt_hits.csv      705        1      mu-   \n",
       "4      TES-run0-rank1666_nt_hits.csv      705        1      mu-   \n",
       "...                              ...      ...      ...      ...   \n",
       "16168  TES-run0-rank1007_nt_hits.csv   246934        3       e+   \n",
       "16169  TES-run0-rank1007_nt_hits.csv   246934        3       e+   \n",
       "16170  TES-run0-rank1007_nt_hits.csv   246934       15    gamma   \n",
       "16171  TES-run0-rank1007_nt_hits.csv   246934       15    gamma   \n",
       "16172  TES-run0-rank1007_nt_hits.csv   246934       14    gamma   \n",
       "\n",
       "       EnergyDeposited  XPosition  YPosition  ZPosition  LocalTime Volume  \\\n",
       "0             0.000000  -88.77450   -778.817    7.11037   0.976468  phys1   \n",
       "1             0.000000  -61.83350   -778.817   47.77360   4.636240  phys2   \n",
       "2             1.485280  -88.82970   -764.408   28.28530   7.634300  phys2   \n",
       "3             1.798350  -95.73560   -771.374   22.00000   7.673330  phys2   \n",
       "4             1.325880 -103.11300   -778.817   15.27370   7.715060  phys1   \n",
       "...                ...        ...        ...        ...        ...    ...   \n",
       "16168         0.003517  -34.62090   -759.995  -24.86310   0.358197  phys3   \n",
       "16169         0.000000  -34.62090   -759.995  -24.86310   0.358197  phys3   \n",
       "16170         0.000000  -30.10430   -762.277  -22.00000   0.019393  phys3   \n",
       "16171         0.000000    2.64591   -778.817   -1.23980   0.160011  phys1   \n",
       "16172         0.000000  -36.95430   -758.817  -26.34220   0.010019  phys3   \n",
       "\n",
       "       Initial Energy           Origin Volume  MigrantID  \n",
       "0             510.999  logicMagneticShield_PV         -1  \n",
       "1           14228.800          worldVolume_PV         -1  \n",
       "2         1026080.000          worldVolume_PV         -1  \n",
       "3         1026080.000          worldVolume_PV         -1  \n",
       "4         1026080.000          worldVolume_PV         -1  \n",
       "...               ...                     ...        ...  \n",
       "16168       10395.300    Cryostat_Aluminum_PV         -1  \n",
       "16169       10395.300    Cryostat_Aluminum_PV         -1  \n",
       "16170         510.999                   phys3         -1  \n",
       "16171         510.999                   phys3         -1  \n",
       "16172         510.999                   phys3         -1  \n",
       "\n",
       "[26957735 rows x 13 columns]"
      ]
     },
     "execution_count": 10,
     "metadata": {},
     "output_type": "execute_result"
    }
   ],
   "source": [
    "files = pd.concat(parallel(loadfile)(filenames))\n",
    "files"
   ]
  },
  {
   "cell_type": "code",
   "execution_count": 20,
   "id": "5aaa1361-705b-42d9-bfab-d3d491bab6f2",
   "metadata": {},
   "outputs": [
    {
     "data": {
      "text/html": [
       "<div>\n",
       "<style scoped>\n",
       "    .dataframe tbody tr th:only-of-type {\n",
       "        vertical-align: middle;\n",
       "    }\n",
       "\n",
       "    .dataframe tbody tr th {\n",
       "        vertical-align: top;\n",
       "    }\n",
       "\n",
       "    .dataframe thead th {\n",
       "        text-align: right;\n",
       "    }\n",
       "</style>\n",
       "<table border=\"1\" class=\"dataframe\">\n",
       "  <thead>\n",
       "    <tr style=\"text-align: right;\">\n",
       "      <th></th>\n",
       "      <th>Filename</th>\n",
       "      <th>EventID</th>\n",
       "      <th>TrackID</th>\n",
       "      <th>Particle</th>\n",
       "      <th>EnergyDeposited</th>\n",
       "      <th>XPosition</th>\n",
       "      <th>YPosition</th>\n",
       "      <th>ZPosition</th>\n",
       "      <th>LocalTime</th>\n",
       "      <th>Volume</th>\n",
       "      <th>Initial Energy</th>\n",
       "      <th>Origin Volume</th>\n",
       "      <th>MigrantID</th>\n",
       "      <th>muon</th>\n",
       "    </tr>\n",
       "  </thead>\n",
       "  <tbody>\n",
       "    <tr>\n",
       "      <th>0</th>\n",
       "      <td>TES-run0-rank1666_nt_hits.csv</td>\n",
       "      <td>268</td>\n",
       "      <td>139</td>\n",
       "      <td>gamma</td>\n",
       "      <td>0.000000</td>\n",
       "      <td>-88.77450</td>\n",
       "      <td>-778.817</td>\n",
       "      <td>7.11037</td>\n",
       "      <td>0.976468</td>\n",
       "      <td>phys1</td>\n",
       "      <td>510.999</td>\n",
       "      <td>logicMagneticShield_PV</td>\n",
       "      <td>-1</td>\n",
       "      <td>1</td>\n",
       "    </tr>\n",
       "    <tr>\n",
       "      <th>2</th>\n",
       "      <td>TES-run0-rank1666_nt_hits.csv</td>\n",
       "      <td>705</td>\n",
       "      <td>1</td>\n",
       "      <td>mu-</td>\n",
       "      <td>1.485280</td>\n",
       "      <td>-88.82970</td>\n",
       "      <td>-764.408</td>\n",
       "      <td>28.28530</td>\n",
       "      <td>7.634300</td>\n",
       "      <td>phys2</td>\n",
       "      <td>1026080.000</td>\n",
       "      <td>worldVolume_PV</td>\n",
       "      <td>-1</td>\n",
       "      <td>1</td>\n",
       "    </tr>\n",
       "    <tr>\n",
       "      <th>3</th>\n",
       "      <td>TES-run0-rank1666_nt_hits.csv</td>\n",
       "      <td>705</td>\n",
       "      <td>1</td>\n",
       "      <td>mu-</td>\n",
       "      <td>1.798350</td>\n",
       "      <td>-95.73560</td>\n",
       "      <td>-771.374</td>\n",
       "      <td>22.00000</td>\n",
       "      <td>7.673330</td>\n",
       "      <td>phys2</td>\n",
       "      <td>1026080.000</td>\n",
       "      <td>worldVolume_PV</td>\n",
       "      <td>-1</td>\n",
       "      <td>1</td>\n",
       "    </tr>\n",
       "    <tr>\n",
       "      <th>4</th>\n",
       "      <td>TES-run0-rank1666_nt_hits.csv</td>\n",
       "      <td>705</td>\n",
       "      <td>1</td>\n",
       "      <td>mu-</td>\n",
       "      <td>1.325880</td>\n",
       "      <td>-103.11300</td>\n",
       "      <td>-778.817</td>\n",
       "      <td>15.27370</td>\n",
       "      <td>7.715060</td>\n",
       "      <td>phys1</td>\n",
       "      <td>1026080.000</td>\n",
       "      <td>worldVolume_PV</td>\n",
       "      <td>-1</td>\n",
       "      <td>1</td>\n",
       "    </tr>\n",
       "    <tr>\n",
       "      <th>5</th>\n",
       "      <td>TES-run0-rank1666_nt_hits.csv</td>\n",
       "      <td>705</td>\n",
       "      <td>6</td>\n",
       "      <td>e-</td>\n",
       "      <td>0.017295</td>\n",
       "      <td>-88.77020</td>\n",
       "      <td>-764.463</td>\n",
       "      <td>28.22370</td>\n",
       "      <td>0.000407</td>\n",
       "      <td>phys2</td>\n",
       "      <td>426.225</td>\n",
       "      <td>phys2</td>\n",
       "      <td>-1</td>\n",
       "      <td>1</td>\n",
       "    </tr>\n",
       "    <tr>\n",
       "      <th>...</th>\n",
       "      <td>...</td>\n",
       "      <td>...</td>\n",
       "      <td>...</td>\n",
       "      <td>...</td>\n",
       "      <td>...</td>\n",
       "      <td>...</td>\n",
       "      <td>...</td>\n",
       "      <td>...</td>\n",
       "      <td>...</td>\n",
       "      <td>...</td>\n",
       "      <td>...</td>\n",
       "      <td>...</td>\n",
       "      <td>...</td>\n",
       "      <td>...</td>\n",
       "    </tr>\n",
       "    <tr>\n",
       "      <th>16168</th>\n",
       "      <td>TES-run0-rank1007_nt_hits.csv</td>\n",
       "      <td>246934</td>\n",
       "      <td>3</td>\n",
       "      <td>e+</td>\n",
       "      <td>0.003517</td>\n",
       "      <td>-34.62090</td>\n",
       "      <td>-759.995</td>\n",
       "      <td>-24.86310</td>\n",
       "      <td>0.358197</td>\n",
       "      <td>phys3</td>\n",
       "      <td>10395.300</td>\n",
       "      <td>Cryostat_Aluminum_PV</td>\n",
       "      <td>-1</td>\n",
       "      <td>1</td>\n",
       "    </tr>\n",
       "    <tr>\n",
       "      <th>16169</th>\n",
       "      <td>TES-run0-rank1007_nt_hits.csv</td>\n",
       "      <td>246934</td>\n",
       "      <td>3</td>\n",
       "      <td>e+</td>\n",
       "      <td>0.000000</td>\n",
       "      <td>-34.62090</td>\n",
       "      <td>-759.995</td>\n",
       "      <td>-24.86310</td>\n",
       "      <td>0.358197</td>\n",
       "      <td>phys3</td>\n",
       "      <td>10395.300</td>\n",
       "      <td>Cryostat_Aluminum_PV</td>\n",
       "      <td>-1</td>\n",
       "      <td>1</td>\n",
       "    </tr>\n",
       "    <tr>\n",
       "      <th>16170</th>\n",
       "      <td>TES-run0-rank1007_nt_hits.csv</td>\n",
       "      <td>246934</td>\n",
       "      <td>15</td>\n",
       "      <td>gamma</td>\n",
       "      <td>0.000000</td>\n",
       "      <td>-30.10430</td>\n",
       "      <td>-762.277</td>\n",
       "      <td>-22.00000</td>\n",
       "      <td>0.019393</td>\n",
       "      <td>phys3</td>\n",
       "      <td>510.999</td>\n",
       "      <td>phys3</td>\n",
       "      <td>-1</td>\n",
       "      <td>1</td>\n",
       "    </tr>\n",
       "    <tr>\n",
       "      <th>16171</th>\n",
       "      <td>TES-run0-rank1007_nt_hits.csv</td>\n",
       "      <td>246934</td>\n",
       "      <td>15</td>\n",
       "      <td>gamma</td>\n",
       "      <td>0.000000</td>\n",
       "      <td>2.64591</td>\n",
       "      <td>-778.817</td>\n",
       "      <td>-1.23980</td>\n",
       "      <td>0.160011</td>\n",
       "      <td>phys1</td>\n",
       "      <td>510.999</td>\n",
       "      <td>phys3</td>\n",
       "      <td>-1</td>\n",
       "      <td>1</td>\n",
       "    </tr>\n",
       "    <tr>\n",
       "      <th>16172</th>\n",
       "      <td>TES-run0-rank1007_nt_hits.csv</td>\n",
       "      <td>246934</td>\n",
       "      <td>14</td>\n",
       "      <td>gamma</td>\n",
       "      <td>0.000000</td>\n",
       "      <td>-36.95430</td>\n",
       "      <td>-758.817</td>\n",
       "      <td>-26.34220</td>\n",
       "      <td>0.010019</td>\n",
       "      <td>phys3</td>\n",
       "      <td>510.999</td>\n",
       "      <td>phys3</td>\n",
       "      <td>-1</td>\n",
       "      <td>1</td>\n",
       "    </tr>\n",
       "  </tbody>\n",
       "</table>\n",
       "<p>18729254 rows × 14 columns</p>\n",
       "</div>"
      ],
      "text/plain": [
       "                            Filename  EventID  TrackID Particle  \\\n",
       "0      TES-run0-rank1666_nt_hits.csv      268      139    gamma   \n",
       "2      TES-run0-rank1666_nt_hits.csv      705        1      mu-   \n",
       "3      TES-run0-rank1666_nt_hits.csv      705        1      mu-   \n",
       "4      TES-run0-rank1666_nt_hits.csv      705        1      mu-   \n",
       "5      TES-run0-rank1666_nt_hits.csv      705        6       e-   \n",
       "...                              ...      ...      ...      ...   \n",
       "16168  TES-run0-rank1007_nt_hits.csv   246934        3       e+   \n",
       "16169  TES-run0-rank1007_nt_hits.csv   246934        3       e+   \n",
       "16170  TES-run0-rank1007_nt_hits.csv   246934       15    gamma   \n",
       "16171  TES-run0-rank1007_nt_hits.csv   246934       15    gamma   \n",
       "16172  TES-run0-rank1007_nt_hits.csv   246934       14    gamma   \n",
       "\n",
       "       EnergyDeposited  XPosition  YPosition  ZPosition  LocalTime Volume  \\\n",
       "0             0.000000  -88.77450   -778.817    7.11037   0.976468  phys1   \n",
       "2             1.485280  -88.82970   -764.408   28.28530   7.634300  phys2   \n",
       "3             1.798350  -95.73560   -771.374   22.00000   7.673330  phys2   \n",
       "4             1.325880 -103.11300   -778.817   15.27370   7.715060  phys1   \n",
       "5             0.017295  -88.77020   -764.463   28.22370   0.000407  phys2   \n",
       "...                ...        ...        ...        ...        ...    ...   \n",
       "16168         0.003517  -34.62090   -759.995  -24.86310   0.358197  phys3   \n",
       "16169         0.000000  -34.62090   -759.995  -24.86310   0.358197  phys3   \n",
       "16170         0.000000  -30.10430   -762.277  -22.00000   0.019393  phys3   \n",
       "16171         0.000000    2.64591   -778.817   -1.23980   0.160011  phys1   \n",
       "16172         0.000000  -36.95430   -758.817  -26.34220   0.010019  phys3   \n",
       "\n",
       "       Initial Energy           Origin Volume  MigrantID  muon  \n",
       "0             510.999  logicMagneticShield_PV         -1     1  \n",
       "2         1026080.000          worldVolume_PV         -1     1  \n",
       "3         1026080.000          worldVolume_PV         -1     1  \n",
       "4         1026080.000          worldVolume_PV         -1     1  \n",
       "5             426.225                   phys2         -1     1  \n",
       "...               ...                     ...        ...   ...  \n",
       "16168       10395.300    Cryostat_Aluminum_PV         -1     1  \n",
       "16169       10395.300    Cryostat_Aluminum_PV         -1     1  \n",
       "16170         510.999                   phys3         -1     1  \n",
       "16171         510.999                   phys3         -1     1  \n",
       "16172         510.999                   phys3         -1     1  \n",
       "\n",
       "[18729254 rows x 14 columns]"
      ]
     },
     "execution_count": 20,
     "metadata": {},
     "output_type": "execute_result"
    }
   ],
   "source": [
    "muon = files\n",
    "muon = muon[muon.Particle.str.contains('mu-')]\n",
    "data = files\n",
    "data['muon'] = (data.EventID.isin(muon.EventID)).astype(int)\n",
    "data = data[data['muon'] == 1]\n",
    "data"
   ]
  },
  {
   "cell_type": "code",
   "execution_count": 21,
   "id": "e6cc3acb-9144-4727-9cca-a8cecb38e2b7",
   "metadata": {},
   "outputs": [],
   "source": [
    "data = data[~(data.Volume.str.contains('Silicon'))] # removing substrate volumes\n",
    "data = data.groupby(['Filename','EventID', 'Volume'])['EnergyDeposited'].sum().reset_index() # sum the energy per volume, hit and eventid are overlapping perfectly"
   ]
  },
  {
   "cell_type": "code",
   "execution_count": 24,
   "id": "b0254f97-edd1-45ce-b619-d222e7e9b533",
   "metadata": {},
   "outputs": [
    {
     "data": {
      "text/html": [
       "<div>\n",
       "<style scoped>\n",
       "    .dataframe tbody tr th:only-of-type {\n",
       "        vertical-align: middle;\n",
       "    }\n",
       "\n",
       "    .dataframe tbody tr th {\n",
       "        vertical-align: top;\n",
       "    }\n",
       "\n",
       "    .dataframe thead th {\n",
       "        text-align: right;\n",
       "    }\n",
       "</style>\n",
       "<table border=\"1\" class=\"dataframe\">\n",
       "  <thead>\n",
       "    <tr style=\"text-align: right;\">\n",
       "      <th></th>\n",
       "      <th>Filename</th>\n",
       "      <th>EventID</th>\n",
       "      <th>Volume</th>\n",
       "      <th>EnergyDeposited</th>\n",
       "    </tr>\n",
       "  </thead>\n",
       "  <tbody>\n",
       "    <tr>\n",
       "      <th>2</th>\n",
       "      <td>TES-run0-rank0_nt_hits.csv</td>\n",
       "      <td>1220</td>\n",
       "      <td>phys1</td>\n",
       "      <td>1.879580</td>\n",
       "    </tr>\n",
       "    <tr>\n",
       "      <th>3</th>\n",
       "      <td>TES-run0-rank0_nt_hits.csv</td>\n",
       "      <td>1220</td>\n",
       "      <td>phys2</td>\n",
       "      <td>1.282222</td>\n",
       "    </tr>\n",
       "    <tr>\n",
       "      <th>5</th>\n",
       "      <td>TES-run0-rank0_nt_hits.csv</td>\n",
       "      <td>2433</td>\n",
       "      <td>phys1</td>\n",
       "      <td>4.218190</td>\n",
       "    </tr>\n",
       "    <tr>\n",
       "      <th>8</th>\n",
       "      <td>TES-run0-rank0_nt_hits.csv</td>\n",
       "      <td>2924</td>\n",
       "      <td>phys1</td>\n",
       "      <td>4.588341</td>\n",
       "    </tr>\n",
       "    <tr>\n",
       "      <th>11</th>\n",
       "      <td>TES-run0-rank0_nt_hits.csv</td>\n",
       "      <td>3666</td>\n",
       "      <td>phys3</td>\n",
       "      <td>3.485620</td>\n",
       "    </tr>\n",
       "    <tr>\n",
       "      <th>...</th>\n",
       "      <td>...</td>\n",
       "      <td>...</td>\n",
       "      <td>...</td>\n",
       "      <td>...</td>\n",
       "    </tr>\n",
       "    <tr>\n",
       "      <th>1498907</th>\n",
       "      <td>TES-run0-rank9_nt_hits.csv</td>\n",
       "      <td>340140</td>\n",
       "      <td>phys3</td>\n",
       "      <td>3.452110</td>\n",
       "    </tr>\n",
       "    <tr>\n",
       "      <th>1498908</th>\n",
       "      <td>TES-run0-rank9_nt_hits.csv</td>\n",
       "      <td>340612</td>\n",
       "      <td>phys1</td>\n",
       "      <td>4.531410</td>\n",
       "    </tr>\n",
       "    <tr>\n",
       "      <th>1498909</th>\n",
       "      <td>TES-run0-rank9_nt_hits.csv</td>\n",
       "      <td>341105</td>\n",
       "      <td>phys3</td>\n",
       "      <td>3.936690</td>\n",
       "    </tr>\n",
       "    <tr>\n",
       "      <th>1498910</th>\n",
       "      <td>TES-run0-rank9_nt_hits.csv</td>\n",
       "      <td>341109</td>\n",
       "      <td>phys2</td>\n",
       "      <td>4.125090</td>\n",
       "    </tr>\n",
       "    <tr>\n",
       "      <th>1498911</th>\n",
       "      <td>TES-run0-rank9_nt_hits.csv</td>\n",
       "      <td>342085</td>\n",
       "      <td>phys3</td>\n",
       "      <td>6.124564</td>\n",
       "    </tr>\n",
       "  </tbody>\n",
       "</table>\n",
       "<p>671004 rows × 4 columns</p>\n",
       "</div>"
      ],
      "text/plain": [
       "                           Filename  EventID Volume  EnergyDeposited\n",
       "2        TES-run0-rank0_nt_hits.csv     1220  phys1         1.879580\n",
       "3        TES-run0-rank0_nt_hits.csv     1220  phys2         1.282222\n",
       "5        TES-run0-rank0_nt_hits.csv     2433  phys1         4.218190\n",
       "8        TES-run0-rank0_nt_hits.csv     2924  phys1         4.588341\n",
       "11       TES-run0-rank0_nt_hits.csv     3666  phys3         3.485620\n",
       "...                             ...      ...    ...              ...\n",
       "1498907  TES-run0-rank9_nt_hits.csv   340140  phys3         3.452110\n",
       "1498908  TES-run0-rank9_nt_hits.csv   340612  phys1         4.531410\n",
       "1498909  TES-run0-rank9_nt_hits.csv   341105  phys3         3.936690\n",
       "1498910  TES-run0-rank9_nt_hits.csv   341109  phys2         4.125090\n",
       "1498911  TES-run0-rank9_nt_hits.csv   342085  phys3         6.124564\n",
       "\n",
       "[671004 rows x 4 columns]"
      ]
     },
     "execution_count": 24,
     "metadata": {},
     "output_type": "execute_result"
    }
   ],
   "source": [
    "data[data['EnergyDeposited'] > 1]"
   ]
  },
  {
   "cell_type": "code",
   "execution_count": 31,
   "id": "a436140f-23ef-479c-8541-3fc70e0ec055",
   "metadata": {},
   "outputs": [
    {
     "data": {
      "text/html": [
       "<div>\n",
       "<style scoped>\n",
       "    .dataframe tbody tr th:only-of-type {\n",
       "        vertical-align: middle;\n",
       "    }\n",
       "\n",
       "    .dataframe tbody tr th {\n",
       "        vertical-align: top;\n",
       "    }\n",
       "\n",
       "    .dataframe thead th {\n",
       "        text-align: right;\n",
       "    }\n",
       "</style>\n",
       "<table border=\"1\" class=\"dataframe\">\n",
       "  <thead>\n",
       "    <tr style=\"text-align: right;\">\n",
       "      <th></th>\n",
       "      <th>Filename</th>\n",
       "      <th>EventID</th>\n",
       "      <th>Volume</th>\n",
       "      <th>EnergyDeposited</th>\n",
       "    </tr>\n",
       "  </thead>\n",
       "  <tbody>\n",
       "    <tr>\n",
       "      <th>17</th>\n",
       "      <td>TES-run0-rank0_nt_hits.csv</td>\n",
       "      <td>19731</td>\n",
       "      <td>phys3</td>\n",
       "      <td>6.073620</td>\n",
       "    </tr>\n",
       "    <tr>\n",
       "      <th>22</th>\n",
       "      <td>TES-run0-rank0_nt_hits.csv</td>\n",
       "      <td>26495</td>\n",
       "      <td>phys3</td>\n",
       "      <td>5.449890</td>\n",
       "    </tr>\n",
       "    <tr>\n",
       "      <th>48</th>\n",
       "      <td>TES-run0-rank0_nt_hits.csv</td>\n",
       "      <td>71976</td>\n",
       "      <td>phys1</td>\n",
       "      <td>9.211156</td>\n",
       "    </tr>\n",
       "    <tr>\n",
       "      <th>51</th>\n",
       "      <td>TES-run0-rank0_nt_hits.csv</td>\n",
       "      <td>74094</td>\n",
       "      <td>phys1</td>\n",
       "      <td>5.057890</td>\n",
       "    </tr>\n",
       "    <tr>\n",
       "      <th>62</th>\n",
       "      <td>TES-run0-rank0_nt_hits.csv</td>\n",
       "      <td>86156</td>\n",
       "      <td>phys1</td>\n",
       "      <td>5.444270</td>\n",
       "    </tr>\n",
       "    <tr>\n",
       "      <th>...</th>\n",
       "      <td>...</td>\n",
       "      <td>...</td>\n",
       "      <td>...</td>\n",
       "      <td>...</td>\n",
       "    </tr>\n",
       "    <tr>\n",
       "      <th>346644</th>\n",
       "      <td>TES-run0-rank9_nt_hits.csv</td>\n",
       "      <td>248886</td>\n",
       "      <td>phys2</td>\n",
       "      <td>5.221400</td>\n",
       "    </tr>\n",
       "    <tr>\n",
       "      <th>346689</th>\n",
       "      <td>TES-run0-rank9_nt_hits.csv</td>\n",
       "      <td>304690</td>\n",
       "      <td>phys3</td>\n",
       "      <td>5.309002</td>\n",
       "    </tr>\n",
       "    <tr>\n",
       "      <th>346690</th>\n",
       "      <td>TES-run0-rank9_nt_hits.csv</td>\n",
       "      <td>305793</td>\n",
       "      <td>phys1</td>\n",
       "      <td>5.299616</td>\n",
       "    </tr>\n",
       "    <tr>\n",
       "      <th>346704</th>\n",
       "      <td>TES-run0-rank9_nt_hits.csv</td>\n",
       "      <td>327698</td>\n",
       "      <td>phys2</td>\n",
       "      <td>5.003040</td>\n",
       "    </tr>\n",
       "    <tr>\n",
       "      <th>346715</th>\n",
       "      <td>TES-run0-rank9_nt_hits.csv</td>\n",
       "      <td>342085</td>\n",
       "      <td>phys3</td>\n",
       "      <td>5.037240</td>\n",
       "    </tr>\n",
       "  </tbody>\n",
       "</table>\n",
       "<p>22169 rows × 4 columns</p>\n",
       "</div>"
      ],
      "text/plain": [
       "                          Filename  EventID Volume  EnergyDeposited\n",
       "17      TES-run0-rank0_nt_hits.csv    19731  phys3         6.073620\n",
       "22      TES-run0-rank0_nt_hits.csv    26495  phys3         5.449890\n",
       "48      TES-run0-rank0_nt_hits.csv    71976  phys1         9.211156\n",
       "51      TES-run0-rank0_nt_hits.csv    74094  phys1         5.057890\n",
       "62      TES-run0-rank0_nt_hits.csv    86156  phys1         5.444270\n",
       "...                            ...      ...    ...              ...\n",
       "346644  TES-run0-rank9_nt_hits.csv   248886  phys2         5.221400\n",
       "346689  TES-run0-rank9_nt_hits.csv   304690  phys3         5.309002\n",
       "346690  TES-run0-rank9_nt_hits.csv   305793  phys1         5.299616\n",
       "346704  TES-run0-rank9_nt_hits.csv   327698  phys2         5.003040\n",
       "346715  TES-run0-rank9_nt_hits.csv   342085  phys3         5.037240\n",
       "\n",
       "[22169 rows x 4 columns]"
      ]
     },
     "execution_count": 31,
     "metadata": {},
     "output_type": "execute_result"
    }
   ],
   "source": [
    "def saber_check(volume):\n",
    "    return 'phys1' in volume or 'phys2' in volume or 'phys3' in volume\n",
    "\n",
    "file = files[files.Particle.str.contains('mu-')]\n",
    "file = file.groupby(['Filename','EventID', 'Volume'])['EnergyDeposited'].sum().reset_index()\n",
    "\n",
    "# tes = file[file.Volume.str.contains('E')]\n",
    "saber = file[file.Volume.apply(saber_check)]\n",
    "saber = saber[saber.EnergyDeposited > 5]\n",
    "\n",
    "# file = pd.concat([tes,saber])\n",
    "# file\n",
    "saber"
   ]
  },
  {
   "cell_type": "code",
   "execution_count": null,
   "id": "434d60ec-86e5-4369-96c6-61a1d537940f",
   "metadata": {},
   "outputs": [],
   "source": []
  },
  {
   "cell_type": "code",
   "execution_count": 39,
   "id": "f170a65c-2ae0-46e1-b6ae-bd9ae9b5baa0",
   "metadata": {},
   "outputs": [
    {
     "data": {
      "text/html": [
       "<div>\n",
       "<style scoped>\n",
       "    .dataframe tbody tr th:only-of-type {\n",
       "        vertical-align: middle;\n",
       "    }\n",
       "\n",
       "    .dataframe tbody tr th {\n",
       "        vertical-align: top;\n",
       "    }\n",
       "\n",
       "    .dataframe thead th {\n",
       "        text-align: right;\n",
       "    }\n",
       "</style>\n",
       "<table border=\"1\" class=\"dataframe\">\n",
       "  <thead>\n",
       "    <tr style=\"text-align: right;\">\n",
       "      <th></th>\n",
       "      <th>Filename</th>\n",
       "      <th>EventID</th>\n",
       "      <th>Volume</th>\n",
       "      <th>EnergyDeposited</th>\n",
       "    </tr>\n",
       "  </thead>\n",
       "  <tbody>\n",
       "    <tr>\n",
       "      <th>0</th>\n",
       "      <td>TES-run0-rank0_nt_hits.csv</td>\n",
       "      <td>91</td>\n",
       "      <td>phys1</td>\n",
       "      <td>5.287390</td>\n",
       "    </tr>\n",
       "    <tr>\n",
       "      <th>1</th>\n",
       "      <td>TES-run0-rank0_nt_hits.csv</td>\n",
       "      <td>684</td>\n",
       "      <td>phys1</td>\n",
       "      <td>0.820301</td>\n",
       "    </tr>\n",
       "    <tr>\n",
       "      <th>2</th>\n",
       "      <td>TES-run0-rank0_nt_hits.csv</td>\n",
       "      <td>684</td>\n",
       "      <td>phys3</td>\n",
       "      <td>2.242566</td>\n",
       "    </tr>\n",
       "    <tr>\n",
       "      <th>3</th>\n",
       "      <td>TES-run0-rank0_nt_hits.csv</td>\n",
       "      <td>919</td>\n",
       "      <td>phys1</td>\n",
       "      <td>10.226627</td>\n",
       "    </tr>\n",
       "    <tr>\n",
       "      <th>4</th>\n",
       "      <td>TES-run0-rank0_nt_hits.csv</td>\n",
       "      <td>919</td>\n",
       "      <td>phys2</td>\n",
       "      <td>3.635794</td>\n",
       "    </tr>\n",
       "    <tr>\n",
       "      <th>...</th>\n",
       "      <td>...</td>\n",
       "      <td>...</td>\n",
       "      <td>...</td>\n",
       "      <td>...</td>\n",
       "    </tr>\n",
       "    <tr>\n",
       "      <th>234801</th>\n",
       "      <td>TES-run0-rank9_nt_hits.csv</td>\n",
       "      <td>23620</td>\n",
       "      <td>phys1</td>\n",
       "      <td>2.471228</td>\n",
       "    </tr>\n",
       "    <tr>\n",
       "      <th>234802</th>\n",
       "      <td>TES-run0-rank9_nt_hits.csv</td>\n",
       "      <td>23620</td>\n",
       "      <td>phys3</td>\n",
       "      <td>1.397670</td>\n",
       "    </tr>\n",
       "    <tr>\n",
       "      <th>234803</th>\n",
       "      <td>TES-run0-rank9_nt_hits.csv</td>\n",
       "      <td>23992</td>\n",
       "      <td>phys1</td>\n",
       "      <td>4.312344</td>\n",
       "    </tr>\n",
       "    <tr>\n",
       "      <th>234805</th>\n",
       "      <td>TES-run0-rank9_nt_hits.csv</td>\n",
       "      <td>24085</td>\n",
       "      <td>phys2</td>\n",
       "      <td>4.070610</td>\n",
       "    </tr>\n",
       "    <tr>\n",
       "      <th>234806</th>\n",
       "      <td>TES-run0-rank9_nt_hits.csv</td>\n",
       "      <td>24360</td>\n",
       "      <td>phys2</td>\n",
       "      <td>5.299856</td>\n",
       "    </tr>\n",
       "  </tbody>\n",
       "</table>\n",
       "<p>212892 rows × 4 columns</p>\n",
       "</div>"
      ],
      "text/plain": [
       "                          Filename  EventID Volume  EnergyDeposited\n",
       "0       TES-run0-rank0_nt_hits.csv       91  phys1         5.287390\n",
       "1       TES-run0-rank0_nt_hits.csv      684  phys1         0.820301\n",
       "2       TES-run0-rank0_nt_hits.csv      684  phys3         2.242566\n",
       "3       TES-run0-rank0_nt_hits.csv      919  phys1        10.226627\n",
       "4       TES-run0-rank0_nt_hits.csv      919  phys2         3.635794\n",
       "...                            ...      ...    ...              ...\n",
       "234801  TES-run0-rank9_nt_hits.csv    23620  phys1         2.471228\n",
       "234802  TES-run0-rank9_nt_hits.csv    23620  phys3         1.397670\n",
       "234803  TES-run0-rank9_nt_hits.csv    23992  phys1         4.312344\n",
       "234805  TES-run0-rank9_nt_hits.csv    24085  phys2         4.070610\n",
       "234806  TES-run0-rank9_nt_hits.csv    24360  phys2         5.299856\n",
       "\n",
       "[212892 rows x 4 columns]"
      ]
     },
     "execution_count": 39,
     "metadata": {},
     "output_type": "execute_result"
    }
   ],
   "source": [
    "def triple(arr):\n",
    "    return int('phys1' in arr and 'phys2' in arr and 'phys3' in arr)\n",
    "\n",
    "file = files[files.EnergyDeposited > 0.0]\n",
    "file = file.groupby(['Filename', 'EventID', 'Volume'])['EnergyDeposited'].sum().reset_index()\n",
    "file = file[file.EnergyDeposited > 0.2]\n",
    "file"
   ]
  },
  {
   "cell_type": "code",
   "execution_count": 40,
   "id": "6d826e20-5fb7-47bb-9062-d9ee943cce53",
   "metadata": {},
   "outputs": [
    {
     "data": {
      "text/plain": [
       "785"
      ]
     },
     "execution_count": 40,
     "metadata": {},
     "output_type": "execute_result"
    }
   ],
   "source": [
    "file = file.groupby(['Filename','EventID'])['Volume'].unique().reset_index()\n",
    "file['3C'] = file.Volume.apply(triple)\n",
    "file['3C'].sum()"
   ]
  },
  {
   "cell_type": "code",
   "execution_count": 43,
   "id": "2ade258f-ccba-4c0f-b813-4794fb9709f1",
   "metadata": {},
   "outputs": [
    {
     "data": {
      "text/plain": [
       "array(['mu+', 'gamma', 'mu-', 'e-', 'e+', 'neutron', 'C12', 'proton',\n",
       "       'nu_e', 'anti_nu_e', 'anti_nu_mu', 'pi-', 'C13', 'nu_mu', 'pi+',\n",
       "       'anti_proton'], dtype=object)"
      ]
     },
     "execution_count": 43,
     "metadata": {},
     "output_type": "execute_result"
    }
   ],
   "source": [
    "files.Particle.unique()"
   ]
  },
  {
   "cell_type": "code",
   "execution_count": 16,
   "id": "9e03e217-73b2-417d-b18c-404758df0051",
   "metadata": {},
   "outputs": [
    {
     "data": {
      "text/html": [
       "<div>\n",
       "<style scoped>\n",
       "    .dataframe tbody tr th:only-of-type {\n",
       "        vertical-align: middle;\n",
       "    }\n",
       "\n",
       "    .dataframe tbody tr th {\n",
       "        vertical-align: top;\n",
       "    }\n",
       "\n",
       "    .dataframe thead th {\n",
       "        text-align: right;\n",
       "    }\n",
       "</style>\n",
       "<table border=\"1\" class=\"dataframe\">\n",
       "  <thead>\n",
       "    <tr style=\"text-align: right;\">\n",
       "      <th></th>\n",
       "      <th>EventID</th>\n",
       "      <th>Volume</th>\n",
       "      <th>4C</th>\n",
       "    </tr>\n",
       "  </thead>\n",
       "  <tbody>\n",
       "    <tr>\n",
       "      <th>0</th>\n",
       "      <td>0</td>\n",
       "      <td>[phys1, phys2, phys3]</td>\n",
       "      <td>0</td>\n",
       "    </tr>\n",
       "    <tr>\n",
       "      <th>1</th>\n",
       "      <td>1</td>\n",
       "      <td>[phys1, phys2, phys3]</td>\n",
       "      <td>0</td>\n",
       "    </tr>\n",
       "    <tr>\n",
       "      <th>2</th>\n",
       "      <td>2</td>\n",
       "      <td>[phys1, phys2, phys3]</td>\n",
       "      <td>0</td>\n",
       "    </tr>\n",
       "    <tr>\n",
       "      <th>3</th>\n",
       "      <td>3</td>\n",
       "      <td>[phys1, phys2, phys3]</td>\n",
       "      <td>0</td>\n",
       "    </tr>\n",
       "    <tr>\n",
       "      <th>4</th>\n",
       "      <td>4</td>\n",
       "      <td>[phys1, phys2, phys3]</td>\n",
       "      <td>0</td>\n",
       "    </tr>\n",
       "    <tr>\n",
       "      <th>...</th>\n",
       "      <td>...</td>\n",
       "      <td>...</td>\n",
       "      <td>...</td>\n",
       "    </tr>\n",
       "    <tr>\n",
       "      <th>24401</th>\n",
       "      <td>24411</td>\n",
       "      <td>[phys2, phys3]</td>\n",
       "      <td>0</td>\n",
       "    </tr>\n",
       "    <tr>\n",
       "      <th>24402</th>\n",
       "      <td>24412</td>\n",
       "      <td>[phys1, phys3]</td>\n",
       "      <td>0</td>\n",
       "    </tr>\n",
       "    <tr>\n",
       "      <th>24403</th>\n",
       "      <td>24413</td>\n",
       "      <td>[phys1, phys2, phys3]</td>\n",
       "      <td>0</td>\n",
       "    </tr>\n",
       "    <tr>\n",
       "      <th>24404</th>\n",
       "      <td>24458</td>\n",
       "      <td>[phys2]</td>\n",
       "      <td>0</td>\n",
       "    </tr>\n",
       "    <tr>\n",
       "      <th>24405</th>\n",
       "      <td>24586</td>\n",
       "      <td>[phys3]</td>\n",
       "      <td>0</td>\n",
       "    </tr>\n",
       "  </tbody>\n",
       "</table>\n",
       "<p>24406 rows × 3 columns</p>\n",
       "</div>"
      ],
      "text/plain": [
       "       EventID                 Volume  4C\n",
       "0            0  [phys1, phys2, phys3]   0\n",
       "1            1  [phys1, phys2, phys3]   0\n",
       "2            2  [phys1, phys2, phys3]   0\n",
       "3            3  [phys1, phys2, phys3]   0\n",
       "4            4  [phys1, phys2, phys3]   0\n",
       "...        ...                    ...  ..\n",
       "24401    24411         [phys2, phys3]   0\n",
       "24402    24412         [phys1, phys3]   0\n",
       "24403    24413  [phys1, phys2, phys3]   0\n",
       "24404    24458                [phys2]   0\n",
       "24405    24586                [phys3]   0\n",
       "\n",
       "[24406 rows x 3 columns]"
      ]
     },
     "execution_count": 16,
     "metadata": {},
     "output_type": "execute_result"
    }
   ],
   "source": [
    "def quadruple(arr):\n",
    "    return int( 'phys1' in arr and 'phys2' in arr and 'phys3' in arr and any('B' in s for s in arr))\n",
    "\n",
    "file = file.groupby(['EventID'])['Volume'].unique().reset_index()\n",
    "file['4C'] = file.Volume.apply(quadruple)\n",
    "file"
   ]
  },
  {
   "cell_type": "code",
   "execution_count": 17,
   "id": "c65d910b-8343-4650-add2-41deff800659",
   "metadata": {},
   "outputs": [
    {
     "data": {
      "text/plain": [
       "28"
      ]
     },
     "execution_count": 17,
     "metadata": {},
     "output_type": "execute_result"
    }
   ],
   "source": [
    "file['4C'].sum()"
   ]
  },
  {
   "cell_type": "markdown",
   "id": "f77251cc",
   "metadata": {
    "jp-MarkdownHeadingCollapsed": true,
    "tags": []
   },
   "source": [
    "## Inter saber double coincidence"
   ]
  },
  {
   "cell_type": "code",
   "execution_count": 47,
   "id": "c779898b-b1e4-4de8-8e74-dd319e03f6cd",
   "metadata": {},
   "outputs": [
    {
     "name": "stderr",
     "output_type": "stream",
     "text": [
      "100%|██████████| 4096/4096 [01:25<00:00, 47.92it/s]\n"
     ]
    }
   ],
   "source": [
    "def double(a,b,sabers):\n",
    "        return pd.merge(sabers[a-1],sabers[b-1], on = ['EventID'], how = 'inner')\n",
    "\n",
    "def processFile(filename):\n",
    "    file = loadfile(filename)\n",
    "\n",
    "    sabers = []\n",
    "    for phys in ('phys1', 'phys2', 'phys3'):\n",
    "        saber = file[file.Volume.str.contains(phys)].groupby(['EventID'])['EnergyDeposited'].sum().reset_index()\n",
    "        saber = saber[saber.EnergyDeposited > 1.0]\n",
    "        sabers.append(saber)\n",
    "\n",
    "    singles = {}\n",
    "\n",
    "    singles['1'] = len(sabers[1])\n",
    "    singles['2'] = len(sabers[0])\n",
    "    singles['3'] = len(sabers[2])\n",
    "\n",
    "    doubles = {}\n",
    "\n",
    "    doubles['1,2'] = len(double(1,2,sabers))\n",
    "    doubles['1,3'] = len(double(2,3,sabers))\n",
    "    doubles['2,3'] = len(double(1,3,sabers))\n",
    "    \n",
    "    return singles, doubles\n",
    "\n",
    "processFiles = parallel(processFile)\n",
    "processed    = processFiles(filenames)\n",
    "processed    = np.array(processed).T\n",
    "\n",
    "singles = processed[0]\n",
    "doubles = processed[1]"
   ]
  },
  {
   "cell_type": "code",
   "execution_count": 51,
   "id": "f697a4b0",
   "metadata": {},
   "outputs": [],
   "source": [
    "sabers = {'1':0, '2':0, '3':0}\n",
    "pairs  = {'1,2':0, '1,3':0, '2,3':0}\n",
    "\n",
    "for key in ['1','2','3']:\n",
    "    for single in singles:\n",
    "        sabers[key] += single[key]\n",
    "        \n",
    "for key in ['1,2', '1,3', '2,3']:\n",
    "    for double in doubles:\n",
    "        pairs[key] += double[key]"
   ]
  },
  {
   "cell_type": "code",
   "execution_count": 52,
   "id": "753741c3",
   "metadata": {},
   "outputs": [
    {
     "data": {
      "text/plain": [
       "{'1': 9346225, '2': 12521941, '3': 6990196}"
      ]
     },
     "execution_count": 52,
     "metadata": {},
     "output_type": "execute_result"
    }
   ],
   "source": [
    "sabers"
   ]
  },
  {
   "cell_type": "code",
   "execution_count": 53,
   "id": "ea28cc35",
   "metadata": {},
   "outputs": [
    {
     "data": {
      "text/plain": [
       "{'1,2': 909416, '1,3': 103401, '2,3': 708396}"
      ]
     },
     "execution_count": 53,
     "metadata": {},
     "output_type": "execute_result"
    }
   ],
   "source": [
    "pairs"
   ]
  },
  {
   "cell_type": "code",
   "execution_count": 66,
   "id": "d7983207",
   "metadata": {},
   "outputs": [
    {
     "data": {
      "text/plain": [
       "47.071982459072636"
      ]
     },
     "execution_count": 66,
     "metadata": {},
     "output_type": "execute_result"
    }
   ],
   "source": [
    "pairs['1,3']/pairs['1,2']*414"
   ]
  },
  {
   "cell_type": "markdown",
   "id": "af2ac98f-b8b9-4cf6-be8e-013ae609cade",
   "metadata": {
    "jp-MarkdownHeadingCollapsed": true,
    "tags": []
   },
   "source": [
    "## Check particle compostion in cosmic run and presence of showers"
   ]
  },
  {
   "cell_type": "code",
   "execution_count": 113,
   "id": "b04387da-cc01-499f-ab6c-8cf49704166f",
   "metadata": {},
   "outputs": [
    {
     "data": {
      "text/html": [
       "<div>\n",
       "<style scoped>\n",
       "    .dataframe tbody tr th:only-of-type {\n",
       "        vertical-align: middle;\n",
       "    }\n",
       "\n",
       "    .dataframe tbody tr th {\n",
       "        vertical-align: top;\n",
       "    }\n",
       "\n",
       "    .dataframe thead th {\n",
       "        text-align: right;\n",
       "    }\n",
       "</style>\n",
       "<table border=\"1\" class=\"dataframe\">\n",
       "  <thead>\n",
       "    <tr style=\"text-align: right;\">\n",
       "      <th></th>\n",
       "      <th>EventID</th>\n",
       "      <th>TrackID</th>\n",
       "      <th>Volume</th>\n",
       "      <th>hit</th>\n",
       "      <th>EnergyDeposited</th>\n",
       "      <th>Triple</th>\n",
       "      <th>Quadruple</th>\n",
       "    </tr>\n",
       "  </thead>\n",
       "  <tbody>\n",
       "    <tr>\n",
       "      <th>0</th>\n",
       "      <td>238</td>\n",
       "      <td>1</td>\n",
       "      <td>1.0</td>\n",
       "      <td>0</td>\n",
       "      <td>3.343540</td>\n",
       "      <td>0</td>\n",
       "      <td>0</td>\n",
       "    </tr>\n",
       "    <tr>\n",
       "      <th>4</th>\n",
       "      <td>944</td>\n",
       "      <td>1</td>\n",
       "      <td>2.0</td>\n",
       "      <td>0</td>\n",
       "      <td>3.531930</td>\n",
       "      <td>0</td>\n",
       "      <td>0</td>\n",
       "    </tr>\n",
       "    <tr>\n",
       "      <th>5</th>\n",
       "      <td>944</td>\n",
       "      <td>3</td>\n",
       "      <td>1.0</td>\n",
       "      <td>0</td>\n",
       "      <td>0.701684</td>\n",
       "      <td>0</td>\n",
       "      <td>0</td>\n",
       "    </tr>\n",
       "    <tr>\n",
       "      <th>6</th>\n",
       "      <td>1034</td>\n",
       "      <td>1</td>\n",
       "      <td>1.0</td>\n",
       "      <td>0</td>\n",
       "      <td>3.859600</td>\n",
       "      <td>0</td>\n",
       "      <td>0</td>\n",
       "    </tr>\n",
       "    <tr>\n",
       "      <th>8</th>\n",
       "      <td>1046</td>\n",
       "      <td>1</td>\n",
       "      <td>1.0</td>\n",
       "      <td>0</td>\n",
       "      <td>3.765740</td>\n",
       "      <td>0</td>\n",
       "      <td>0</td>\n",
       "    </tr>\n",
       "    <tr>\n",
       "      <th>...</th>\n",
       "      <td>...</td>\n",
       "      <td>...</td>\n",
       "      <td>...</td>\n",
       "      <td>...</td>\n",
       "      <td>...</td>\n",
       "      <td>...</td>\n",
       "      <td>...</td>\n",
       "    </tr>\n",
       "    <tr>\n",
       "      <th>2480</th>\n",
       "      <td>242307</td>\n",
       "      <td>1</td>\n",
       "      <td>NaN</td>\n",
       "      <td>0</td>\n",
       "      <td>2.304420</td>\n",
       "      <td>0</td>\n",
       "      <td>0</td>\n",
       "    </tr>\n",
       "    <tr>\n",
       "      <th>2482</th>\n",
       "      <td>243091</td>\n",
       "      <td>1</td>\n",
       "      <td>NaN</td>\n",
       "      <td>0</td>\n",
       "      <td>3.279600</td>\n",
       "      <td>0</td>\n",
       "      <td>0</td>\n",
       "    </tr>\n",
       "    <tr>\n",
       "      <th>2483</th>\n",
       "      <td>243204</td>\n",
       "      <td>1</td>\n",
       "      <td>NaN</td>\n",
       "      <td>0</td>\n",
       "      <td>2.545200</td>\n",
       "      <td>0</td>\n",
       "      <td>0</td>\n",
       "    </tr>\n",
       "    <tr>\n",
       "      <th>2484</th>\n",
       "      <td>243641</td>\n",
       "      <td>1</td>\n",
       "      <td>NaN</td>\n",
       "      <td>0</td>\n",
       "      <td>3.557180</td>\n",
       "      <td>0</td>\n",
       "      <td>0</td>\n",
       "    </tr>\n",
       "    <tr>\n",
       "      <th>2485</th>\n",
       "      <td>243802</td>\n",
       "      <td>1</td>\n",
       "      <td>NaN</td>\n",
       "      <td>0</td>\n",
       "      <td>3.929600</td>\n",
       "      <td>0</td>\n",
       "      <td>0</td>\n",
       "    </tr>\n",
       "  </tbody>\n",
       "</table>\n",
       "<p>1001 rows × 7 columns</p>\n",
       "</div>"
      ],
      "text/plain": [
       "      EventID  TrackID  Volume  hit  EnergyDeposited  Triple  Quadruple\n",
       "0         238        1     1.0    0         3.343540       0          0\n",
       "4         944        1     2.0    0         3.531930       0          0\n",
       "5         944        3     1.0    0         0.701684       0          0\n",
       "6        1034        1     1.0    0         3.859600       0          0\n",
       "8        1046        1     1.0    0         3.765740       0          0\n",
       "...       ...      ...     ...  ...              ...     ...        ...\n",
       "2480   242307        1     NaN    0         2.304420       0          0\n",
       "2482   243091        1     NaN    0         3.279600       0          0\n",
       "2483   243204        1     NaN    0         2.545200       0          0\n",
       "2484   243641        1     NaN    0         3.557180       0          0\n",
       "2485   243802        1     NaN    0         3.929600       0          0\n",
       "\n",
       "[1001 rows x 7 columns]"
      ]
     },
     "execution_count": 113,
     "metadata": {},
     "output_type": "execute_result"
    }
   ],
   "source": [
    "filename = filenames[0]\n",
    "\n",
    "tes = loadfile(filename)\n",
    "tes = tes[tes.Volume.str.contains('Silicon')] # select only substrate volumes \n",
    "tes = tes.groupby(['EventID','TrackID'])['EnergyDeposited'].sum().reset_index()\n",
    "tes = tes[tes.EnergyDeposited > 1*10**(-6)]\n",
    "\n",
    "data = loadfile(filename)\n",
    "data['hit'] = (data.EventID.isin(tes.EventID)).astype(int) # we assign event row a hit of 1 if it was registered by the tes above \n",
    "data = data.groupby(['EventID','TrackID', 'Volume', 'hit'])['EnergyDeposited'].sum().reset_index() # sum the energy per volume, hit and eventid are overlapping perfectly\n",
    "data = data[~(data.Volume.str.contains('Silicon')) & (data.EnergyDeposited > 0.2)] # removing substrate volumes and apply the sabers threshold\n",
    "data['Volume'] = data.groupby(['EventID', 'hit'])['Volume'].count().reset_index()['Volume'] # count how many sabers were hit during the event\n",
    "data['Triple'] = (data.Volume == 3).astype(int) # triple coincidences\n",
    "data['Quadruple'] = ((data.hit == 1) & (data.Volume == 3)).astype(int) # quadruple\n",
    "data"
   ]
  },
  {
   "cell_type": "code",
   "execution_count": 114,
   "id": "3431a1e5-53fb-427a-a495-d288a5484031",
   "metadata": {},
   "outputs": [
    {
     "data": {
      "text/plain": [
       "([0, 1, 2, 3, 4, 5, 6],\n",
       " [Text(0, 0, 'worldVolume_PV'),\n",
       "  Text(1, 0, 'phys2'),\n",
       "  Text(2, 0, 'phys4'),\n",
       "  Text(3, 0, 'Cryostat_Aluminum_PV'),\n",
       "  Text(4, 0, 'phys1'),\n",
       "  Text(5, 0, 'logicCopperPlate_PV'),\n",
       "  Text(6, 0, 'logicCopperBox_PV')])"
      ]
     },
     "execution_count": 114,
     "metadata": {},
     "output_type": "execute_result"
    },
    {
     "data": {
      "image/png": "[encoded data removed]",
      "text/plain": [
       "<Figure size 640x480 with 1 Axes>"
      ]
     },
     "metadata": {},
     "output_type": "display_data"
    }
   ],
   "source": [
    "file = loadfile(filenames[0]).fillna('NA')\n",
    "file = file[~(file.Volume.str.contains('Silicon'))]\n",
    "# file = file[~(file['Origin Volume'].isin(['phys1', 'phys2', 'phys3']))]\n",
    "file = file.groupby(['EventID','TrackID','Particle','Origin Volume'])['EnergyDeposited'].sum().reset_index()\n",
    "file = file[file.EnergyDeposited > 0.2]\n",
    "file['Origin Volume'].hist()\n",
    "plt.xticks(rotation = 90)"
   ]
  },
  {
   "cell_type": "code",
   "execution_count": 115,
   "id": "92b84c1a-1246-4aab-8cae-47d1893e826f",
   "metadata": {},
   "outputs": [
    {
     "data": {
      "text/plain": [
       "<Axes: >"
      ]
     },
     "execution_count": 115,
     "metadata": {},
     "output_type": "execute_result"
    },
    {
     "data": {
      "image/png": "[encoded data removed]",
      "text/plain": [
       "<Figure size 640x480 with 1 Axes>"
      ]
     },
     "metadata": {},
     "output_type": "display_data"
    }
   ],
   "source": [
    "# file[file['Origin Volume'].str.contains('world')]['Particle'].hist()\n",
    "file['Particle'].hist()"
   ]
  },
  {
   "cell_type": "code",
   "execution_count": 116,
   "id": "e3a6d450-7254-430c-a3af-ec4b28794e7c",
   "metadata": {},
   "outputs": [
    {
     "data": {
      "image/png": "[encoded data removed]",
      "text/plain": [
       "<Figure size 640x480 with 1 Axes>"
      ]
     },
     "metadata": {},
     "output_type": "display_data"
    }
   ],
   "source": [
    "file[file['Origin Volume'].str.contains('world')].groupby(['EventID'])['TrackID'].count().reset_index()['TrackID'].hist()\n",
    "plt.yscale('log')"
   ]
  },
  {
   "cell_type": "markdown",
   "id": "a57ef195-56fc-4e83-962a-a6d4abcad992",
   "metadata": {
    "jp-MarkdownHeadingCollapsed": true,
    "tags": []
   },
   "source": [
    "## Check for low energy depositions on the TES in cosmic run"
   ]
  },
  {
   "cell_type": "code",
   "execution_count": 112,
   "id": "ba9aa13e-5add-4a6d-8ff0-73118ea1dc78",
   "metadata": {},
   "outputs": [
    {
     "name": "stderr",
     "output_type": "stream",
     "text": [
      "100%|██████████| 4096/4096 [00:20<00:00, 203.06it/s]\n"
     ]
    },
    {
     "data": {
      "text/plain": [
       "<Axes: >"
      ]
     },
     "execution_count": 112,
     "metadata": {},
     "output_type": "execute_result"
    },
    {
     "data": {
      "image/png": "[encoded data removed]",
      "text/plain": [
       "<Figure size 640x480 with 1 Axes>"
      ]
     },
     "metadata": {},
     "output_type": "display_data"
    }
   ],
   "source": [
    "loadfiles = parallel(loadfile)\n",
    "files = pd.concat(loadfiles(filenames))\n",
    "tes = files[files.Volume.str.contains('Silicon')]\n",
    "tes = tes.groupby(['Filename','EventID'])['EnergyDeposited'].sum().reset_index()\n",
    "tes = tes[(tes.EnergyDeposited > 1 * 10**(-6)) & (tes.EnergyDeposited < 100 * 10**(-6))]\n",
    "tes.EnergyDeposited.hist(bins = 200)"
   ]
  },
  {
   "cell_type": "markdown",
   "id": "d41a5a04-ecfe-4edb-8494-0a4f93dd6814",
   "metadata": {
    "jp-MarkdownHeadingCollapsed": true,
    "tags": []
   },
   "source": [
    "# Thorium run check"
   ]
  },
  {
   "cell_type": "markdown",
   "id": "acaf3911-18b5-4083-ae1e-9d6ae0bfdd6a",
   "metadata": {
    "tags": []
   },
   "source": [
    "## Double coincidence counting"
   ]
  },
  {
   "cell_type": "code",
   "execution_count": 12,
   "id": "72a6e9f3-ee08-42e6-980a-b94b4912eadb",
   "metadata": {},
   "outputs": [
    {
     "name": "stderr",
     "output_type": "stream",
     "text": [
      "100%|██████████| 4096/4096 [00:06<00:00, 612.31it/s]"
     ]
    },
    {
     "name": "stdout",
     "output_type": "stream",
     "text": [
      "TES Hits = 10783; saber Hits = 0; Double Coincidences = 0\n"
     ]
    },
    {
     "name": "stderr",
     "output_type": "stream",
     "text": [
      "\n"
     ]
    }
   ],
   "source": [
    "def processFile(filename):\n",
    "    file = loadfile(filename)\n",
    "    file = file[file.Particle != 'alpha']\n",
    "    # file = file[file.EnergyDeposited > 0.0]\n",
    "    # file = file.groupby(['EventID', 'TrackID','Volume'])['EnergyDeposited'].sum().reset_index()\n",
    "\n",
    "    tes = file[file.Volume.str.contains('E')]\n",
    "    tesIn = tes[tes.MigrantID != -1]\n",
    "    tesIn = tesIn.drop(columns = ['TrackID'])\n",
    "    tesIn.rename(columns = {'MigrantID':'TrackID'}, inplace = True)\n",
    "\n",
    "    tesOut = tes[tes.MigrantID == -1]\n",
    "    tes = pd.concat([tesOut, tesIn])\n",
    "    tes = tes.drop(columns = 'MigrantID')\n",
    "    tes = tes.groupby(['EventID', 'TrackID'])['EnergyDeposited'].sum().reset_index()\n",
    "    tes = tes[tes.EnergyDeposited > 0.0]\n",
    "    \n",
    "    saber = file[file.Volume.str.contains('Saber')]\n",
    "    saberIn = saber[saber.MigrantID != -1]\n",
    "    saberIn = saberIn.drop(columns = ['TrackID'])\n",
    "    saberIn.rename(columns = {'MigrantID':'TrackID'}, inplace = True)\n",
    "\n",
    "    saberOut = saber[saber.MigrantID == -1]\n",
    "    saber = pd.concat([saberOut, saberIn])\n",
    "    saber = saber.drop(columns = 'MigrantID')\n",
    "    saber = saber.groupby(['EventID', 'TrackID'])['EnergyDeposited'].sum().reset_index()\n",
    "    saber = saber[saber.EnergyDeposited >= 1.0]\n",
    "    \n",
    "    # if len(pd.merge(saber,tes, on = ['EventID', 'TrackID'], how = 'inner')) != len(tes):\n",
    "    #     print(filename)\n",
    "    \n",
    "\n",
    "    double = pd.merge(saber, tes, on = ['EventID', 'TrackID'], how = 'inner')\n",
    "    # if len(double) > 0:\n",
    "        # print(double)\n",
    "    return (len(tes), len(saber), len(double))\n",
    "    # return len(saber)\n",
    "\n",
    "processFiles        = parallel(processFile)\n",
    "processed           = processFiles(filenames)\n",
    "processed           = np.array(processed).T\n",
    "\n",
    "tesHits             = sum(processed[0])\n",
    "saberHits           = sum(processed[1])\n",
    "triple              = sum(processed[2])\n",
    "\n",
    "content = f\"TES Hits = {tesHits}; saber Hits = {saberHits}; Double Coincidences = {triple}\"\n",
    "print(content)\n",
    "\n",
    "# print(sum(processed))"
   ]
  },
  {
   "cell_type": "markdown",
   "id": "d1cad963-1ce0-4a4b-a9ee-209c77fc8c3e",
   "metadata": {},
   "source": [
    "## TES double coincidence"
   ]
  },
  {
   "cell_type": "code",
   "execution_count": 2,
   "id": "0d77fc30-e200-49d3-a029-07e7582961eb",
   "metadata": {},
   "outputs": [
    {
     "name": "stderr",
     "output_type": "stream",
     "text": [
      "100%|██████████| 4096/4096 [00:08<00:00, 490.81it/s]"
     ]
    },
    {
     "name": "stdout",
     "output_type": "stream",
     "text": [
      "TES double coincidences =  48\n"
     ]
    },
    {
     "name": "stderr",
     "output_type": "stream",
     "text": [
      "\n"
     ]
    }
   ],
   "source": [
    "def processFile(filename):\n",
    "    file = loadfile(filename)\n",
    "    file = file[file.Particle != 'alpha']\n",
    "    file = file[file.EnergyDeposited > 0.0]\n",
    "    \n",
    "    tesB = file[file.Volume.str.contains('B')]\n",
    "    tesIn = tesB[tesB.MigrantID != -1]\n",
    "    tesIn = tesIn.drop(columns = ['TrackID'])\n",
    "    tesIn.rename(columns = {'MigrantID':'TrackID'}, inplace = True)\n",
    "\n",
    "    tesOut = tesB[tesB.MigrantID == -1]\n",
    "    tesB = pd.concat([tesOut, tesIn])\n",
    "    tesB = tesB.drop(columns = 'MigrantID')\n",
    "    tesB = tesB.groupby(['EventID', 'TrackID'])['EnergyDeposited'].sum().reset_index()\n",
    "    tesB = tesB[tesB.EnergyDeposited >= 0.0]\n",
    "\n",
    "    tesE = file[file.Volume.str.contains('E')]\n",
    "    tesIn = tesE[tesE.MigrantID != -1]\n",
    "    tesIn = tesIn.drop(columns = ['TrackID'])\n",
    "    tesIn.rename(columns = {'MigrantID':'TrackID'}, inplace = True)\n",
    "\n",
    "    tesOut = tesE[tesE.MigrantID == -1]\n",
    "    tesE = pd.concat([tesOut, tesIn])\n",
    "    tesE = tesE.drop(columns = 'MigrantID')\n",
    "    tesE = tesE.groupby(['EventID', 'TrackID'])['EnergyDeposited'].sum().reset_index()\n",
    "    tesE = tesE[tesE.EnergyDeposited >= 0.0]\n",
    "\n",
    "    TESdoubleCoincidence = pd.merge(tesB, tesE, on = ['EventID', 'TrackID'], how = 'inner')\n",
    "    return len(TESdoubleCoincidence)\n",
    "\n",
    "processFiles        = parallel(processFile)\n",
    "processed           = processFiles(filenames)\n",
    "\n",
    "doubleCoincidences  = sum(processed)\n",
    "print(\"TES double coincidences = \", doubleCoincidences)"
   ]
  },
  {
   "cell_type": "code",
   "execution_count": 13,
   "id": "c72dc3a6-51f9-4017-9d39-2ece2abc97ba",
   "metadata": {},
   "outputs": [
    {
     "data": {
      "text/html": [
       "<div>\n",
       "<style scoped>\n",
       "    .dataframe tbody tr th:only-of-type {\n",
       "        vertical-align: middle;\n",
       "    }\n",
       "\n",
       "    .dataframe tbody tr th {\n",
       "        vertical-align: top;\n",
       "    }\n",
       "\n",
       "    .dataframe thead th {\n",
       "        text-align: right;\n",
       "    }\n",
       "</style>\n",
       "<table border=\"1\" class=\"dataframe\">\n",
       "  <thead>\n",
       "    <tr style=\"text-align: right;\">\n",
       "      <th></th>\n",
       "      <th>EventID</th>\n",
       "      <th>TrackID</th>\n",
       "      <th>EnergyDeposited</th>\n",
       "    </tr>\n",
       "  </thead>\n",
       "  <tbody>\n",
       "    <tr>\n",
       "      <th>159</th>\n",
       "      <td>576</td>\n",
       "      <td>3</td>\n",
       "      <td>1.67496</td>\n",
       "    </tr>\n",
       "  </tbody>\n",
       "</table>\n",
       "</div>"
      ],
      "text/plain": [
       "     EventID  TrackID  EnergyDeposited\n",
       "159      576        3          1.67496"
      ]
     },
     "execution_count": 13,
     "metadata": {},
     "output_type": "execute_result"
    }
   ],
   "source": [
    "file = loadfile(filenames[0])\n",
    "saber = file[file.Volume.str.contains('Saber')]\n",
    "saberIn = saber[saber.MigrantID != -1]\n",
    "saberIn = saberIn.drop(columns = ['TrackID'])\n",
    "saberIn.rename(columns = {'MigrantID':'TrackID'}, inplace = True)\n",
    "\n",
    "saberOut = saber[saber.MigrantID == -1]\n",
    "saber = pd.concat([saberOut, saberIn])\n",
    "saber = saber.drop(columns = 'MigrantID')\n",
    "saber = saber.groupby(['EventID', 'TrackID'])['EnergyDeposited'].sum().reset_index()\n",
    "saber = saber[saber.EnergyDeposited >= 1.1]\n",
    "saber"
   ]
  },
  {
   "cell_type": "code",
   "execution_count": 3,
   "id": "23adfa9c-7c26-4722-9828-525c7745f919",
   "metadata": {},
   "outputs": [
    {
     "name": "stderr",
     "output_type": "stream",
     "text": [
      "100%|██████████| 4096/4096 [00:02<00:00, 1464.71it/s]\n"
     ]
    }
   ],
   "source": [
    "data = pd.concat(parallel(loadfile)(filenames))"
   ]
  },
  {
   "cell_type": "code",
   "execution_count": 4,
   "id": "14f34c84-a968-4bb1-afbd-07a05004f4f8",
   "metadata": {},
   "outputs": [
    {
     "data": {
      "text/html": [
       "<div>\n",
       "<style scoped>\n",
       "    .dataframe tbody tr th:only-of-type {\n",
       "        vertical-align: middle;\n",
       "    }\n",
       "\n",
       "    .dataframe tbody tr th {\n",
       "        vertical-align: top;\n",
       "    }\n",
       "\n",
       "    .dataframe thead th {\n",
       "        text-align: right;\n",
       "    }\n",
       "</style>\n",
       "<table border=\"1\" class=\"dataframe\">\n",
       "  <thead>\n",
       "    <tr style=\"text-align: right;\">\n",
       "      <th></th>\n",
       "      <th>EventID</th>\n",
       "      <th>EnergyDeposited</th>\n",
       "    </tr>\n",
       "  </thead>\n",
       "  <tbody>\n",
       "    <tr>\n",
       "      <th>21</th>\n",
       "      <td>22</td>\n",
       "      <td>0.009584</td>\n",
       "    </tr>\n",
       "    <tr>\n",
       "      <th>143</th>\n",
       "      <td>155</td>\n",
       "      <td>0.025503</td>\n",
       "    </tr>\n",
       "    <tr>\n",
       "      <th>245</th>\n",
       "      <td>266</td>\n",
       "      <td>0.094083</td>\n",
       "    </tr>\n",
       "    <tr>\n",
       "      <th>285</th>\n",
       "      <td>308</td>\n",
       "      <td>0.028465</td>\n",
       "    </tr>\n",
       "    <tr>\n",
       "      <th>342</th>\n",
       "      <td>371</td>\n",
       "      <td>0.020824</td>\n",
       "    </tr>\n",
       "    <tr>\n",
       "      <th>...</th>\n",
       "      <td>...</td>\n",
       "      <td>...</td>\n",
       "    </tr>\n",
       "    <tr>\n",
       "      <th>228808</th>\n",
       "      <td>243805</td>\n",
       "      <td>0.051613</td>\n",
       "    </tr>\n",
       "    <tr>\n",
       "      <th>228829</th>\n",
       "      <td>243828</td>\n",
       "      <td>0.192254</td>\n",
       "    </tr>\n",
       "    <tr>\n",
       "      <th>229039</th>\n",
       "      <td>244053</td>\n",
       "      <td>0.019237</td>\n",
       "    </tr>\n",
       "    <tr>\n",
       "      <th>229057</th>\n",
       "      <td>244071</td>\n",
       "      <td>0.077407</td>\n",
       "    </tr>\n",
       "    <tr>\n",
       "      <th>229109</th>\n",
       "      <td>244127</td>\n",
       "      <td>0.012972</td>\n",
       "    </tr>\n",
       "  </tbody>\n",
       "</table>\n",
       "<p>4272 rows × 2 columns</p>\n",
       "</div>"
      ],
      "text/plain": [
       "        EventID  EnergyDeposited\n",
       "21           22         0.009584\n",
       "143         155         0.025503\n",
       "245         266         0.094083\n",
       "285         308         0.028465\n",
       "342         371         0.020824\n",
       "...         ...              ...\n",
       "228808   243805         0.051613\n",
       "228829   243828         0.192254\n",
       "229039   244053         0.019237\n",
       "229057   244071         0.077407\n",
       "229109   244127         0.012972\n",
       "\n",
       "[4272 rows x 2 columns]"
      ]
     },
     "execution_count": 4,
     "metadata": {},
     "output_type": "execute_result"
    }
   ],
   "source": [
    "file = data[data.Volume.str.contains('E')]\n",
    "file = file.groupby(['EventID'])['EnergyDeposited'].sum().reset_index()\n",
    "file = file[file.EnergyDeposited >= 10**(-6)]\n",
    "file"
   ]
  },
  {
   "cell_type": "markdown",
   "id": "0f7f574d-449f-4777-8bbb-74e8ccc1736a",
   "metadata": {
    "tags": []
   },
   "source": [
    "## Couting alpha secondaries in the saber"
   ]
  },
  {
   "cell_type": "code",
   "execution_count": 17,
   "id": "d28fc991-48f5-4df0-82b0-5fc81ec917b5",
   "metadata": {},
   "outputs": [
    {
     "name": "stderr",
     "output_type": "stream",
     "text": [
      "100%|██████████| 1024/1024 [01:02<00:00, 16.34it/s]\n"
     ]
    },
    {
     "name": "stdout",
     "output_type": "stream",
     "text": [
      "1999326\n"
     ]
    }
   ],
   "source": [
    "def processFile(filename):\n",
    "    file = loadfile(filename)\n",
    "    data = file[file.Volume.str.contains('Saber')]\n",
    "    data = data.groupby(['EventID','TrackID','Particle', 'Origin Volume', 'MigrantID'])['EnergyDeposited'].sum().reset_index()\n",
    "\n",
    "    originInside = data[data['Origin Volume'].str.contains('Silicon')]\n",
    "    originInside = originInside.drop(columns = ['TrackID', 'Particle','Origin Volume'])\n",
    "    originInside = originInside.rename(columns = {'MigrantID':'TrackID', 'EnergyDeposited':'EnergyFromInside'})\n",
    "\n",
    "    originOutside = data[~(data['Origin Volume'].str.contains('Silicon'))]\n",
    "    originOutside = originOutside.drop(columns = ['Origin Volume','MigrantID'])\n",
    "    originOutside = originOutside.rename(columns = {'EnergyDeposited':'EnergyFromOutside'})\n",
    "\n",
    "    combined = pd.merge(originOutside, originInside, on = ['EventID', 'TrackID'], how = 'left').fillna(0)\n",
    "    combined['EnergyDeposited'] = combined['EnergyFromOutside'] + combined['EnergyFromInside']\n",
    "    combined = combined[combined['EnergyDeposited'] > 0.2]\n",
    "    combined = combined[combined.Particle != 'alpha']\n",
    "    \n",
    "    return len(combined)\n",
    "\n",
    "processFiles        = parallel(processFile)\n",
    "processed           = processFiles(filenames)\n",
    "saberHits           = sum(processed)\n",
    "\n",
    "print(saberHits)"
   ]
  },
  {
   "cell_type": "markdown",
   "id": "abbd433c-5444-4db3-834b-18ec9898a37e",
   "metadata": {
    "jp-MarkdownHeadingCollapsed": true,
    "tags": []
   },
   "source": [
    "# Na"
   ]
  },
  {
   "cell_type": "code",
   "execution_count": 5,
   "id": "4ef79951-b45a-401d-b0e4-07ec62376e6b",
   "metadata": {},
   "outputs": [
    {
     "name": "stderr",
     "output_type": "stream",
     "text": [
      "100%|██████████| 1024/1024 [00:01<00:00, 513.00it/s]\n"
     ]
    },
    {
     "data": {
      "text/html": [
       "<div>\n",
       "<style scoped>\n",
       "    .dataframe tbody tr th:only-of-type {\n",
       "        vertical-align: middle;\n",
       "    }\n",
       "\n",
       "    .dataframe tbody tr th {\n",
       "        vertical-align: top;\n",
       "    }\n",
       "\n",
       "    .dataframe thead th {\n",
       "        text-align: right;\n",
       "    }\n",
       "</style>\n",
       "<table border=\"1\" class=\"dataframe\">\n",
       "  <thead>\n",
       "    <tr style=\"text-align: right;\">\n",
       "      <th></th>\n",
       "      <th>EventID</th>\n",
       "      <th>EnergyDeposited_x</th>\n",
       "      <th>EnergyDeposited_y</th>\n",
       "    </tr>\n",
       "  </thead>\n",
       "  <tbody>\n",
       "  </tbody>\n",
       "</table>\n",
       "</div>"
      ],
      "text/plain": [
       "Empty DataFrame\n",
       "Columns: [EventID, EnergyDeposited_x, EnergyDeposited_y]\n",
       "Index: []"
      ]
     },
     "execution_count": 5,
     "metadata": {},
     "output_type": "execute_result"
    }
   ],
   "source": [
    "def triple_check(arr):\n",
    "    return int('saber1' in arr and any('E' in s for s in arr))\n",
    "\n",
    "file = pd.concat(parallel(loadfile)(filenames))\n",
    "file = file[file.EnergyDeposited > 0.0]\n",
    "file = file[~((file.Particle.str.contains('e')) & (file['Origin Volume'] == 'worldVolume_PV'))]\n",
    "\n",
    "tes = file[file.Volume.str.contains('E')]\n",
    "tes = tes.groupby(['EventID'])['EnergyDeposited'].sum().reset_index()\n",
    "\n",
    "saber = file[file.Volume.str.contains('saber1')]\n",
    "saber = saber.groupby(['EventID'])['EnergyDeposited'].sum().reset_index()\n",
    "saber = saber[saber.EnergyDeposited > 0.183]\n",
    "\n",
    "double = pd.merge(tes,saber, on=['EventID'], how=\"inner\")\n",
    "\n",
    "double"
   ]
  },
  {
   "cell_type": "code",
   "execution_count": 32,
   "id": "1d1e6e69-4245-4e43-a505-0de99dbddef7",
   "metadata": {},
   "outputs": [
    {
     "name": "stderr",
     "output_type": "stream",
     "text": [
      "100%|██████████| 2096/2096 [00:00<00:00, 3490.47it/s]\n"
     ]
    }
   ],
   "source": [
    "from multiprocessing import Pool\n",
    "from tqdm import tqdm\n",
    "import pandas as pd\n",
    "\n",
    "def process_single_file(filename):\n",
    "    file = loadfile(filename)\n",
    "    file = file[file.EnergyDeposited > 0.0]\n",
    "    tes = file[file.Volume.str.contains('E')]\n",
    "    tes = tes.groupby(['EventID'])['EnergyDeposited'].sum().reset_index()\n",
    "\n",
    "    return len(tes)\n",
    "\n",
    "def init_worker():\n",
    "    import signal\n",
    "    signal.signal(signal.SIGINT, signal.SIG_IGN)\n",
    "\n",
    "def process_files_parallel(filenames):\n",
    "    with Pool(initializer=init_worker) as pool:\n",
    "        results = list(tqdm(pool.imap(process_single_file, filenames), total=len(filenames)))\n",
    "\n",
    "    return sum(results)\n",
    "\n",
    "# Use the process_files_parallel function to process each file separately in parallel\n",
    "result = process_files_parallel(filenames)\n"
   ]
  },
  {
   "cell_type": "code",
   "execution_count": 33,
   "id": "0de43a84-c613-46d6-890a-64707a923ebd",
   "metadata": {},
   "outputs": [
    {
     "data": {
      "text/plain": [
       "4017"
      ]
     },
     "execution_count": 33,
     "metadata": {},
     "output_type": "execute_result"
    }
   ],
   "source": [
    "result"
   ]
  },
  {
   "cell_type": "code",
   "execution_count": 8,
   "id": "a38ff953-83e8-4523-8b4b-ea5893cd4ad2",
   "metadata": {},
   "outputs": [
    {
     "data": {
      "text/html": [
       "<div>\n",
       "<style scoped>\n",
       "    .dataframe tbody tr th:only-of-type {\n",
       "        vertical-align: middle;\n",
       "    }\n",
       "\n",
       "    .dataframe tbody tr th {\n",
       "        vertical-align: top;\n",
       "    }\n",
       "\n",
       "    .dataframe thead th {\n",
       "        text-align: right;\n",
       "    }\n",
       "</style>\n",
       "<table border=\"1\" class=\"dataframe\">\n",
       "  <thead>\n",
       "    <tr style=\"text-align: right;\">\n",
       "      <th></th>\n",
       "      <th>EventID</th>\n",
       "      <th>EnergyDeposited</th>\n",
       "    </tr>\n",
       "  </thead>\n",
       "  <tbody>\n",
       "    <tr>\n",
       "      <th>0</th>\n",
       "      <td>31</td>\n",
       "      <td>0.004001</td>\n",
       "    </tr>\n",
       "    <tr>\n",
       "      <th>1</th>\n",
       "      <td>137</td>\n",
       "      <td>0.015779</td>\n",
       "    </tr>\n",
       "    <tr>\n",
       "      <th>2</th>\n",
       "      <td>371</td>\n",
       "      <td>0.381365</td>\n",
       "    </tr>\n",
       "    <tr>\n",
       "      <th>3</th>\n",
       "      <td>451</td>\n",
       "      <td>0.038026</td>\n",
       "    </tr>\n",
       "    <tr>\n",
       "      <th>4</th>\n",
       "      <td>691</td>\n",
       "      <td>0.006582</td>\n",
       "    </tr>\n",
       "    <tr>\n",
       "      <th>...</th>\n",
       "      <td>...</td>\n",
       "      <td>...</td>\n",
       "    </tr>\n",
       "    <tr>\n",
       "      <th>4781</th>\n",
       "      <td>975911</td>\n",
       "      <td>0.277179</td>\n",
       "    </tr>\n",
       "    <tr>\n",
       "      <th>4782</th>\n",
       "      <td>975990</td>\n",
       "      <td>0.014224</td>\n",
       "    </tr>\n",
       "    <tr>\n",
       "      <th>4783</th>\n",
       "      <td>976304</td>\n",
       "      <td>0.308245</td>\n",
       "    </tr>\n",
       "    <tr>\n",
       "      <th>4784</th>\n",
       "      <td>976392</td>\n",
       "      <td>0.045102</td>\n",
       "    </tr>\n",
       "    <tr>\n",
       "      <th>4785</th>\n",
       "      <td>976537</td>\n",
       "      <td>0.244152</td>\n",
       "    </tr>\n",
       "  </tbody>\n",
       "</table>\n",
       "<p>4786 rows × 2 columns</p>\n",
       "</div>"
      ],
      "text/plain": [
       "      EventID  EnergyDeposited\n",
       "0          31         0.004001\n",
       "1         137         0.015779\n",
       "2         371         0.381365\n",
       "3         451         0.038026\n",
       "4         691         0.006582\n",
       "...       ...              ...\n",
       "4781   975911         0.277179\n",
       "4782   975990         0.014224\n",
       "4783   976304         0.308245\n",
       "4784   976392         0.045102\n",
       "4785   976537         0.244152\n",
       "\n",
       "[4786 rows x 2 columns]"
      ]
     },
     "execution_count": 8,
     "metadata": {},
     "output_type": "execute_result"
    }
   ],
   "source": [
    "tes"
   ]
  },
  {
   "cell_type": "markdown",
   "id": "5e5d2a47-a0ab-4755-851f-7365e3ef81cd",
   "metadata": {
    "jp-MarkdownHeadingCollapsed": true,
    "tags": []
   },
   "source": [
    "# Weird stuff check"
   ]
  },
  {
   "cell_type": "code",
   "execution_count": null,
   "id": "5e7ffe28-d90c-43b1-a86c-9625456d6f97",
   "metadata": {},
   "outputs": [],
   "source": [
    "weirdFiles = ['TES-run0-rank61_nt_hits.csv', 'TES-run0-rank828_nt_hits.csv', 'TES-run0-rank636_nt_hits.csv', 'TES-run0-rank338_nt_hits.csv', 'TES-run0-rank278_nt_hits.csv',\n",
    "              'TES-run0-rank443_nt_hits.csv', 'TES-run0-rank319_nt_hits.csv', 'TES-run0-rank849_nt_hits.csv', 'TES-run0-rank512_nt_hits.csv']"
   ]
  },
  {
   "cell_type": "code",
   "execution_count": null,
   "id": "765e49ad-5f39-4fcf-b96c-8f9995775598",
   "metadata": {},
   "outputs": [],
   "source": [
    "loadfiles = parallel(loadfile)"
   ]
  },
  {
   "cell_type": "code",
   "execution_count": null,
   "id": "a652405a-3dc5-4450-b678-8e113b8ea4ed",
   "metadata": {},
   "outputs": [],
   "source": [
    "weirdData = pd.concat(loadfiles(weirdFiles))"
   ]
  },
  {
   "cell_type": "code",
   "execution_count": null,
   "id": "bc2a5770-6848-4b0c-bf82-e421e2799daf",
   "metadata": {},
   "outputs": [],
   "source": [
    "def processFile(filename):\n",
    "    file = loadfile(filename)\n",
    "    file = file[file.Particle != 'alpha']\n",
    "    # file = file[file.EnergyDeposited > 0.0]\n",
    "    # file = file.groupby(['EventID', 'TrackID','Volume'])['EnergyDeposited'].sum().reset_index()\n",
    "\n",
    "    tes = file[file.Volume.str.contains('Silicon')]\n",
    "    tesIn = tes[tes.MigrantID != -1]\n",
    "    tesIn = tesIn.drop(columns = ['TrackID'])\n",
    "    tesIn.rename(columns = {'MigrantID':'TrackID'}, inplace = True)\n",
    "\n",
    "    tesOut = tes[tes.MigrantID == -1]\n",
    "    tes = pd.concat([tesOut, tesIn])\n",
    "    tes = tes.drop(columns = 'MigrantID')\n",
    "    tes = tes.groupby(['EventID', 'TrackID'])['EnergyDeposited'].sum().reset_index()\n",
    "    tes = tes[tes.EnergyDeposited >= 0.0]\n",
    "    \n",
    "    saber = file[file.Volume.str.contains('Saber')]\n",
    "    saberIn = saber[saber.MigrantID != -1]\n",
    "    saberIn = saberIn.drop(columns = ['TrackID'])\n",
    "    saberIn.rename(columns = {'MigrantID':'TrackID'}, inplace = True)\n",
    "\n",
    "    saberOut = saber[saber.MigrantID == -1]\n",
    "    saber = pd.concat([saberOut, saberIn])\n",
    "    saber = saber.drop(columns = 'MigrantID')\n",
    "    saber = saber.groupby(['EventID', 'TrackID'])['EnergyDeposited'].sum().reset_index()\n",
    "    saber = saber[saber.EnergyDeposited >= 0.2]\n",
    "    \n",
    "    # if len(pd.merge(saber,tes, on = ['EventID', 'TrackID'], how = 'inner')) != len(tes):\n",
    "    #     print(filename)\n",
    "    \n",
    "\n",
    "    double = pd.merge(tes, saber, on = ['EventID', 'TrackID'], how = 'inner')\n",
    "    print(double)\n",
    "    return (len(tes), len(saber), len(double))\n",
    "\n",
    "processFiles        = parallel(processFile)\n",
    "processed           = processFiles(weirdFiles)\n",
    "processed           = np.array(processed).T\n",
    "\n",
    "tesHits             = sum(processed[0])\n",
    "saberHits           = sum(processed[1])\n",
    "triple              = sum(processed[2])\n",
    "\n",
    "content = f\"TES Hits = {tesHits}; saber Hits = {saberHits}; Double Coincidences = {triple}\"\n",
    "print(content)"
   ]
  },
  {
   "cell_type": "code",
   "execution_count": null,
   "id": "cd5a3953-5390-40e2-bbcc-439294de21f7",
   "metadata": {},
   "outputs": [],
   "source": [
    "weirdData = weirdData[weirdData.Particle != 'alpha']"
   ]
  },
  {
   "cell_type": "code",
   "execution_count": null,
   "id": "083d5d49-2f9d-49b4-aa84-d20d674c4e26",
   "metadata": {},
   "outputs": [],
   "source": [
    "weirdTES = weirdData[weirdData.Volume.str.contains('Silicon')]\n",
    "weirdTESIn = weirdTES[weirdTES.MigrantID != -1]\n",
    "weirdTESIn = weirdTESIn.drop(columns = ['TrackID'])\n",
    "weirdTESIn.rename(columns = {'MigrantID':'TrackID'}, inplace = True)\n",
    "\n",
    "weirdTESOut = weirdTES[weirdTES.MigrantID == -1]\n",
    "weirdTES = pd.concat([weirdTESOut, weirdTESIn])\n",
    "weirdTES = weirdTES.drop(columns = 'MigrantID')\n",
    "weirdTES = weirdTES.groupby(['Filename','EventID', 'TrackID'])['EnergyDeposited'].sum().reset_index()\n",
    "weirdTES = weirdTES[weirdTES.EnergyDeposited >= 0.0]\n",
    "weirdTES"
   ]
  },
  {
   "cell_type": "code",
   "execution_count": null,
   "id": "99ced158-f478-4e39-93f8-a1278b8a1138",
   "metadata": {},
   "outputs": [],
   "source": [
    "weirdSaber = weirdData[weirdData.Volume.str.contains('Saber')]\n",
    "weirdSaberIn = weirdSaber[weirdSaber.MigrantID != -1]\n",
    "weirdSaberIn = weirdSaberIn.drop(columns = ['TrackID'])\n",
    "weirdSaberIn.rename(columns = {'MigrantID':'TrackID'}, inplace = True)\n",
    "\n",
    "weirdSaberOut = weirdSaber[weirdSaber.MigrantID == -1]\n",
    "weirdSaber = pd.concat([weirdSaberOut, weirdSaberIn])\n",
    "weirdSaber = weirdSaber.drop(columns = 'MigrantID')\n",
    "weirdSaber = weirdSaber.groupby(['Filename','EventID', 'TrackID'])['EnergyDeposited'].sum().reset_index()\n",
    "weirdSaber = weirdSaber[weirdSaber.EnergyDeposited >= 0.0]\n",
    "weirdSaber"
   ]
  },
  {
   "cell_type": "code",
   "execution_count": null,
   "id": "1c6e4d65-ec68-4ea4-a6e0-6062b8c782d5",
   "metadata": {},
   "outputs": [],
   "source": [
    "weird = pd.merge(weirdTES, weirdSaber, on = ['Filename','EventID', 'TrackID'], how = 'left').fillna('what')\n",
    "weird = weird[weird.EnergyDeposited_y == 'what']\n",
    "weird"
   ]
  },
  {
   "cell_type": "code",
   "execution_count": null,
   "id": "efd4f82b-b018-4f12-a4dd-4a4496d76e2b",
   "metadata": {},
   "outputs": [],
   "source": [
    "file = loadfile('TES-run0-rank828_nt_hits.csv')\n",
    "file = file[(file.EventID == 1297) & (file.TrackID == 25)]"
   ]
  },
  {
   "cell_type": "code",
   "execution_count": null,
   "id": "1b91be63-950e-49ec-aaa7-4adcb3d452de",
   "metadata": {},
   "outputs": [],
   "source": [
    "file"
   ]
  },
  {
   "cell_type": "code",
   "execution_count": null,
   "id": "648032ee-7233-4391-b0a1-b338d102252a",
   "metadata": {},
   "outputs": [],
   "source": [
    "loadfiles = parallel(loadfile)"
   ]
  },
  {
   "cell_type": "code",
   "execution_count": null,
   "id": "8162cd61",
   "metadata": {},
   "outputs": [],
   "source": [
    "df = pd.concat(loadfiles(filenames))"
   ]
  },
  {
   "cell_type": "code",
   "execution_count": null,
   "id": "d1925cd6",
   "metadata": {},
   "outputs": [],
   "source": [
    "df"
   ]
  },
  {
   "cell_type": "code",
   "execution_count": null,
   "id": "bee0243b",
   "metadata": {},
   "outputs": [],
   "source": [
    "dfIn = df[df.MigrantID != -1]\n",
    "dfIn = dfIn.drop(columns = ['TrackID'])\n",
    "dfIn.rename(columns = {'MigrantID':'TrackID'}, inplace = True)\n",
    "dfIn"
   ]
  },
  {
   "cell_type": "code",
   "execution_count": null,
   "id": "f7388d9b",
   "metadata": {},
   "outputs": [],
   "source": [
    "dfOut = df[df.MigrantID == -1]\n",
    "dfOut"
   ]
  },
  {
   "cell_type": "code",
   "execution_count": null,
   "id": "663a0708",
   "metadata": {},
   "outputs": [],
   "source": [
    "df = pd.concat([dfIn, dfOut])\n",
    "df = df.groupby(['Filename','EventID', 'TrackID'])['EnergyDeposited'].sum().reset_index()\n",
    "df = df[df.EnergyDeposited > 0.0]\n",
    "df\n",
    "len(df)"
   ]
  },
  {
   "cell_type": "code",
   "execution_count": null,
   "id": "1b12f930",
   "metadata": {},
   "outputs": [],
   "source": [
    "from matplotlib import pyplot as plt\n",
    "%matplotlib inline"
   ]
  },
  {
   "cell_type": "code",
   "execution_count": null,
   "id": "ea0a84f1",
   "metadata": {},
   "outputs": [],
   "source": [
    "plt.hist(df.EnergyDeposited, bins = 50)"
   ]
  }
 ],
 "metadata": {
  "kernelspec": {
   "display_name": "My env",
   "language": "python",
   "name": "tes"
  },
  "language_info": {
   "codemirror_mode": {
    "name": "ipython",
    "version": 3
   },
   "file_extension": ".py",
   "mimetype": "text/x-python",
   "name": "python",
   "nbconvert_exporter": "python",
   "pygments_lexer": "ipython3",
   "version": "3.9.16"
  }
 },
 "nbformat": 4,
 "nbformat_minor": 5
}
