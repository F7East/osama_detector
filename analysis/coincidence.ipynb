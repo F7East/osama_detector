{
 "cells": [
  {
   "cell_type": "code",
   "execution_count": 16,
   "id": "cb1839a7-539a-45f7-9a5c-b83c5b716cf4",
   "metadata": {},
   "outputs": [
    {
     "name": "stdout",
     "output_type": "stream",
     "text": [
      "Found 4096 data files in ../build1/output\n"
     ]
    }
   ],
   "source": [
    "import  os\n",
    "import  pandas as pd\n",
    "from    tqdm import tqdm\n",
    "import  numpy as np\n",
    "from    multiprocessing import get_context as context\n",
    "from    matplotlib import pyplot as plt\n",
    "%matplotlib inline\n",
    "\n",
    "# Read the files\n",
    "\n",
    "# Parameters\n",
    "\n",
    "\n",
    "header      = ['EventID','TrackID','Particle','EnergyDeposited','XPosition','YPosition','ZPosition','LocalTime','Volume', 'Initial Energy', 'Origin Volume', 'MigrantID']\n",
    "PROCESSES   = os.cpu_count()-1\n",
    "Pool        = context(\"fork\").Pool\n",
    "\n",
    "# Find the files\n",
    "foldername  = f'../build1/output'\n",
    "os.system(f'rm -rf ../build1/output/.ipynb_checkpoints')\n",
    "filenames   = os.listdir(foldername)\n",
    "\n",
    "print(f'Found {len(filenames)} data files in {foldername}')\n",
    "\n",
    "def parallel(function):\n",
    "    def inner(input_array):\n",
    "        # Parallelize excecution them\n",
    "        with Pool(PROCESSES) as pool:\n",
    "            output = list(tqdm(pool.imap(function, input_array),total=len(input_array)))\n",
    "        return output \n",
    "    return inner\n",
    "\n",
    "# Function to load a single file\n",
    "def loadfile(filename):\n",
    "    df = pd.read_csv(os.path.join(foldername,filename),skiprows=16,names=header)\n",
    "    df.insert(0, 'Filename', filename)\n",
    "    return df"
   ]
  },
  {
   "cell_type": "markdown",
   "id": "dc244158-450f-4255-8b41-75e43deeeac7",
   "metadata": {
    "jp-MarkdownHeadingCollapsed": true,
    "tags": []
   },
   "source": [
    "# Heat propagation check for build1"
   ]
  },
  {
   "cell_type": "code",
   "execution_count": 5,
   "id": "ae9257f0-20dd-4dec-9c60-3d7a5750301f",
   "metadata": {},
   "outputs": [],
   "source": [
    "mm = 1\n",
    "cm = 10\n",
    "micron = 10**(-3)\n",
    "nm = 10**(-6)\n",
    "\n",
    "cryostatBottom = -698.771 * mm\n",
    "\n",
    "\n",
    "copperThickness = 3 * mm\n",
    "separation      = 2 * mm\n",
    "copperBoxX      = 2.5 * cm\n",
    "copperBoxY      = 2.5 * cm\n",
    "copperBoxPosX   = 0 * cm\n",
    "copperBoxPosY   = cryostatBottom + copperBoxY/2 + 11.5 * cm + copperThickness\n",
    "copperBoxPosZ   = 0 * cm\n",
    "\n",
    "stackX    = 0.5*mm + 150*2*nm + 500*2*nm\n",
    "stackPosX = copperBoxPosX - copperBoxX/2 + copperThickness + separation + stackX/2\n",
    "stackPosY = copperBoxPosY\n",
    "stackPosZ = copperBoxPosZ\n",
    "\n",
    "tesPosX   = stackX / 2 + 1 * micron / 2\n",
    "tesPosY   = 0\n",
    "tesPosZ   = 0\n",
    "\n",
    "tesVolume = 20*20*1*micron**3\n",
    "\n",
    "substratePosition = np.array([stackPosX, stackPosY, stackPosZ])\n",
    "tesPosition       = np.array([tesPosX, tesPosY, tesPosZ])\n",
    "tesPosition       = tesPosition + substratePosition\n",
    "tesArea = 20 * 20 * micron**2"
   ]
  },
  {
   "cell_type": "code",
   "execution_count": 26,
   "id": "dd022135-55f1-46ed-a724-428b0c498d80",
   "metadata": {},
   "outputs": [
    {
     "name": "stderr",
     "output_type": "stream",
     "text": [
      "100%|██████████| 4096/4096 [00:16<00:00, 253.46it/s]\n"
     ]
    },
    {
     "name": "stdout",
     "output_type": "stream",
     "text": [
      "TES Hits = 1386; Triple Coincidences = 4707; Quadruple Coincidences = 14\n"
     ]
    }
   ],
   "source": [
    "def processFile(filename):\n",
    "    \"\"\"Filtering out tes hits according to\"\"\"\n",
    "\n",
    "    # loading tes separately because of some error when using a copy\n",
    "    # using A cos(a) / (4*pi*r^2) approach to calculate the energy that reaches tes \n",
    "    tes = loadfile(filename)\n",
    "    tes = tes[tes.Volume.str.contains('Silicon')] # select only substrate volumes \n",
    "    # tes['Distance'] = np.sqrt((tes.XPosition - tesPosition[0])**2 + (tes.YPosition - tesPosition[1])**2 + (tes.ZPosition - tesPosition[2])**2) # distance from a edep to tes\n",
    "    # tes['EnergyReached'] = tes.EnergyDeposited * tesArea * abs(tes.YPosition - tesPosition[1]) / (4 * np.pi * tes.Distance**3) # energy reached duh\n",
    "    # tes = tes.groupby('EventID')['EnergyReached'].sum().reset_index() # summing it per event\n",
    "    tes = tes.groupby('EventID')['EnergyDeposited'].sum().reset_index()\n",
    "    # tes = tes[tes.EnergyReached > 1*10**(-6)] # filtering out according to tes threshold\n",
    "    tes = tes[tes.EnergyDeposited > 1*10**(-6)]\n",
    "    \n",
    "    # loading the rest of the dataframe\n",
    "    data = loadfile(filename)\n",
    "    data['hit'] = (data.EventID.isin(tes.EventID)).astype(int) # we assign event row a hit of 1 if it was registered by the tes above \n",
    "    data = data.groupby(['EventID', 'Volume', 'hit'])['EnergyDeposited'].sum().reset_index() # sum the energy per volume, hit and eventid are overlapping perfectly\n",
    "    data = data[~(data.Volume.str.contains('Silicon')) & (data.EnergyDeposited > 0.2)] # removing substrate volumes and apply the sabers threshold\n",
    "    data = data.groupby(['EventID', 'hit'])['Volume'].count().reset_index() # count how many sabers were hit during the event\n",
    "    data['Triple'] = (data.Volume == 3).astype(int) # triple coincidences\n",
    "    data['Quadruple'] = ((data.hit == 1) & (data.Volume == 3)).astype(int) # quadruple \n",
    "\n",
    "    tesHits = len(tes)\n",
    "    triple = sum(data.Triple)\n",
    "    quad = sum(data.Quadruple)\n",
    "\n",
    "    return (tesHits, triple, quad)\n",
    "\n",
    "processFiles        = parallel(processFile)\n",
    "processed           = processFiles(filenames)\n",
    "processed           = np.array(processed).T\n",
    "\n",
    "tesHits             = sum(processed[0])\n",
    "tripleEvents        = sum(processed[1])\n",
    "quadrupleEvents     = sum(processed[2])\n",
    "\n",
    "content = f\"TES Hits = {tesHits}; Triple Coincidences = {tripleEvents}; Quadruple Coincidences = {quadrupleEvents}\"\n",
    "print(content)"
   ]
  },
  {
   "cell_type": "markdown",
   "id": "af2ac98f-b8b9-4cf6-be8e-013ae609cade",
   "metadata": {
    "jp-MarkdownHeadingCollapsed": true,
    "tags": []
   },
   "source": [
    "# Check particle compostion in cosmic run and presence of showers"
   ]
  },
  {
   "cell_type": "code",
   "execution_count": 113,
   "id": "b04387da-cc01-499f-ab6c-8cf49704166f",
   "metadata": {},
   "outputs": [
    {
     "data": {
      "text/html": [
       "<div>\n",
       "<style scoped>\n",
       "    .dataframe tbody tr th:only-of-type {\n",
       "        vertical-align: middle;\n",
       "    }\n",
       "\n",
       "    .dataframe tbody tr th {\n",
       "        vertical-align: top;\n",
       "    }\n",
       "\n",
       "    .dataframe thead th {\n",
       "        text-align: right;\n",
       "    }\n",
       "</style>\n",
       "<table border=\"1\" class=\"dataframe\">\n",
       "  <thead>\n",
       "    <tr style=\"text-align: right;\">\n",
       "      <th></th>\n",
       "      <th>EventID</th>\n",
       "      <th>TrackID</th>\n",
       "      <th>Volume</th>\n",
       "      <th>hit</th>\n",
       "      <th>EnergyDeposited</th>\n",
       "      <th>Triple</th>\n",
       "      <th>Quadruple</th>\n",
       "    </tr>\n",
       "  </thead>\n",
       "  <tbody>\n",
       "    <tr>\n",
       "      <th>0</th>\n",
       "      <td>238</td>\n",
       "      <td>1</td>\n",
       "      <td>1.0</td>\n",
       "      <td>0</td>\n",
       "      <td>3.343540</td>\n",
       "      <td>0</td>\n",
       "      <td>0</td>\n",
       "    </tr>\n",
       "    <tr>\n",
       "      <th>4</th>\n",
       "      <td>944</td>\n",
       "      <td>1</td>\n",
       "      <td>2.0</td>\n",
       "      <td>0</td>\n",
       "      <td>3.531930</td>\n",
       "      <td>0</td>\n",
       "      <td>0</td>\n",
       "    </tr>\n",
       "    <tr>\n",
       "      <th>5</th>\n",
       "      <td>944</td>\n",
       "      <td>3</td>\n",
       "      <td>1.0</td>\n",
       "      <td>0</td>\n",
       "      <td>0.701684</td>\n",
       "      <td>0</td>\n",
       "      <td>0</td>\n",
       "    </tr>\n",
       "    <tr>\n",
       "      <th>6</th>\n",
       "      <td>1034</td>\n",
       "      <td>1</td>\n",
       "      <td>1.0</td>\n",
       "      <td>0</td>\n",
       "      <td>3.859600</td>\n",
       "      <td>0</td>\n",
       "      <td>0</td>\n",
       "    </tr>\n",
       "    <tr>\n",
       "      <th>8</th>\n",
       "      <td>1046</td>\n",
       "      <td>1</td>\n",
       "      <td>1.0</td>\n",
       "      <td>0</td>\n",
       "      <td>3.765740</td>\n",
       "      <td>0</td>\n",
       "      <td>0</td>\n",
       "    </tr>\n",
       "    <tr>\n",
       "      <th>...</th>\n",
       "      <td>...</td>\n",
       "      <td>...</td>\n",
       "      <td>...</td>\n",
       "      <td>...</td>\n",
       "      <td>...</td>\n",
       "      <td>...</td>\n",
       "      <td>...</td>\n",
       "    </tr>\n",
       "    <tr>\n",
       "      <th>2480</th>\n",
       "      <td>242307</td>\n",
       "      <td>1</td>\n",
       "      <td>NaN</td>\n",
       "      <td>0</td>\n",
       "      <td>2.304420</td>\n",
       "      <td>0</td>\n",
       "      <td>0</td>\n",
       "    </tr>\n",
       "    <tr>\n",
       "      <th>2482</th>\n",
       "      <td>243091</td>\n",
       "      <td>1</td>\n",
       "      <td>NaN</td>\n",
       "      <td>0</td>\n",
       "      <td>3.279600</td>\n",
       "      <td>0</td>\n",
       "      <td>0</td>\n",
       "    </tr>\n",
       "    <tr>\n",
       "      <th>2483</th>\n",
       "      <td>243204</td>\n",
       "      <td>1</td>\n",
       "      <td>NaN</td>\n",
       "      <td>0</td>\n",
       "      <td>2.545200</td>\n",
       "      <td>0</td>\n",
       "      <td>0</td>\n",
       "    </tr>\n",
       "    <tr>\n",
       "      <th>2484</th>\n",
       "      <td>243641</td>\n",
       "      <td>1</td>\n",
       "      <td>NaN</td>\n",
       "      <td>0</td>\n",
       "      <td>3.557180</td>\n",
       "      <td>0</td>\n",
       "      <td>0</td>\n",
       "    </tr>\n",
       "    <tr>\n",
       "      <th>2485</th>\n",
       "      <td>243802</td>\n",
       "      <td>1</td>\n",
       "      <td>NaN</td>\n",
       "      <td>0</td>\n",
       "      <td>3.929600</td>\n",
       "      <td>0</td>\n",
       "      <td>0</td>\n",
       "    </tr>\n",
       "  </tbody>\n",
       "</table>\n",
       "<p>1001 rows × 7 columns</p>\n",
       "</div>"
      ],
      "text/plain": [
       "      EventID  TrackID  Volume  hit  EnergyDeposited  Triple  Quadruple\n",
       "0         238        1     1.0    0         3.343540       0          0\n",
       "4         944        1     2.0    0         3.531930       0          0\n",
       "5         944        3     1.0    0         0.701684       0          0\n",
       "6        1034        1     1.0    0         3.859600       0          0\n",
       "8        1046        1     1.0    0         3.765740       0          0\n",
       "...       ...      ...     ...  ...              ...     ...        ...\n",
       "2480   242307        1     NaN    0         2.304420       0          0\n",
       "2482   243091        1     NaN    0         3.279600       0          0\n",
       "2483   243204        1     NaN    0         2.545200       0          0\n",
       "2484   243641        1     NaN    0         3.557180       0          0\n",
       "2485   243802        1     NaN    0         3.929600       0          0\n",
       "\n",
       "[1001 rows x 7 columns]"
      ]
     },
     "execution_count": 113,
     "metadata": {},
     "output_type": "execute_result"
    }
   ],
   "source": [
    "filename = filenames[0]\n",
    "\n",
    "tes = loadfile(filename)\n",
    "tes = tes[tes.Volume.str.contains('Silicon')] # select only substrate volumes \n",
    "tes = tes.groupby(['EventID','TrackID'])['EnergyDeposited'].sum().reset_index()\n",
    "tes = tes[tes.EnergyDeposited > 1*10**(-6)]\n",
    "\n",
    "data = loadfile(filename)\n",
    "data['hit'] = (data.EventID.isin(tes.EventID)).astype(int) # we assign event row a hit of 1 if it was registered by the tes above \n",
    "data = data.groupby(['EventID','TrackID', 'Volume', 'hit'])['EnergyDeposited'].sum().reset_index() # sum the energy per volume, hit and eventid are overlapping perfectly\n",
    "data = data[~(data.Volume.str.contains('Silicon')) & (data.EnergyDeposited > 0.2)] # removing substrate volumes and apply the sabers threshold\n",
    "data['Volume'] = data.groupby(['EventID', 'hit'])['Volume'].count().reset_index()['Volume'] # count how many sabers were hit during the event\n",
    "data['Triple'] = (data.Volume == 3).astype(int) # triple coincidences\n",
    "data['Quadruple'] = ((data.hit == 1) & (data.Volume == 3)).astype(int) # quadruple\n",
    "data"
   ]
  },
  {
   "cell_type": "code",
   "execution_count": 114,
   "id": "3431a1e5-53fb-427a-a495-d288a5484031",
   "metadata": {},
   "outputs": [
    {
     "data": {
      "text/plain": [
       "([0, 1, 2, 3, 4, 5, 6],\n",
       " [Text(0, 0, 'worldVolume_PV'),\n",
       "  Text(1, 0, 'phys2'),\n",
       "  Text(2, 0, 'phys4'),\n",
       "  Text(3, 0, 'Cryostat_Aluminum_PV'),\n",
       "  Text(4, 0, 'phys1'),\n",
       "  Text(5, 0, 'logicCopperPlate_PV'),\n",
       "  Text(6, 0, 'logicCopperBox_PV')])"
      ]
     },
     "execution_count": 114,
     "metadata": {},
     "output_type": "execute_result"
    },
    {
     "data": {
      "image/png": "[encoded data removed]",
      "text/plain": [
       "<Figure size 640x480 with 1 Axes>"
      ]
     },
     "metadata": {},
     "output_type": "display_data"
    }
   ],
   "source": [
    "file = loadfile(filenames[0]).fillna('NA')\n",
    "file = file[~(file.Volume.str.contains('Silicon'))]\n",
    "# file = file[~(file['Origin Volume'].isin(['phys1', 'phys2', 'phys3']))]\n",
    "file = file.groupby(['EventID','TrackID','Particle','Origin Volume'])['EnergyDeposited'].sum().reset_index()\n",
    "file = file[file.EnergyDeposited > 0.2]\n",
    "file['Origin Volume'].hist()\n",
    "plt.xticks(rotation = 90)"
   ]
  },
  {
   "cell_type": "code",
   "execution_count": 115,
   "id": "92b84c1a-1246-4aab-8cae-47d1893e826f",
   "metadata": {},
   "outputs": [
    {
     "data": {
      "text/plain": [
       "<Axes: >"
      ]
     },
     "execution_count": 115,
     "metadata": {},
     "output_type": "execute_result"
    },
    {
     "data": {
      "image/png": "[encoded data removed]",
      "text/plain": [
       "<Figure size 640x480 with 1 Axes>"
      ]
     },
     "metadata": {},
     "output_type": "display_data"
    }
   ],
   "source": [
    "# file[file['Origin Volume'].str.contains('world')]['Particle'].hist()\n",
    "file['Particle'].hist()"
   ]
  },
  {
   "cell_type": "code",
   "execution_count": 116,
   "id": "e3a6d450-7254-430c-a3af-ec4b28794e7c",
   "metadata": {},
   "outputs": [
    {
     "data": {
      "image/png": "[encoded data removed]",
      "text/plain": [
       "<Figure size 640x480 with 1 Axes>"
      ]
     },
     "metadata": {},
     "output_type": "display_data"
    }
   ],
   "source": [
    "file[file['Origin Volume'].str.contains('world')].groupby(['EventID'])['TrackID'].count().reset_index()['TrackID'].hist()\n",
    "plt.yscale('log')"
   ]
  },
  {
   "cell_type": "markdown",
   "id": "a57ef195-56fc-4e83-962a-a6d4abcad992",
   "metadata": {
    "jp-MarkdownHeadingCollapsed": true,
    "tags": []
   },
   "source": [
    "# Check for low energy depositions on the TES in cosmic run"
   ]
  },
  {
   "cell_type": "code",
   "execution_count": 112,
   "id": "ba9aa13e-5add-4a6d-8ff0-73118ea1dc78",
   "metadata": {},
   "outputs": [
    {
     "name": "stderr",
     "output_type": "stream",
     "text": [
      "100%|██████████| 4096/4096 [00:20<00:00, 203.06it/s]\n"
     ]
    },
    {
     "data": {
      "text/plain": [
       "<Axes: >"
      ]
     },
     "execution_count": 112,
     "metadata": {},
     "output_type": "execute_result"
    },
    {
     "data": {
      "image/png": "[encoded data removed]",
      "text/plain": [
       "<Figure size 640x480 with 1 Axes>"
      ]
     },
     "metadata": {},
     "output_type": "display_data"
    }
   ],
   "source": [
    "loadfiles = parallel(loadfile)\n",
    "files = pd.concat(loadfiles(filenames))\n",
    "tes = files[files.Volume.str.contains('Silicon')]\n",
    "tes = tes.groupby(['Filename','EventID'])['EnergyDeposited'].sum().reset_index()\n",
    "tes = tes[(tes.EnergyDeposited > 1 * 10**(-6)) & (tes.EnergyDeposited < 100 * 10**(-6))]\n",
    "tes.EnergyDeposited.hist(bins = 200)"
   ]
  },
  {
   "cell_type": "markdown",
   "id": "d41a5a04-ecfe-4edb-8494-0a4f93dd6814",
   "metadata": {
    "jp-MarkdownHeadingCollapsed": true,
    "tags": []
   },
   "source": [
    "# Thorium run check"
   ]
  },
  {
   "cell_type": "markdown",
   "id": "acaf3911-18b5-4083-ae1e-9d6ae0bfdd6a",
   "metadata": {
    "tags": []
   },
   "source": [
    "## Double coincidence counting"
   ]
  },
  {
   "cell_type": "code",
   "execution_count": null,
   "id": "72a6e9f3-ee08-42e6-980a-b94b4912eadb",
   "metadata": {},
   "outputs": [],
   "source": [
    "def processFile(filename):\n",
    "    file = loadfile(filename)\n",
    "    # file = file[file.Particle != 'alpha']\n",
    "    # file = file[file.EnergyDeposited > 0.0]\n",
    "    # file = file.groupby(['EventID', 'TrackID','Volume'])['EnergyDeposited'].sum().reset_index()\n",
    "\n",
    "    tes = file[file.Volume.str.contains('Silicon')]\n",
    "    tesIn = tes[tes.MigrantID != -1]\n",
    "    tesIn = tesIn.drop(columns = ['TrackID'])\n",
    "    tesIn.rename(columns = {'MigrantID':'TrackID'}, inplace = True)\n",
    "\n",
    "    tesOut = tes[tes.MigrantID == -1]\n",
    "    tes = pd.concat([tesOut, tesIn])\n",
    "    tes = tes.drop(columns = 'MigrantID')\n",
    "    tes = tes.groupby(['EventID', 'TrackID'])['EnergyDeposited'].sum().reset_index()\n",
    "    tes = tes[tes.EnergyDeposited > 0.0]\n",
    "    \n",
    "    saber = file[file.Volume.str.contains('Saber')]\n",
    "    saberIn = saber[saber.MigrantID != -1]\n",
    "    saberIn = saberIn.drop(columns = ['TrackID'])\n",
    "    saberIn.rename(columns = {'MigrantID':'TrackID'}, inplace = True)\n",
    "\n",
    "    saberOut = saber[saber.MigrantID == -1]\n",
    "    saber = pd.concat([saberOut, saberIn])\n",
    "    saber = saber.drop(columns = 'MigrantID')\n",
    "    saber = saber.groupby(['EventID', 'TrackID'])['EnergyDeposited'].sum().reset_index()\n",
    "    saber = saber[saber.EnergyDeposited >= 0.2]\n",
    "    \n",
    "    # if len(pd.merge(saber,tes, on = ['EventID', 'TrackID'], how = 'inner')) != len(tes):\n",
    "    #     print(filename)\n",
    "    \n",
    "\n",
    "#     double = pd.merge(saber, tes, on = ['EventID', 'TrackID'], how = 'inner')\n",
    "#     if len(double) > 0:\n",
    "#         print(double)\n",
    "    return (len(tes), len(saber), len(double))\n",
    "\n",
    "processFiles        = parallel(processFile)\n",
    "processed           = processFiles(filenames)\n",
    "processed           = np.array(processed).T\n",
    "\n",
    "tesHits             = sum(processed[0])\n",
    "saberHits           = sum(processed[1])\n",
    "triple              = sum(processed[2])\n",
    "\n",
    "content = f\"TES Hits = {tesHits}; saber Hits = {saberHits}; Double Coincidences = {triple}\"\n",
    "print(content)"
   ]
  },
  {
   "cell_type": "markdown",
   "id": "0f7f574d-449f-4777-8bbb-74e8ccc1736a",
   "metadata": {},
   "source": [
    "## Couting alpha secondaries in the saber"
   ]
  },
  {
   "cell_type": "code",
   "execution_count": 17,
   "id": "d28fc991-48f5-4df0-82b0-5fc81ec917b5",
   "metadata": {},
   "outputs": [
    {
     "name": "stderr",
     "output_type": "stream",
     "text": [
      "100%|██████████| 1024/1024 [01:02<00:00, 16.34it/s]\n"
     ]
    },
    {
     "name": "stdout",
     "output_type": "stream",
     "text": [
      "1999326\n"
     ]
    }
   ],
   "source": [
    "def processFile(filename):\n",
    "    file = loadfile(filename)\n",
    "    data = file[file.Volume.str.contains('Saber')]\n",
    "    data = data.groupby(['EventID','TrackID','Particle', 'Origin Volume', 'MigrantID'])['EnergyDeposited'].sum().reset_index()\n",
    "\n",
    "    originInside = data[data['Origin Volume'].str.contains('Silicon')]\n",
    "    originInside = originInside.drop(columns = ['TrackID', 'Particle','Origin Volume'])\n",
    "    originInside = originInside.rename(columns = {'MigrantID':'TrackID', 'EnergyDeposited':'EnergyFromInside'})\n",
    "\n",
    "    originOutside = data[~(data['Origin Volume'].str.contains('Silicon'))]\n",
    "    originOutside = originOutside.drop(columns = ['Origin Volume','MigrantID'])\n",
    "    originOutside = originOutside.rename(columns = {'EnergyDeposited':'EnergyFromOutside'})\n",
    "\n",
    "    combined = pd.merge(originOutside, originInside, on = ['EventID', 'TrackID'], how = 'left').fillna(0)\n",
    "    combined['EnergyDeposited'] = combined['EnergyFromOutside'] + combined['EnergyFromInside']\n",
    "    combined = combined[combined['EnergyDeposited'] > 0.2]\n",
    "    combined = combined[combined.Particle != 'alpha']\n",
    "    \n",
    "    return len(combined)\n",
    "\n",
    "processFiles        = parallel(processFile)\n",
    "processed           = processFiles(filenames)\n",
    "saberHits           = sum(processed)\n",
    "\n",
    "print(saberHits)"
   ]
  },
  {
   "cell_type": "markdown",
   "id": "5e5d2a47-a0ab-4755-851f-7365e3ef81cd",
   "metadata": {
    "jp-MarkdownHeadingCollapsed": true,
    "tags": []
   },
   "source": [
    "# Weird stuff check"
   ]
  },
  {
   "cell_type": "code",
   "execution_count": null,
   "id": "5e7ffe28-d90c-43b1-a86c-9625456d6f97",
   "metadata": {},
   "outputs": [],
   "source": [
    "weirdFiles = ['TES-run0-rank61_nt_hits.csv', 'TES-run0-rank828_nt_hits.csv', 'TES-run0-rank636_nt_hits.csv', 'TES-run0-rank338_nt_hits.csv', 'TES-run0-rank278_nt_hits.csv',\n",
    "              'TES-run0-rank443_nt_hits.csv', 'TES-run0-rank319_nt_hits.csv', 'TES-run0-rank849_nt_hits.csv', 'TES-run0-rank512_nt_hits.csv']"
   ]
  },
  {
   "cell_type": "code",
   "execution_count": null,
   "id": "765e49ad-5f39-4fcf-b96c-8f9995775598",
   "metadata": {},
   "outputs": [],
   "source": [
    "loadfiles = parallel(loadfile)"
   ]
  },
  {
   "cell_type": "code",
   "execution_count": null,
   "id": "a652405a-3dc5-4450-b678-8e113b8ea4ed",
   "metadata": {},
   "outputs": [],
   "source": [
    "weirdData = pd.concat(loadfiles(weirdFiles))"
   ]
  },
  {
   "cell_type": "code",
   "execution_count": null,
   "id": "bc2a5770-6848-4b0c-bf82-e421e2799daf",
   "metadata": {},
   "outputs": [],
   "source": [
    "def processFile(filename):\n",
    "    file = loadfile(filename)\n",
    "    file = file[file.Particle != 'alpha']\n",
    "    # file = file[file.EnergyDeposited > 0.0]\n",
    "    # file = file.groupby(['EventID', 'TrackID','Volume'])['EnergyDeposited'].sum().reset_index()\n",
    "\n",
    "    tes = file[file.Volume.str.contains('Silicon')]\n",
    "    tesIn = tes[tes.MigrantID != -1]\n",
    "    tesIn = tesIn.drop(columns = ['TrackID'])\n",
    "    tesIn.rename(columns = {'MigrantID':'TrackID'}, inplace = True)\n",
    "\n",
    "    tesOut = tes[tes.MigrantID == -1]\n",
    "    tes = pd.concat([tesOut, tesIn])\n",
    "    tes = tes.drop(columns = 'MigrantID')\n",
    "    tes = tes.groupby(['EventID', 'TrackID'])['EnergyDeposited'].sum().reset_index()\n",
    "    tes = tes[tes.EnergyDeposited >= 0.0]\n",
    "    \n",
    "    saber = file[file.Volume.str.contains('Saber')]\n",
    "    saberIn = saber[saber.MigrantID != -1]\n",
    "    saberIn = saberIn.drop(columns = ['TrackID'])\n",
    "    saberIn.rename(columns = {'MigrantID':'TrackID'}, inplace = True)\n",
    "\n",
    "    saberOut = saber[saber.MigrantID == -1]\n",
    "    saber = pd.concat([saberOut, saberIn])\n",
    "    saber = saber.drop(columns = 'MigrantID')\n",
    "    saber = saber.groupby(['EventID', 'TrackID'])['EnergyDeposited'].sum().reset_index()\n",
    "    saber = saber[saber.EnergyDeposited >= 0.2]\n",
    "    \n",
    "    # if len(pd.merge(saber,tes, on = ['EventID', 'TrackID'], how = 'inner')) != len(tes):\n",
    "    #     print(filename)\n",
    "    \n",
    "\n",
    "    double = pd.merge(tes, saber, on = ['EventID', 'TrackID'], how = 'inner')\n",
    "    print(double)\n",
    "    return (len(tes), len(saber), len(double))\n",
    "\n",
    "processFiles        = parallel(processFile)\n",
    "processed           = processFiles(weirdFiles)\n",
    "processed           = np.array(processed).T\n",
    "\n",
    "tesHits             = sum(processed[0])\n",
    "saberHits           = sum(processed[1])\n",
    "triple              = sum(processed[2])\n",
    "\n",
    "content = f\"TES Hits = {tesHits}; saber Hits = {saberHits}; Double Coincidences = {triple}\"\n",
    "print(content)"
   ]
  },
  {
   "cell_type": "code",
   "execution_count": null,
   "id": "cd5a3953-5390-40e2-bbcc-439294de21f7",
   "metadata": {},
   "outputs": [],
   "source": [
    "weirdData = weirdData[weirdData.Particle != 'alpha']"
   ]
  },
  {
   "cell_type": "code",
   "execution_count": null,
   "id": "083d5d49-2f9d-49b4-aa84-d20d674c4e26",
   "metadata": {},
   "outputs": [],
   "source": [
    "weirdTES = weirdData[weirdData.Volume.str.contains('Silicon')]\n",
    "weirdTESIn = weirdTES[weirdTES.MigrantID != -1]\n",
    "weirdTESIn = weirdTESIn.drop(columns = ['TrackID'])\n",
    "weirdTESIn.rename(columns = {'MigrantID':'TrackID'}, inplace = True)\n",
    "\n",
    "weirdTESOut = weirdTES[weirdTES.MigrantID == -1]\n",
    "weirdTES = pd.concat([weirdTESOut, weirdTESIn])\n",
    "weirdTES = weirdTES.drop(columns = 'MigrantID')\n",
    "weirdTES = weirdTES.groupby(['Filename','EventID', 'TrackID'])['EnergyDeposited'].sum().reset_index()\n",
    "weirdTES = weirdTES[weirdTES.EnergyDeposited >= 0.0]\n",
    "weirdTES"
   ]
  },
  {
   "cell_type": "code",
   "execution_count": null,
   "id": "99ced158-f478-4e39-93f8-a1278b8a1138",
   "metadata": {},
   "outputs": [],
   "source": [
    "weirdSaber = weirdData[weirdData.Volume.str.contains('Saber')]\n",
    "weirdSaberIn = weirdSaber[weirdSaber.MigrantID != -1]\n",
    "weirdSaberIn = weirdSaberIn.drop(columns = ['TrackID'])\n",
    "weirdSaberIn.rename(columns = {'MigrantID':'TrackID'}, inplace = True)\n",
    "\n",
    "weirdSaberOut = weirdSaber[weirdSaber.MigrantID == -1]\n",
    "weirdSaber = pd.concat([weirdSaberOut, weirdSaberIn])\n",
    "weirdSaber = weirdSaber.drop(columns = 'MigrantID')\n",
    "weirdSaber = weirdSaber.groupby(['Filename','EventID', 'TrackID'])['EnergyDeposited'].sum().reset_index()\n",
    "weirdSaber = weirdSaber[weirdSaber.EnergyDeposited >= 0.0]\n",
    "weirdSaber"
   ]
  },
  {
   "cell_type": "code",
   "execution_count": null,
   "id": "1c6e4d65-ec68-4ea4-a6e0-6062b8c782d5",
   "metadata": {},
   "outputs": [],
   "source": [
    "weird = pd.merge(weirdTES, weirdSaber, on = ['Filename','EventID', 'TrackID'], how = 'left').fillna('what')\n",
    "weird = weird[weird.EnergyDeposited_y == 'what']\n",
    "weird"
   ]
  },
  {
   "cell_type": "code",
   "execution_count": null,
   "id": "efd4f82b-b018-4f12-a4dd-4a4496d76e2b",
   "metadata": {},
   "outputs": [],
   "source": [
    "file = loadfile('TES-run0-rank828_nt_hits.csv')\n",
    "file = file[(file.EventID == 1297) & (file.TrackID == 25)]"
   ]
  },
  {
   "cell_type": "code",
   "execution_count": null,
   "id": "1b91be63-950e-49ec-aaa7-4adcb3d452de",
   "metadata": {},
   "outputs": [],
   "source": [
    "file"
   ]
  },
  {
   "cell_type": "code",
   "execution_count": null,
   "id": "648032ee-7233-4391-b0a1-b338d102252a",
   "metadata": {},
   "outputs": [],
   "source": [
    "loadfiles = parallel(loadfile)"
   ]
  },
  {
   "cell_type": "code",
   "execution_count": null,
   "id": "8162cd61",
   "metadata": {},
   "outputs": [],
   "source": [
    "df = pd.concat(loadfiles(filenames))"
   ]
  },
  {
   "cell_type": "code",
   "execution_count": null,
   "id": "d1925cd6",
   "metadata": {},
   "outputs": [],
   "source": [
    "df"
   ]
  },
  {
   "cell_type": "code",
   "execution_count": null,
   "id": "bee0243b",
   "metadata": {},
   "outputs": [],
   "source": [
    "dfIn = df[df.MigrantID != -1]\n",
    "dfIn = dfIn.drop(columns = ['TrackID'])\n",
    "dfIn.rename(columns = {'MigrantID':'TrackID'}, inplace = True)\n",
    "dfIn"
   ]
  },
  {
   "cell_type": "code",
   "execution_count": null,
   "id": "f7388d9b",
   "metadata": {},
   "outputs": [],
   "source": [
    "dfOut = df[df.MigrantID == -1]\n",
    "dfOut"
   ]
  },
  {
   "cell_type": "code",
   "execution_count": null,
   "id": "663a0708",
   "metadata": {},
   "outputs": [],
   "source": [
    "df = pd.concat([dfIn, dfOut])\n",
    "df = df.groupby(['Filename','EventID', 'TrackID'])['EnergyDeposited'].sum().reset_index()\n",
    "df = df[df.EnergyDeposited > 0.0]\n",
    "df\n",
    "len(df)"
   ]
  },
  {
   "cell_type": "code",
   "execution_count": null,
   "id": "1b12f930",
   "metadata": {},
   "outputs": [],
   "source": [
    "from matplotlib import pyplot as plt\n",
    "%matplotlib inline"
   ]
  },
  {
   "cell_type": "code",
   "execution_count": null,
   "id": "ea0a84f1",
   "metadata": {},
   "outputs": [],
   "source": [
    "plt.hist(df.EnergyDeposited, bins = 50)"
   ]
  }
 ],
 "metadata": {
  "kernelspec": {
   "display_name": "My env",
   "language": "python",
   "name": "tes"
  },
  "language_info": {
   "codemirror_mode": {
    "name": "ipython",
    "version": 3
   },
   "file_extension": ".py",
   "mimetype": "text/x-python",
   "name": "python",
   "nbconvert_exporter": "python",
   "pygments_lexer": "ipython3",
   "version": "3.9.16"
  }
 },
 "nbformat": 4,
 "nbformat_minor": 5
}
