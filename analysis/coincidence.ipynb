{
 "cells": [
  {
   "cell_type": "code",
   "execution_count": 1,
   "id": "cb1839a7-539a-45f7-9a5c-b83c5b716cf4",
   "metadata": {},
   "outputs": [
    {
     "name": "stdout",
     "output_type": "stream",
     "text": [
      "Found 4096 data files in ../build1/output\n"
     ]
    }
   ],
   "source": [
    "import  os\n",
    "import  pandas as pd\n",
    "from    tqdm import tqdm\n",
    "import  numpy as np\n",
    "from    multiprocessing import get_context as context\n",
    "\n",
    "# Read the files\n",
    "\n",
    "# Parameters\n",
    "\n",
    "\n",
    "header      = ['EventID','TrackID','Particle','EnergyDeposited','XPosition','YPosition','ZPosition','LocalTime','Volume', 'Initial Energy', 'Origin Volume', 'MigrantID']\n",
    "PROCESSES   = os.cpu_count()-1\n",
    "Pool        = context(\"fork\").Pool\n",
    "\n",
    "# Find the files\n",
    "foldername  = f'../build1/output'\n",
    "os.system(f'rm -rf ../build1/output/.ipynb_checkpoints')\n",
    "filenames   = os.listdir(foldername)\n",
    "\n",
    "print(f'Found {len(filenames)} data files in {foldername}')\n",
    "\n",
    "def parallel(function):\n",
    "    def inner(input_array):\n",
    "        # Parallelize excecution them\n",
    "        with Pool(PROCESSES) as pool:\n",
    "            output = list(tqdm(pool.imap(function, input_array),total=len(input_array)))\n",
    "        return output \n",
    "    return inner\n",
    "\n",
    "# Function to load a single file\n",
    "def loadfile(filename):\n",
    "    df = pd.read_csv(os.path.join(foldername,filename),skiprows=16,names=header)\n",
    "    return df"
   ]
  },
  {
   "cell_type": "code",
   "execution_count": 2,
   "id": "ae9257f0-20dd-4dec-9c60-3d7a5750301f",
   "metadata": {},
   "outputs": [],
   "source": [
    "mm = 1\n",
    "cm = 10\n",
    "micron = 10**(-3)\n",
    "nm = 10**(-6)\n",
    "\n",
    "cryostatBottom = -698.771 * mm\n",
    "\n",
    "\n",
    "copperThickness = 3 * mm\n",
    "separation      = 2 * mm\n",
    "copperBoxX      = 2.5 * cm\n",
    "copperBoxY      = 2.5 * cm\n",
    "copperBoxPosX   = 0 * cm\n",
    "copperBoxPosY   = cryostatBottom + copperBoxY/2 + 11.5 * cm + copperThickness\n",
    "copperBoxPosZ   = 0 * cm\n",
    "\n",
    "stackX    = 0.5*mm + 150*2*nm + 500*2*nm\n",
    "stackPosX = copperBoxPosX - copperBoxX/2 + copperThickness + separation + stackX/2\n",
    "stackPosY = copperBoxPosY\n",
    "stackPosZ = copperBoxPosZ\n",
    "\n",
    "tesPosX   = stackX / 2 + 1 * micron / 2\n",
    "tesPosY   = 0.5 * mm / 2 - 20 * micron / 2\n",
    "tesPosZ   = - 0.5 * mm / 2 + 20 * micron / 2\n",
    "\n",
    "tesVolume = 20*20*1*micron**3\n",
    "\n",
    "substratePosition = np.array([stackPosX, stackPosY, stackPosZ])\n",
    "tesPosition       = np.array([tesPosX, tesPosY, tesPosZ])\n",
    "tesPosition       = tesPosition + substratePosition\n",
    "tesArea = 20 * 20 * micron**2"
   ]
  },
  {
   "cell_type": "code",
   "execution_count": 3,
   "id": "dd022135-55f1-46ed-a724-428b0c498d80",
   "metadata": {},
   "outputs": [
    {
     "name": "stderr",
     "output_type": "stream",
     "text": [
      "100%|██████████| 4096/4096 [00:11<00:00, 371.52it/s]"
     ]
    },
    {
     "name": "stdout",
     "output_type": "stream",
     "text": [
      "TES Hits = 393; Triple Coincidences = 4707; Quadruple Coincidences = 6\n"
     ]
    },
    {
     "name": "stderr",
     "output_type": "stream",
     "text": [
      "\n"
     ]
    }
   ],
   "source": [
    "def processFile(filename):\n",
    "    \"\"\"Filtering out tes hits according to\"\"\"\n",
    "\n",
    "    # loading tes separately because of some error when using a copy\n",
    "    # using A cos(a) / (4*pi*r^2) approach to calculate the energy that reaches tes \n",
    "    tes = loadfile(filename)\n",
    "    tes = tes[tes.Volume.str.contains('Silicon')] # select only substrate volumes \n",
    "    tes['Distance'] = np.sqrt((tes.XPosition - tesPosition[0])**2 + (tes.YPosition - tesPosition[1])**2 + (tes.ZPosition - tesPosition[2])**2) # distance from a edep to tes\n",
    "    tes['EnergyReached'] = tes.EnergyDeposited * tesArea * abs(tes.YPosition - tesPosition[1]) / (4 * np.pi * tes.Distance**3) # energy reached duh\n",
    "    tes = tes.groupby('EventID')['EnergyReached'].sum().reset_index() # summing it per event\n",
    "    tes = tes[tes.EnergyReached > 10**(-6)] # filtering out according to tes threshold\n",
    "\n",
    "    # loading the rest of the dataframe\n",
    "    data = loadfile(filename)\n",
    "    data['hit'] = (data.EventID.isin(tes.EventID)).astype(int) # we assign event row a hit of 1 if it was registered by the tes above \n",
    "    data = data.groupby(['EventID', 'Volume', 'hit'])['EnergyDeposited'].sum().reset_index() # sum the energy per volume, hit and eventid are overlapping perfectly\n",
    "    data = data[~(data.Volume.str.contains('Silicon')) & (data.EnergyDeposited > 0.2)] # removing substrate volumes and apply the sabers threshold\n",
    "    data = data.groupby(['EventID', 'hit'])['Volume'].count().reset_index() # count how many sabers were hit during the event\n",
    "    data['Triple'] = (data.Volume == 3).astype(int) # triplle coincidences\n",
    "    data['Quadruple'] = ((data.hit == 1) & (data.Volume == 3)).astype(int) # quadruple \n",
    "\n",
    "    tesHits = sum(data.hit)\n",
    "    triple = sum(data.Triple)\n",
    "    quad = sum(data.Quadruple)\n",
    "\n",
    "    return (tesHits, triple, quad)\n",
    "\n",
    "processFiles = parallel(processFile)\n",
    "processed = processFiles(filenames)\n",
    "processed           = np.array(processed).T\n",
    "\n",
    "tesHits             = sum(processed[0])\n",
    "tripleEvents        = sum(processed[1])\n",
    "quadrupleEvents     = sum(processed[2])\n",
    "\n",
    "content = f\"TES Hits = {tesHits}; Triple Coincidences = {tripleEvents}; Quadruple Coincidences = {quadrupleEvents}\"\n",
    "print(content)"
   ]
  }
 ],
 "metadata": {
  "kernelspec": {
   "display_name": "My env",
   "language": "python",
   "name": "tes"
  },
  "language_info": {
   "codemirror_mode": {
    "name": "ipython",
    "version": 3
   },
   "file_extension": ".py",
   "mimetype": "text/x-python",
   "name": "python",
   "nbconvert_exporter": "python",
   "pygments_lexer": "ipython3",
   "version": "3.9.16"
  }
 },
 "nbformat": 4,
 "nbformat_minor": 5
}
