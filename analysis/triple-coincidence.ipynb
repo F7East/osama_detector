{
 "cells": [
  {
   "cell_type": "markdown",
   "metadata": {},
   "source": [
    "# Triple Coincidence Analysis"
   ]
  },
  {
   "cell_type": "code",
   "execution_count": 1,
   "metadata": {},
   "outputs": [],
   "source": [
    "#Include modules\n",
    "import os\n",
    "import pandas as pd\n",
    "import matplotlib.pyplot as plt\n",
    "\n",
    "from tqdm.notebook import tqdm\n",
    "from multiprocessing import Pool"
   ]
  },
  {
   "cell_type": "code",
   "execution_count": 2,
   "metadata": {},
   "outputs": [
    {
     "name": "stdout",
     "output_type": "stream",
     "text": [
      "Found 2048 data files in ./data/run1/output\n"
     ]
    },
    {
     "data": {
      "application/vnd.jupyter.widget-view+json": {
       "model_id": "385163c6a3ca44429710fcb4c3073dda",
       "version_major": 2,
       "version_minor": 0
      },
      "text/plain": [
       "  0%|          | 0/2048 [00:00<?, ?it/s]"
      ]
     },
     "metadata": {},
     "output_type": "display_data"
    }
   ],
   "source": [
    "# Read the files\n",
    "\n",
    "# Parameters\n",
    "run         = 'run1'\n",
    "header      = ['EventID','TrackID','Particle','EnergyDeposited','XPosition','YPosition','ZPosition','LocalTime','Volume']\n",
    "PROCESSES   = os.cpu_count()-1\n",
    "\n",
    "# Find the files\n",
    "foldername  = f'./data/{run}/output'\n",
    "filenames   = os.listdir(foldername)\n",
    "\n",
    "print(f'Found {len(filenames)} data files in {foldername}') \n",
    "\n",
    "# Execute with progressbar decorator\n",
    "def execute_process(func):\n",
    "    def inner(array):\n",
    "        # Parallelize loading them\n",
    "        with Pool(PROCESSES) as pool:\n",
    "            output = list(tqdm(pool.imap(func, array),total=len(filenames)))\n",
    "        return output\n",
    "\n",
    "    return inner\n",
    "\n",
    "\n",
    "\n",
    "# Function to load a single file\n",
    "def loadfile(filename):\n",
    "    return pd.read_csv(os.path.join(foldername,filename),skiprows=14,names=header)\n",
    "\n",
    "# Read the files into a list\n",
    "def get_files(filenames):\n",
    "\n",
    "    # Parallelize loading themEnergyDeposited\n",
    "    with Pool(PROCESSES) as pool:\n",
    "        files = list(tqdm(pool.imap(loadfile, filenames),total=len(filenames)))\n",
    "    return files\n",
    "\n",
    "files = get_files(filenames)\n"
   ]
  },
  {
   "cell_type": "code",
   "execution_count": 3,
   "metadata": {},
   "outputs": [
    {
     "data": {
      "application/vnd.jupyter.widget-view+json": {
       "model_id": "d8e008a4871b4a3dbb36fbc6009451c3",
       "version_major": 2,
       "version_minor": 0
      },
      "text/plain": [
       "  0%|          | 0/2048 [00:00<?, ?it/s]"
      ]
     },
     "metadata": {},
     "output_type": "display_data"
    },
    {
     "data": {
      "application/vnd.jupyter.widget-view+json": {
       "model_id": "664912d3683e493790fc6a82fe88fd21",
       "version_major": 2,
       "version_minor": 0
      },
      "text/plain": [
       "  0%|          | 0/2048 [00:00<?, ?it/s]"
      ]
     },
     "metadata": {},
     "output_type": "display_data"
    }
   ],
   "source": [
    "def filter(x):\n",
    "    check_cases = [['physPaddleTop'],['physPaddleBottom'],['physSiliconSubstrate','physSiliconOxide','physSiliconNitride']]\n",
    "    return all([x['Volume'].isin(keys).any() for keys in check_cases])\n",
    "\n",
    "def filter_file(file):\n",
    "    data = file[file.groupby(['EventID','TrackID'])['TrackID'].transform('count')  >= 3]\n",
    "    data = data[data.groupby(['EventID','TrackID'])['Volume'].transform('nunique') >= 3]\n",
    "    return data.groupby(['EventID','TrackID']).filter(filter)\n",
    "\n",
    "def get_triple_coincidences(files):\n",
    "    with Pool(PROCESSES) as pool:\n",
    "        events = list(tqdm(pool.imap(filter_file, files),total=len(files)))\n",
    "\n",
    "    return pd.concat(events)\n",
    "\n",
    "def get_muons(data):\n",
    "    return data.loc[data['Particle'].str.contains('mu') & data['Volume'].str.contains('Silicon')]\n",
    "\n",
    "def get_muon_events(files):\n",
    "    with Pool(PROCESSES) as pool:\n",
    "        events = list(tqdm(pool.imap(get_muons, files),total=len(files)))\n",
    "    \n",
    "    return pd.concat(events)\n",
    "\n",
    "triple_events   = get_triple_coincidences(files)\n",
    "events          = get_muon_events(files)"
   ]
  },
  {
   "cell_type": "code",
   "execution_count": 4,
   "metadata": {},
   "outputs": [
    {
     "data": {
      "text/plain": [
       "5.31591263650546"
      ]
     },
     "execution_count": 4,
     "metadata": {},
     "output_type": "execute_result"
    }
   ],
   "source": [
    "len(events.groupby(['EventID','TrackID']))/len(triple_events.groupby(['EventID','TrackID']))"
   ]
  },
  {
   "cell_type": "code",
   "execution_count": 5,
   "metadata": {},
   "outputs": [],
   "source": [
    "energy_data = events.groupby(['EventID','TrackID'])['EnergyDeposited'].sum().reset_index()"
   ]
  },
  {
   "cell_type": "code",
   "execution_count": 6,
   "metadata": {},
   "outputs": [
    {
     "data": {
      "text/plain": [
       "Text(0, 0.5, 'Density')"
      ]
     },
     "execution_count": 6,
     "metadata": {},
     "output_type": "execute_result"
    },
    {
     "data": {
      "image/png": "[encoded data removed]",
      "text/plain": [
       "<Figure size 1000x500 with 1 Axes>"
      ]
     },
     "metadata": {},
     "output_type": "display_data"
    }
   ],
   "source": [
    "fig = plt.figure(figsize=(10,5))\n",
    "ax  = fig.add_subplot(111)\n",
    "ax.hist(energy_data.EnergyDeposited,bins=170,color = 'darkred',density=True);\n",
    "\n",
    "ax.set_xlim(0,7.5)\n",
    "ax.set_xlabel('Energy Deposited on TES Substrate [MeV]')\n",
    "ax.set_ylabel('Density')"
   ]
  },
  {
   "cell_type": "code",
   "execution_count": null,
   "metadata": {},
   "outputs": [],
   "source": []
  }
 ],
 "metadata": {
  "kernelspec": {
   "display_name": "tes",
   "language": "python",
   "name": "python3"
  },
  "language_info": {
   "codemirror_mode": {
    "name": "ipython",
    "version": 3
   },
   "file_extension": ".py",
   "mimetype": "text/x-python",
   "name": "python",
   "nbconvert_exporter": "python",
   "pygments_lexer": "ipython3",
   "version": "3.9.16"
  },
  "orig_nbformat": 4
 },
 "nbformat": 4,
 "nbformat_minor": 2
}
