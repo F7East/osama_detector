{
 "cells": [
  {
   "cell_type": "code",
   "execution_count": 59,
   "metadata": {},
   "outputs": [
    {
     "name": "stdout",
     "output_type": "stream",
     "text": [
      "Found 19 data files in ../build/output\n"
     ]
    }
   ],
   "source": [
    "import  os\n",
    "import  pandas as pd\n",
    "from    tqdm import tqdm\n",
    "import  numpy as np\n",
    "from    multiprocessing import get_context as context\n",
    "from    matplotlib import pyplot as plt\n",
    "%matplotlib inline\n",
    "\n",
    "# Read the files\n",
    "\n",
    "# Parameters\n",
    "\n",
    "\n",
    "header      = ['EventID','TrackID','Particle','EnergyDeposited','XPosition','YPosition','ZPosition','LocalTime','Volume', 'Initial Energy', 'Origin Volume', 'MigrantID']\n",
    "PROCESSES   = os.cpu_count()-1\n",
    "Pool        = context(\"fork\").Pool\n",
    "\n",
    "# Find the files\n",
    "foldername  = f'../build/output'\n",
    "os.system(f'rm -rf ../build/output/.ipynb_checkpoints')\n",
    "filenames   = os.listdir(foldername)\n",
    "\n",
    "print(f'Found {len(filenames)} data files in {foldername}')\n",
    "\n",
    "def parallel(function):\n",
    "    def inner(input_array):\n",
    "        # Parallelize excecution them\n",
    "        with Pool(PROCESSES) as pool:\n",
    "            output = list(tqdm(pool.imap(function, input_array),total=len(input_array)))\n",
    "        return output \n",
    "    return inner\n",
    "\n",
    "# Function to load a single file\n",
    "def loadfile(filename):\n",
    "    df = pd.read_csv(os.path.join(foldername,filename),skiprows=16,names=header)\n",
    "    df.insert(0, 'Filename', filename)\n",
    "    return df"
   ]
  },
  {
   "cell_type": "code",
   "execution_count": 60,
   "metadata": {},
   "outputs": [
    {
     "name": "stderr",
     "output_type": "stream",
     "text": [
      "100%|██████████| 19/19 [00:08<00:00,  2.32it/s]\n"
     ]
    }
   ],
   "source": [
    "def processFile(filename):\n",
    "    \n",
    "    veto = loadfile(filename)\n",
    "    veto = veto[veto.Volume.str.contains('veto')]\n",
    "    veto = veto.groupby(['Filename','EventID', 'Volume'])['EnergyDeposited'].sum().reset_index()\n",
    "    veto = veto[veto.EnergyDeposited > 10**(-9)]\n",
    "\n",
    "\n",
    "    # loading the rest of the dataframe\n",
    "    data = loadfile(filename)\n",
    "    data = data[~(data.Volume.str.contains('veto'))]\n",
    "    data = data.groupby(['Filename','EventID', 'Volume'])['EnergyDeposited'].sum().reset_index() # sum the energy per volume, hit and eventid are overlapping perfectly\n",
    "    data = data[data['EnergyDeposited'] > 10**(-9)]\n",
    "\n",
    "    return veto,data\n",
    "\n",
    "\n",
    "processFiles        = parallel(processFile)\n",
    "processed           = processFiles(filenames)"
   ]
  },
  {
   "cell_type": "code",
   "execution_count": 61,
   "metadata": {},
   "outputs": [],
   "source": [
    "vetos = [i[0] for i in processed]\n",
    "datas = [i[1] for i in processed]"
   ]
  },
  {
   "cell_type": "code",
   "execution_count": 62,
   "metadata": {},
   "outputs": [],
   "source": [
    "veto = pd.concat(vetos)\n",
    "data = pd.concat(datas)"
   ]
  },
  {
   "cell_type": "code",
   "execution_count": 63,
   "metadata": {},
   "outputs": [],
   "source": [
    "veto = veto.rename(columns={'EnergyDeposited':'vetoEnergy'})\n",
    "veto = veto.drop(columns='Volume')"
   ]
  },
  {
   "cell_type": "code",
   "execution_count": 64,
   "metadata": {},
   "outputs": [],
   "source": [
    "crystal1 = data[data['Volume'] == 'crystal1_PV']\n",
    "crystal2 = data[data['Volume'] == 'crystal2_PV']\n",
    "crystal3 = data[data['Volume'] == 'crystal3_PV']\n",
    "crystal4 = data[data['Volume'] == 'crystal4_PV']\n",
    "crystal1_2 = data[data['Volume'].isin(['crystal1_PV','crystal2_PV'])]\n",
    "crystal1_2_3_4 = data[data['Volume'].isin(['crystal1_PV','crystal2_PV','crystal3_PV','crystal4_PV'])]"
   ]
  },
  {
   "cell_type": "code",
   "execution_count": 65,
   "metadata": {},
   "outputs": [],
   "source": [
    "# Veto + crystal1 coincidence\n",
    "\n",
    "def coincidence(data1: pd.DataFrame, data2: pd.DataFrame) -> pd.DataFrame:\n",
    "    \"\"\"\n",
    "    This function takes in dataframes that have only one volume.\n",
    "    It merges them based on their EventID and sums their energies\n",
    "    \"\"\"\n",
    "    combined = pd.DataFrame.merge(data1, data2, how = 'inner', on=['Filename','EventID'])\n",
    "    if 'EnergyDeposited_x' in combined.columns:\n",
    "        combined['EnergyDeposited'] = combined['EnergyDeposited_x'] + combined['EnergyDeposited_y']\n",
    "    columns_to_drop = ['EnergyDeposited_x','EnergyDeposited_y', 'Volume_x', 'Volume_y','Volume']\n",
    "    for column in columns_to_drop:\n",
    "        if column in combined.columns:\n",
    "            combined = combined.drop(columns=column)\n",
    "    return combined\n",
    "\n",
    "def union(data1: pd.DataFrame, data2: pd.DataFrame) -> pd.DataFrame:\n",
    "    \"\"\"\n",
    "    This function takes in two dataframes that have only one volume\n",
    "    It concats them based on their EventID as a union\n",
    "    \"\"\"\n",
    "\n",
    "    combined = pd.concat([data1,data2])\n",
    "    return combined"
   ]
  },
  {
   "cell_type": "code",
   "execution_count": 66,
   "metadata": {},
   "outputs": [],
   "source": [
    "veto_and_1 = coincidence(veto,crystal1)\n"
   ]
  },
  {
   "cell_type": "code",
   "execution_count": 67,
   "metadata": {},
   "outputs": [
    {
     "data": {
      "text/html": [
       "<div>\n",
       "<style scoped>\n",
       "    .dataframe tbody tr th:only-of-type {\n",
       "        vertical-align: middle;\n",
       "    }\n",
       "\n",
       "    .dataframe tbody tr th {\n",
       "        vertical-align: top;\n",
       "    }\n",
       "\n",
       "    .dataframe thead th {\n",
       "        text-align: right;\n",
       "    }\n",
       "</style>\n",
       "<table border=\"1\" class=\"dataframe\">\n",
       "  <thead>\n",
       "    <tr style=\"text-align: right;\">\n",
       "      <th></th>\n",
       "      <th>Filename</th>\n",
       "      <th>EventID</th>\n",
       "      <th>vetoEnergy</th>\n",
       "      <th>EnergyDeposited</th>\n",
       "    </tr>\n",
       "  </thead>\n",
       "  <tbody>\n",
       "    <tr>\n",
       "      <th>0</th>\n",
       "      <td>TES-run0-rank8_nt_hits.csv</td>\n",
       "      <td>399</td>\n",
       "      <td>1.593318</td>\n",
       "      <td>4.335682</td>\n",
       "    </tr>\n",
       "    <tr>\n",
       "      <th>1</th>\n",
       "      <td>TES-run0-rank8_nt_hits.csv</td>\n",
       "      <td>3523</td>\n",
       "      <td>2.132889</td>\n",
       "      <td>13.106900</td>\n",
       "    </tr>\n",
       "    <tr>\n",
       "      <th>2</th>\n",
       "      <td>TES-run0-rank8_nt_hits.csv</td>\n",
       "      <td>10573</td>\n",
       "      <td>0.896514</td>\n",
       "      <td>22.634428</td>\n",
       "    </tr>\n",
       "    <tr>\n",
       "      <th>3</th>\n",
       "      <td>TES-run0-rank8_nt_hits.csv</td>\n",
       "      <td>13175</td>\n",
       "      <td>0.033150</td>\n",
       "      <td>6.458969</td>\n",
       "    </tr>\n",
       "    <tr>\n",
       "      <th>4</th>\n",
       "      <td>TES-run0-rank8_nt_hits.csv</td>\n",
       "      <td>14072</td>\n",
       "      <td>1.998085</td>\n",
       "      <td>15.040005</td>\n",
       "    </tr>\n",
       "    <tr>\n",
       "      <th>...</th>\n",
       "      <td>...</td>\n",
       "      <td>...</td>\n",
       "      <td>...</td>\n",
       "      <td>...</td>\n",
       "    </tr>\n",
       "    <tr>\n",
       "      <th>58441</th>\n",
       "      <td>TES-run0-rank4_nt_hits.csv</td>\n",
       "      <td>5249931</td>\n",
       "      <td>0.956616</td>\n",
       "      <td>18.539232</td>\n",
       "    </tr>\n",
       "    <tr>\n",
       "      <th>58442</th>\n",
       "      <td>TES-run0-rank4_nt_hits.csv</td>\n",
       "      <td>5254182</td>\n",
       "      <td>4.419966</td>\n",
       "      <td>1.365230</td>\n",
       "    </tr>\n",
       "    <tr>\n",
       "      <th>58443</th>\n",
       "      <td>TES-run0-rank4_nt_hits.csv</td>\n",
       "      <td>5258218</td>\n",
       "      <td>2.259154</td>\n",
       "      <td>19.533163</td>\n",
       "    </tr>\n",
       "    <tr>\n",
       "      <th>58444</th>\n",
       "      <td>TES-run0-rank4_nt_hits.csv</td>\n",
       "      <td>5258374</td>\n",
       "      <td>1.261485</td>\n",
       "      <td>1.027990</td>\n",
       "    </tr>\n",
       "    <tr>\n",
       "      <th>58445</th>\n",
       "      <td>TES-run0-rank4_nt_hits.csv</td>\n",
       "      <td>5263102</td>\n",
       "      <td>0.968185</td>\n",
       "      <td>0.225366</td>\n",
       "    </tr>\n",
       "  </tbody>\n",
       "</table>\n",
       "<p>58446 rows × 4 columns</p>\n",
       "</div>"
      ],
      "text/plain": [
       "                         Filename  EventID  vetoEnergy  EnergyDeposited\n",
       "0      TES-run0-rank8_nt_hits.csv      399    1.593318         4.335682\n",
       "1      TES-run0-rank8_nt_hits.csv     3523    2.132889        13.106900\n",
       "2      TES-run0-rank8_nt_hits.csv    10573    0.896514        22.634428\n",
       "3      TES-run0-rank8_nt_hits.csv    13175    0.033150         6.458969\n",
       "4      TES-run0-rank8_nt_hits.csv    14072    1.998085        15.040005\n",
       "...                           ...      ...         ...              ...\n",
       "58441  TES-run0-rank4_nt_hits.csv  5249931    0.956616        18.539232\n",
       "58442  TES-run0-rank4_nt_hits.csv  5254182    4.419966         1.365230\n",
       "58443  TES-run0-rank4_nt_hits.csv  5258218    2.259154        19.533163\n",
       "58444  TES-run0-rank4_nt_hits.csv  5258374    1.261485         1.027990\n",
       "58445  TES-run0-rank4_nt_hits.csv  5263102    0.968185         0.225366\n",
       "\n",
       "[58446 rows x 4 columns]"
      ]
     },
     "execution_count": 67,
     "metadata": {},
     "output_type": "execute_result"
    }
   ],
   "source": [
    "veto_and_1"
   ]
  },
  {
   "cell_type": "code",
   "execution_count": 68,
   "metadata": {},
   "outputs": [
    {
     "data": {
      "text/html": [
       "<div>\n",
       "<style scoped>\n",
       "    .dataframe tbody tr th:only-of-type {\n",
       "        vertical-align: middle;\n",
       "    }\n",
       "\n",
       "    .dataframe tbody tr th {\n",
       "        vertical-align: top;\n",
       "    }\n",
       "\n",
       "    .dataframe thead th {\n",
       "        text-align: right;\n",
       "    }\n",
       "</style>\n",
       "<table border=\"1\" class=\"dataframe\">\n",
       "  <thead>\n",
       "    <tr style=\"text-align: right;\">\n",
       "      <th></th>\n",
       "      <th>Filename</th>\n",
       "      <th>EventID</th>\n",
       "      <th>vetoEnergy</th>\n",
       "      <th>EnergyDeposited</th>\n",
       "    </tr>\n",
       "  </thead>\n",
       "  <tbody>\n",
       "    <tr>\n",
       "      <th>0</th>\n",
       "      <td>TES-run0-rank8_nt_hits.csv</td>\n",
       "      <td>399</td>\n",
       "      <td>1.593318</td>\n",
       "      <td>4.335682</td>\n",
       "    </tr>\n",
       "    <tr>\n",
       "      <th>1</th>\n",
       "      <td>TES-run0-rank8_nt_hits.csv</td>\n",
       "      <td>399</td>\n",
       "      <td>1.593318</td>\n",
       "      <td>19.365145</td>\n",
       "    </tr>\n",
       "    <tr>\n",
       "      <th>2</th>\n",
       "      <td>TES-run0-rank8_nt_hits.csv</td>\n",
       "      <td>422</td>\n",
       "      <td>1.009450</td>\n",
       "      <td>0.984708</td>\n",
       "    </tr>\n",
       "    <tr>\n",
       "      <th>3</th>\n",
       "      <td>TES-run0-rank8_nt_hits.csv</td>\n",
       "      <td>2481</td>\n",
       "      <td>1.831872</td>\n",
       "      <td>16.305700</td>\n",
       "    </tr>\n",
       "    <tr>\n",
       "      <th>4</th>\n",
       "      <td>TES-run0-rank8_nt_hits.csv</td>\n",
       "      <td>3523</td>\n",
       "      <td>2.132889</td>\n",
       "      <td>13.106900</td>\n",
       "    </tr>\n",
       "    <tr>\n",
       "      <th>...</th>\n",
       "      <td>...</td>\n",
       "      <td>...</td>\n",
       "      <td>...</td>\n",
       "      <td>...</td>\n",
       "    </tr>\n",
       "    <tr>\n",
       "      <th>116452</th>\n",
       "      <td>TES-run0-rank4_nt_hits.csv</td>\n",
       "      <td>5258218</td>\n",
       "      <td>2.259154</td>\n",
       "      <td>0.881502</td>\n",
       "    </tr>\n",
       "    <tr>\n",
       "      <th>116453</th>\n",
       "      <td>TES-run0-rank4_nt_hits.csv</td>\n",
       "      <td>5258374</td>\n",
       "      <td>1.261485</td>\n",
       "      <td>1.027990</td>\n",
       "    </tr>\n",
       "    <tr>\n",
       "      <th>116454</th>\n",
       "      <td>TES-run0-rank4_nt_hits.csv</td>\n",
       "      <td>5259515</td>\n",
       "      <td>1.121540</td>\n",
       "      <td>11.506700</td>\n",
       "    </tr>\n",
       "    <tr>\n",
       "      <th>116455</th>\n",
       "      <td>TES-run0-rank4_nt_hits.csv</td>\n",
       "      <td>5261112</td>\n",
       "      <td>1.981504</td>\n",
       "      <td>0.047104</td>\n",
       "    </tr>\n",
       "    <tr>\n",
       "      <th>116456</th>\n",
       "      <td>TES-run0-rank4_nt_hits.csv</td>\n",
       "      <td>5263102</td>\n",
       "      <td>0.968185</td>\n",
       "      <td>0.225366</td>\n",
       "    </tr>\n",
       "  </tbody>\n",
       "</table>\n",
       "<p>116457 rows × 4 columns</p>\n",
       "</div>"
      ],
      "text/plain": [
       "                          Filename  EventID  vetoEnergy  EnergyDeposited\n",
       "0       TES-run0-rank8_nt_hits.csv      399    1.593318         4.335682\n",
       "1       TES-run0-rank8_nt_hits.csv      399    1.593318        19.365145\n",
       "2       TES-run0-rank8_nt_hits.csv      422    1.009450         0.984708\n",
       "3       TES-run0-rank8_nt_hits.csv     2481    1.831872        16.305700\n",
       "4       TES-run0-rank8_nt_hits.csv     3523    2.132889        13.106900\n",
       "...                            ...      ...         ...              ...\n",
       "116452  TES-run0-rank4_nt_hits.csv  5258218    2.259154         0.881502\n",
       "116453  TES-run0-rank4_nt_hits.csv  5258374    1.261485         1.027990\n",
       "116454  TES-run0-rank4_nt_hits.csv  5259515    1.121540        11.506700\n",
       "116455  TES-run0-rank4_nt_hits.csv  5261112    1.981504         0.047104\n",
       "116456  TES-run0-rank4_nt_hits.csv  5263102    0.968185         0.225366\n",
       "\n",
       "[116457 rows x 4 columns]"
      ]
     },
     "execution_count": 68,
     "metadata": {},
     "output_type": "execute_result"
    }
   ],
   "source": [
    "veto_and_1or2 = coincidence(veto,crystal1_2)\n",
    "veto_and_1or2"
   ]
  },
  {
   "cell_type": "code",
   "execution_count": 69,
   "metadata": {},
   "outputs": [
    {
     "data": {
      "text/html": [
       "<div>\n",
       "<style scoped>\n",
       "    .dataframe tbody tr th:only-of-type {\n",
       "        vertical-align: middle;\n",
       "    }\n",
       "\n",
       "    .dataframe tbody tr th {\n",
       "        vertical-align: top;\n",
       "    }\n",
       "\n",
       "    .dataframe thead th {\n",
       "        text-align: right;\n",
       "    }\n",
       "</style>\n",
       "<table border=\"1\" class=\"dataframe\">\n",
       "  <thead>\n",
       "    <tr style=\"text-align: right;\">\n",
       "      <th></th>\n",
       "      <th>Filename</th>\n",
       "      <th>EventID</th>\n",
       "      <th>vetoEnergy</th>\n",
       "      <th>EnergyDeposited</th>\n",
       "    </tr>\n",
       "  </thead>\n",
       "  <tbody>\n",
       "    <tr>\n",
       "      <th>0</th>\n",
       "      <td>TES-run0-rank8_nt_hits.csv</td>\n",
       "      <td>68</td>\n",
       "      <td>0.855991</td>\n",
       "      <td>3.651216</td>\n",
       "    </tr>\n",
       "    <tr>\n",
       "      <th>1</th>\n",
       "      <td>TES-run0-rank8_nt_hits.csv</td>\n",
       "      <td>399</td>\n",
       "      <td>1.593318</td>\n",
       "      <td>4.335682</td>\n",
       "    </tr>\n",
       "    <tr>\n",
       "      <th>2</th>\n",
       "      <td>TES-run0-rank8_nt_hits.csv</td>\n",
       "      <td>399</td>\n",
       "      <td>1.593318</td>\n",
       "      <td>19.365145</td>\n",
       "    </tr>\n",
       "    <tr>\n",
       "      <th>3</th>\n",
       "      <td>TES-run0-rank8_nt_hits.csv</td>\n",
       "      <td>399</td>\n",
       "      <td>1.593318</td>\n",
       "      <td>0.328699</td>\n",
       "    </tr>\n",
       "    <tr>\n",
       "      <th>4</th>\n",
       "      <td>TES-run0-rank8_nt_hits.csv</td>\n",
       "      <td>422</td>\n",
       "      <td>1.009450</td>\n",
       "      <td>0.984708</td>\n",
       "    </tr>\n",
       "    <tr>\n",
       "      <th>...</th>\n",
       "      <td>...</td>\n",
       "      <td>...</td>\n",
       "      <td>...</td>\n",
       "      <td>...</td>\n",
       "    </tr>\n",
       "    <tr>\n",
       "      <th>235441</th>\n",
       "      <td>TES-run0-rank4_nt_hits.csv</td>\n",
       "      <td>5260302</td>\n",
       "      <td>2.152235</td>\n",
       "      <td>17.020455</td>\n",
       "    </tr>\n",
       "    <tr>\n",
       "      <th>235442</th>\n",
       "      <td>TES-run0-rank4_nt_hits.csv</td>\n",
       "      <td>5261112</td>\n",
       "      <td>1.981504</td>\n",
       "      <td>0.047104</td>\n",
       "    </tr>\n",
       "    <tr>\n",
       "      <th>235443</th>\n",
       "      <td>TES-run0-rank4_nt_hits.csv</td>\n",
       "      <td>5262373</td>\n",
       "      <td>0.960517</td>\n",
       "      <td>14.168593</td>\n",
       "    </tr>\n",
       "    <tr>\n",
       "      <th>235444</th>\n",
       "      <td>TES-run0-rank4_nt_hits.csv</td>\n",
       "      <td>5263102</td>\n",
       "      <td>0.968185</td>\n",
       "      <td>0.225366</td>\n",
       "    </tr>\n",
       "    <tr>\n",
       "      <th>235445</th>\n",
       "      <td>TES-run0-rank4_nt_hits.csv</td>\n",
       "      <td>5263102</td>\n",
       "      <td>0.968185</td>\n",
       "      <td>21.108536</td>\n",
       "    </tr>\n",
       "  </tbody>\n",
       "</table>\n",
       "<p>235446 rows × 4 columns</p>\n",
       "</div>"
      ],
      "text/plain": [
       "                          Filename  EventID  vetoEnergy  EnergyDeposited\n",
       "0       TES-run0-rank8_nt_hits.csv       68    0.855991         3.651216\n",
       "1       TES-run0-rank8_nt_hits.csv      399    1.593318         4.335682\n",
       "2       TES-run0-rank8_nt_hits.csv      399    1.593318        19.365145\n",
       "3       TES-run0-rank8_nt_hits.csv      399    1.593318         0.328699\n",
       "4       TES-run0-rank8_nt_hits.csv      422    1.009450         0.984708\n",
       "...                            ...      ...         ...              ...\n",
       "235441  TES-run0-rank4_nt_hits.csv  5260302    2.152235        17.020455\n",
       "235442  TES-run0-rank4_nt_hits.csv  5261112    1.981504         0.047104\n",
       "235443  TES-run0-rank4_nt_hits.csv  5262373    0.960517        14.168593\n",
       "235444  TES-run0-rank4_nt_hits.csv  5263102    0.968185         0.225366\n",
       "235445  TES-run0-rank4_nt_hits.csv  5263102    0.968185        21.108536\n",
       "\n",
       "[235446 rows x 4 columns]"
      ]
     },
     "execution_count": 69,
     "metadata": {},
     "output_type": "execute_result"
    }
   ],
   "source": [
    "veto_and_1or2or3or4 = coincidence(veto,crystal1_2_3_4)\n",
    "veto_and_1or2or3or4"
   ]
  },
  {
   "cell_type": "code",
   "execution_count": 77,
   "metadata": {},
   "outputs": [],
   "source": [
    "def message(value, text):\n",
    "    percent = round(value*100,2)\n",
    "    print(f'{text} = {percent}%')"
   ]
  },
  {
   "cell_type": "code",
   "execution_count": 78,
   "metadata": {},
   "outputs": [
    {
     "name": "stdout",
     "output_type": "stream",
     "text": [
      "Veto and crystal1 / veto = 23.47%\n"
     ]
    }
   ],
   "source": [
    "# Veto and crystal1 \n",
    "value = len(veto_and_1)/len(veto)\n",
    "message(value, 'Veto and crystal1 / veto')"
   ]
  },
  {
   "cell_type": "code",
   "execution_count": 79,
   "metadata": {},
   "outputs": [
    {
     "name": "stdout",
     "output_type": "stream",
     "text": [
      "Crystal1 and (not Veto) / (Crystal1) = 23.48%\n"
     ]
    }
   ],
   "source": [
    "# (Not veto) and crystal1\n",
    "value = ((len(crystal1) - len(veto_and_1))/(len(crystal1)))\n",
    "message(value, 'Crystal1 and (not Veto) / (Crystal1)')"
   ]
  },
  {
   "cell_type": "code",
   "execution_count": 73,
   "metadata": {},
   "outputs": [
    {
     "name": "stdout",
     "output_type": "stream",
     "text": [
      "Veto and (Crystal1 or Crystal2) / veto = 46.8%\n"
     ]
    }
   ],
   "source": [
    "# Veto and (crystal1 or crystal2)\n",
    "value = len(veto_and_1or2)/len(veto)\n",
    "message(value, 'Veto and (Crystal1 or Crystal2) / veto')"
   ]
  },
  {
   "cell_type": "code",
   "execution_count": 74,
   "metadata": {},
   "outputs": [
    {
     "name": "stdout",
     "output_type": "stream",
     "text": [
      "(Crystal1 or Crystal2) and (not Veto) / (Crystal1 or Crystal2) = 23.4%\n"
     ]
    }
   ],
   "source": [
    "# (Not veto) and (crystal1 or crytal2)\n",
    "\n",
    "value = (len(crystal1_2)-len(veto_and_1or2))/(len(crystal1_2))\n",
    "percent = round(value*100,1)\n",
    "print(f'(Crystal1 or Crystal2) and (not Veto) / (Crystal1 or Crystal2) = {percent}%')"
   ]
  },
  {
   "cell_type": "code",
   "execution_count": 75,
   "metadata": {},
   "outputs": [
    {
     "name": "stdout",
     "output_type": "stream",
     "text": [
      "Union(1,2,3,4) and veto / veto = 94.5%\n"
     ]
    }
   ],
   "source": [
    "# Veto and union(1,2,3,4) / veto\n",
    "\n",
    "value = (len(veto_and_1or2or3or4)/len(veto))\n",
    "\n",
    "message(value, 'Union(1,2,3,4) and veto / veto')"
   ]
  },
  {
   "cell_type": "code",
   "execution_count": 76,
   "metadata": {},
   "outputs": [
    {
     "name": "stdout",
     "output_type": "stream",
     "text": [
      "Union(1,2,3,4) and (not Veto) / Union(1,2,3,4) = 24.1%\n"
     ]
    }
   ],
   "source": [
    "# (Not veto) and union(1,2,3,4)\n",
    "\n",
    "value = (len(crystal1_2_3_4)-len(veto_and_1or2or3or4))/(len(crystal1_2_3_4))\n",
    "percent = round(value*100,1)\n",
    "print(f'Union(1,2,3,4) and (not Veto) / Union(1,2,3,4) = {percent}%')"
   ]
  }
 ],
 "metadata": {
  "kernelspec": {
   "display_name": "TES",
   "language": "python",
   "name": "python3"
  },
  "language_info": {
   "codemirror_mode": {
    "name": "ipython",
    "version": 3
   },
   "file_extension": ".py",
   "mimetype": "text/x-python",
   "name": "python",
   "nbconvert_exporter": "python",
   "pygments_lexer": "ipython3",
   "version": "3.9.16"
  }
 },
 "nbformat": 4,
 "nbformat_minor": 2
}
