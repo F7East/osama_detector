{
 "metadata": {
  "language_info": {
   "codemirror_mode": {
    "name": "ipython",
    "version": 3
   },
   "file_extension": ".py",
   "mimetype": "text/x-python",
   "name": "python",
   "nbconvert_exporter": "python",
   "pygments_lexer": "ipython3",
   "version": "3.9.2-final"
  },
  "orig_nbformat": 2,
  "kernelspec": {
   "name": "python3",
   "display_name": "Python 3.9.2 64-bit ('py392': conda)",
   "metadata": {
    "interpreter": {
     "hash": "98dabe431a2c0767d4ccaacf575d44249b17094b29c6ee01a9fba0997edd4c78"
    }
   }
  }
 },
 "nbformat": 4,
 "nbformat_minor": 2,
 "cells": [
  {
   "source": [
    "# Thorium Calibration\n",
    "\n",
    "We simulate a thorium mantle attached next to the tank. We calculate the expected spectrum for the energy deposition as well as the rate of incidence."
   ],
   "cell_type": "markdown",
   "metadata": {}
  },
  {
   "cell_type": "code",
   "execution_count": 53,
   "metadata": {},
   "outputs": [],
   "source": [
    "#Include modules\n",
    "import os\n",
    "import pandas as pd\n",
    "import matplotlib.pyplot as plt\n",
    "import numpy as np\n",
    "\n",
    "from accelerate import parallel, concat\n",
    "from tqdm.notebook import tqdm\n",
    "\n",
    "%matplotlib widget"
   ]
  },
  {
   "cell_type": "code",
   "execution_count": 2,
   "metadata": {},
   "outputs": [
    {
     "output_type": "stream",
     "name": "stdout",
     "text": [
      "Found 1024 data files in ./data/run3/output\n",
      "100%|██████████| 1024/1024 [00:01<00:00, 1003.78it/s]\n"
     ]
    }
   ],
   "source": [
    "# Read the files\n",
    "\n",
    "# Parameters\n",
    "run                     = 'run3'\n",
    "header                  = ['EventID','TrackID','Particle','EnergyDeposited','XPosition','YPosition','ZPosition','LocalTime','Volume']\n",
    "\n",
    "# Find the files\n",
    "foldername  = f'./data/{run}/output'\n",
    "filenames   = os.listdir(foldername)\n",
    "\n",
    "print(f'Found {len(filenames)} data files in {foldername}')\n",
    "\n",
    "def loadFile(filename):\n",
    "    return pd.read_csv(os.path.join(foldername,filename),skiprows=14,names=header)\n",
    "\n",
    "loadFiles = parallel(loadFile)\n",
    "\n",
    "if __name__ == '__main__':\n",
    "    files = loadFiles(filenames)"
   ]
  },
  {
   "cell_type": "code",
   "execution_count": 48,
   "metadata": {},
   "outputs": [
    {
     "output_type": "stream",
     "name": "stderr",
     "text": [
      "100%|██████████| 1024/1024 [00:01<00:00, 662.33it/s]\n"
     ]
    }
   ],
   "source": [
    "# Function to extract the energy deposited per track\n",
    "def getEnergy(data):\n",
    "    return data.groupby(['EventID','TrackID','Particle'])['EnergyDeposited'].sum().reset_index()\n",
    "\n",
    "getEnergies = concat(parallel(getEnergy))\n",
    "\n",
    "# Get the deposited energies\n",
    "energy = getEnergies(files)\n",
    "\n",
    "# Split into the energy per particle\n",
    "particleEnergies = {particle:energy.loc[energy.Particle.str.contains(particle)] for particle in energy.Particle.unique()}\n",
    "\n"
   ]
  },
  {
   "cell_type": "code",
   "execution_count": 58,
   "metadata": {},
   "outputs": [
    {
     "output_type": "error",
     "ename": "ValueError",
     "evalue": "The truth value of an array with more than one element is ambiguous. Use a.any() or a.all()",
     "traceback": [
      "\u001b[0;31m---------------------------------------------------------------------------\u001b[0m",
      "\u001b[0;31mValueError\u001b[0m                                Traceback (most recent call last)",
      "\u001b[0;32m<ipython-input-58-3a443d1abf82>\u001b[0m in \u001b[0;36m<module>\u001b[0;34m\u001b[0m\n\u001b[1;32m      6\u001b[0m \u001b[0;34m\u001b[0m\u001b[0m\n\u001b[1;32m      7\u001b[0m \u001b[0max\u001b[0m\u001b[0;34m.\u001b[0m\u001b[0mset_xlim\u001b[0m\u001b[0;34m(\u001b[0m\u001b[0mbins\u001b[0m\u001b[0;34m[\u001b[0m\u001b[0;36m1\u001b[0m\u001b[0;34m]\u001b[0m\u001b[0;34m,\u001b[0m\u001b[0;36m2\u001b[0m\u001b[0;34m)\u001b[0m\u001b[0;34m\u001b[0m\u001b[0;34m\u001b[0m\u001b[0m\n\u001b[0;32m----> 8\u001b[0;31m \u001b[0max\u001b[0m\u001b[0;34m.\u001b[0m\u001b[0mset_ylim\u001b[0m\u001b[0;34m(\u001b[0m\u001b[0;36m0\u001b[0m\u001b[0;34m,\u001b[0m\u001b[0mn\u001b[0m\u001b[0;34m[\u001b[0m\u001b[0;36m1\u001b[0m\u001b[0;34m]\u001b[0m\u001b[0;34m)\u001b[0m\u001b[0;34m\u001b[0m\u001b[0;34m\u001b[0m\u001b[0m\n\u001b[0m\u001b[1;32m      9\u001b[0m \u001b[0max\u001b[0m\u001b[0;34m.\u001b[0m\u001b[0mset_xlabel\u001b[0m\u001b[0;34m(\u001b[0m\u001b[0;34m'Energy Deposited on TES Substrate during Thorium Runs [MeV]'\u001b[0m\u001b[0;34m)\u001b[0m\u001b[0;34m\u001b[0m\u001b[0;34m\u001b[0m\u001b[0m\n\u001b[1;32m     10\u001b[0m \u001b[0max\u001b[0m\u001b[0;34m.\u001b[0m\u001b[0mset_ylabel\u001b[0m\u001b[0;34m(\u001b[0m\u001b[0;34m'Density'\u001b[0m\u001b[0;34m)\u001b[0m\u001b[0;34m\u001b[0m\u001b[0;34m\u001b[0m\u001b[0m\n",
      "\u001b[0;32m~/.conda/envs/py392/lib/python3.9/site-packages/matplotlib/axes/_base.py\u001b[0m in \u001b[0;36mset_ylim\u001b[0;34m(self, bottom, top, emit, auto, ymin, ymax)\u001b[0m\n\u001b[1;32m   3874\u001b[0m                     'Invalid limit will be ignored.')\n\u001b[1;32m   3875\u001b[0m                 \u001b[0mtop\u001b[0m \u001b[0;34m=\u001b[0m \u001b[0mold_top\u001b[0m\u001b[0;34m\u001b[0m\u001b[0;34m\u001b[0m\u001b[0m\n\u001b[0;32m-> 3876\u001b[0;31m         \u001b[0;32mif\u001b[0m \u001b[0mbottom\u001b[0m \u001b[0;34m==\u001b[0m \u001b[0mtop\u001b[0m\u001b[0;34m:\u001b[0m\u001b[0;34m\u001b[0m\u001b[0;34m\u001b[0m\u001b[0m\n\u001b[0m\u001b[1;32m   3877\u001b[0m             _api.warn_external(\n\u001b[1;32m   3878\u001b[0m                 \u001b[0;34mf\"Attempting to set identical bottom == top == {bottom} \"\u001b[0m\u001b[0;34m\u001b[0m\u001b[0;34m\u001b[0m\u001b[0m\n",
      "\u001b[0;31mValueError\u001b[0m: The truth value of an array with more than one element is ambiguous. Use a.any() or a.all()"
     ]
    }
   ],
   "source": [
    "# Plot a histogram\n",
    "fig = plt.figure(figsize=(10,5))\n",
    "ax  = fig.add_subplot(111)\n",
    "stackedEnergies = np.array([particleEnergies[particle].EnergyDeposited.to_list() for particle in particle_energies])\n",
    "n,bins,_ = ax.hist(stackedEnergies, bins=700, stacked=True, density=True);\n",
    "\n",
    "ax.set_xlim(bins[1],2)\n",
    "ax.set_ylim(0,n[1])\n",
    "ax.set_xlabel('Energy Deposited on TES Substrate during Thorium Runs [MeV]')\n",
    "ax.set_ylabel('Density')\n",
    "# ax.set_yscale('log')"
   ]
  },
  {
   "cell_type": "code",
   "execution_count": null,
   "metadata": {},
   "outputs": [],
   "source": [
    "NBINS       = 700\n",
    "LIMS        = (0,2)\n",
    "bins        = np.linspace(*LIMS,NBINS)\n",
    "stackedHist = [np.histogram(particleEnergies[particle].EnergyDeposited,bins=) for particle in particle_energies]"
   ]
  }
 ]
}